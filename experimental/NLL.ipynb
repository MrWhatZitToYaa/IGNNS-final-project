{
 "cells": [
  {
   "cell_type": "code",
   "execution_count": 1,
   "metadata": {},
   "outputs": [
    {
     "name": "stdout",
     "output_type": "stream",
     "text": [
      "cuda:0\n"
     ]
    }
   ],
   "source": [
    "import torch\n",
    "import matplotlib.pyplot as plt\n",
    "import numpy as np\n",
    "import os\n",
    "import json\n",
    "from tqdm import tqdm\n",
    "\n",
    "device = torch.device(\"cuda:0\" if torch.cuda.is_available() else \"cpu\")\n",
    "print(device)"
   ]
  },
  {
   "cell_type": "code",
   "execution_count": 2,
   "metadata": {},
   "outputs": [],
   "source": [
    "from bcnf.models.cnf import CondRealNVP_v2\n",
    "from bcnf.utils import get_dir\n",
    "from bcnf.utils import load_config, load_data, sub_root_path, inn_nll_loss\n",
    "from bcnf.eval.calibration import compute_y_hat_ranks, compute_CDF_residuals\n",
    "\n",
    "from bcnf.train.trainer_data_handler import TrainerDataHandler\n",
    "from bcnf.train.utils import get_data_type"
   ]
  },
  {
   "cell_type": "markdown",
   "metadata": {},
   "source": [
    "## Model"
   ]
  },
  {
   "cell_type": "code",
   "execution_count": 3,
   "metadata": {},
   "outputs": [],
   "source": [
    "MODEL_NAME = f'trajectory_TRF_small'"
   ]
  },
  {
   "cell_type": "code",
   "execution_count": 4,
   "metadata": {},
   "outputs": [
    {
     "name": "stdout",
     "output_type": "stream",
     "text": [
      "/home/psaegert/Projects/bcnf/data/bcnf-data/fixed_data_render_2s_15FPS/test\n"
     ]
    }
   ],
   "source": [
    "with open(os.path.join(get_dir('models', 'bcnf-models', MODEL_NAME), 'config.json'), 'r') as f:\n",
    "    config = load_config(json.load(f)['config_path'])\n",
    "    config['data']['path'] = sub_root_path(config['data']['path']).replace('/train', '/test')\n",
    "    print(config['data']['path'])\n",
    "\n",
    "cnf = CondRealNVP_v2.from_config(config).to(device)\n",
    "\n",
    "cnf.load_state_dict(torch.load(os.path.join(get_dir('models', 'bcnf-models', MODEL_NAME), \"state_dict.pt\")))\n",
    "\n",
    "cnf.eval();"
   ]
  },
  {
   "cell_type": "code",
   "execution_count": 5,
   "metadata": {},
   "outputs": [
    {
     "name": "stdout",
     "output_type": "stream",
     "text": [
      "Number of parameters: 128,129\n"
     ]
    }
   ],
   "source": [
    "print(f'Number of parameters: {cnf.n_params:,}')"
   ]
  },
  {
   "cell_type": "code",
   "execution_count": 6,
   "metadata": {},
   "outputs": [],
   "source": [
    "parameter_selection = cnf.parameter_index_mapping.parameters"
   ]
  },
  {
   "cell_type": "markdown",
   "metadata": {},
   "source": [
    "## Data"
   ]
  },
  {
   "cell_type": "code",
   "execution_count": 7,
   "metadata": {},
   "outputs": [],
   "source": [
    "T = 2\n",
    "dt = 1/15"
   ]
  },
  {
   "cell_type": "code",
   "execution_count": 8,
   "metadata": {},
   "outputs": [
    {
     "name": "stderr",
     "output_type": "stream",
     "text": [
      "Loading data from directory: 100%|██████████| 1/1 [00:01<00:00,  1.32s/it, file=fixed_data_render_2s_15FPS_5.pkl]\n"
     ]
    }
   ],
   "source": [
    "data = load_data(sub_root_path(config['data']['path']).replace('/train', '/test'), verbose=True, keep_output_type='trajectories')\n",
    "# data = load_data(sub_root_path(config['data']['path']).replace('/train', '/test'), verbose=True, keep_output_type='videos')"
   ]
  },
  {
   "cell_type": "code",
   "execution_count": 9,
   "metadata": {},
   "outputs": [
    {
     "name": "stdout",
     "output_type": "stream",
     "text": [
      "y.shape=torch.Size([1000, 19])\n",
      "condition.shape=torch.Size([1000, 30, 3])\n"
     ]
    }
   ],
   "source": [
    "y, conditions = TrainerDataHandler().get_data_for_training(\n",
    "    config,\n",
    "    cnf.parameter_index_mapping,\n",
    "    dtype=get_data_type(dtype=config[\"global\"][\"dtype\"]),\n",
    "    return_tensor_dataset=False)\n",
    "\n",
    "print(f'{y.shape=}')\n",
    "for condition in conditions:\n",
    "    print(f'{condition.shape=}')"
   ]
  },
  {
   "cell_type": "markdown",
   "metadata": {},
   "source": [
    "## Code Space"
   ]
  },
  {
   "cell_type": "code",
   "execution_count": 10,
   "metadata": {},
   "outputs": [],
   "source": [
    "z = torch.empty(y.shape)\n",
    "batch_size = 32\n",
    "\n",
    "with torch.no_grad():\n",
    "    # for i in tqdm(range(0, len(y), batch_size)):\n",
    "    #     z[i:i+batch_size] = cnf.forward(y[i:i+batch_size].to(device), *[c[i:i+batch_size].to(device) for c in conditions], log_det_J=True)\n",
    "    z = cnf.forward(y.to(device), *conditions, log_det_J=True)"
   ]
  },
  {
   "cell_type": "code",
   "execution_count": 11,
   "metadata": {},
   "outputs": [
    {
     "data": {
      "text/plain": [
       "torch.Size([1000, 19])"
      ]
     },
     "execution_count": 11,
     "metadata": {},
     "output_type": "execute_result"
    }
   ],
   "source": [
    "z.shape"
   ]
  },
  {
   "cell_type": "code",
   "execution_count": 12,
   "metadata": {},
   "outputs": [
    {
     "data": {
      "text/plain": [
       "tensor(-46.1068, device='cuda:0')"
      ]
     },
     "execution_count": 12,
     "metadata": {},
     "output_type": "execute_result"
    }
   ],
   "source": [
    "inn_nll_loss(z, log_det_J=cnf.log_det_J)"
   ]
  }
 ],
 "metadata": {
  "kernelspec": {
   "display_name": "bcnf",
   "language": "python",
   "name": "python3"
  },
  "language_info": {
   "codemirror_mode": {
    "name": "ipython",
    "version": 3
   },
   "file_extension": ".py",
   "mimetype": "text/x-python",
   "name": "python",
   "nbconvert_exporter": "python",
   "pygments_lexer": "ipython3",
   "version": "3.11.8"
  }
 },
 "nbformat": 4,
 "nbformat_minor": 2
}
