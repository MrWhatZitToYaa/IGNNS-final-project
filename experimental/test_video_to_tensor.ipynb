{
 "cells": [
  {
   "cell_type": "code",
   "execution_count": 1,
   "metadata": {},
   "outputs": [],
   "source": [
    "import torch\n",
    "import torchvision.io as io"
   ]
  },
  {
   "cell_type": "code",
   "execution_count": 2,
   "metadata": {},
   "outputs": [],
   "source": [
    "def video_to_tensor(video_path: str, greyscale: bool = False):\n",
    "    # Read video frames\n",
    "    video, audio, info = io.read_video(video_path, pts_unit='sec')\n",
    "\n",
    "    if greyscale:\n",
    "        # Convert video to tensor\n",
    "        # Ensure video is grayscale (1 channel)\n",
    "        if video.shape[1] != 1:\n",
    "            raise ValueError(\"Video is not grayscale.\")\n",
    "\n",
    "        video_tensor = video.squeeze(1)  # Remove the channel dimension\n",
    "        video_tensor = video_tensor.permute(0, 2, 1)  # Swap dimensions to have (time, height, width)\n",
    "    else:\n",
    "        # Convert video to tensor\n",
    "        video_tensor = video.permute(0, 3, 1, 2)  # Swap dimensions to have (time, channels, height, width)\n",
    "\n",
    "    return video_tensor"
   ]
  },
  {
   "cell_type": "code",
   "execution_count": null,
   "metadata": {},
   "outputs": [],
   "source": [
    "# Example usage\n",
    "video_path = './videos/Ball_Bounce_Vid.mp4'\n",
    "video_tensor = video_to_tensor(video_path)\n",
    "print(video_tensor.shape)"
   ]
  }
 ],
 "metadata": {
  "kernelspec": {
   "display_name": "venv",
   "language": "python",
   "name": "python3"
  },
  "language_info": {
   "codemirror_mode": {
    "name": "ipython",
    "version": 3
   },
   "file_extension": ".py",
   "mimetype": "text/x-python",
   "name": "python",
   "nbconvert_exporter": "python",
   "pygments_lexer": "ipython3",
   "version": "3.11.0rc1"
  }
 },
 "nbformat": 4,
 "nbformat_minor": 2
}
