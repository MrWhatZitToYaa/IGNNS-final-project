{
 "cells": [
  {
   "cell_type": "code",
   "execution_count": 1,
   "metadata": {},
   "outputs": [],
   "source": [
    "from skopt.space import Real, Categorical, Integer\n",
    "import pickle\n",
    "import pandas as pd"
   ]
  },
  {
   "cell_type": "code",
   "execution_count": 2,
   "metadata": {},
   "outputs": [],
   "source": [
    "# Example search spaces\n",
    "search_spaces = {\n",
    "    'condition_size': Integer(1, 2048),\n",
    "    'model_hidden_size': Integer(32, 256),\n",
    "    'model_n_blocks': Integer(1, 64),\n",
    "    'model_act_norm': Categorical([True, False]),\n",
    "    'feature_network_hidden_size': Integer(16, 2048),\n",
    "    'feature_network_hidden_layers': Integer(0, 16),\n",
    "    'feature_network_dropout': Real(0, 0.5),\n",
    "}"
   ]
  },
  {
   "cell_type": "code",
   "execution_count": 3,
   "metadata": {},
   "outputs": [],
   "source": [
    "checkpoint_file = 'checkpoint.pkl'"
   ]
  },
  {
   "cell_type": "code",
   "execution_count": 4,
   "metadata": {},
   "outputs": [],
   "source": [
    "with open(checkpoint_file, 'rb') as f:\n",
    "    checkpoint = pickle.load(f, errors='ignore')"
   ]
  },
  {
   "cell_type": "code",
   "execution_count": 5,
   "metadata": {},
   "outputs": [],
   "source": [
    "rows = [params + [value] for params, value in zip(checkpoint['x_iters'], checkpoint['func_vals'])]"
   ]
  },
  {
   "cell_type": "code",
   "execution_count": 6,
   "metadata": {},
   "outputs": [],
   "source": [
    "hyper_df = pd.DataFrame(rows, columns=list(search_spaces.keys()) + ['val_loss_upper_bound'])\n",
    "\n",
    "# Set all columns in 'loss' that are =100 to nan\n",
    "hyper_df.loc[hyper_df['val_loss_upper_bound'] == 100, 'val_loss_upper_bound'] = None"
   ]
  },
  {
   "cell_type": "code",
   "execution_count": 7,
   "metadata": {},
   "outputs": [
    {
     "data": {
      "text/html": [
       "<div>\n",
       "<style scoped>\n",
       "    .dataframe tbody tr th:only-of-type {\n",
       "        vertical-align: middle;\n",
       "    }\n",
       "\n",
       "    .dataframe tbody tr th {\n",
       "        vertical-align: top;\n",
       "    }\n",
       "\n",
       "    .dataframe thead th {\n",
       "        text-align: right;\n",
       "    }\n",
       "</style>\n",
       "<table border=\"1\" class=\"dataframe\">\n",
       "  <thead>\n",
       "    <tr style=\"text-align: right;\">\n",
       "      <th></th>\n",
       "      <th>condition_size</th>\n",
       "      <th>model_hidden_size</th>\n",
       "      <th>model_n_blocks</th>\n",
       "      <th>model_act_norm</th>\n",
       "      <th>feature_network_hidden_size</th>\n",
       "      <th>feature_network_hidden_layers</th>\n",
       "      <th>feature_network_dropout</th>\n",
       "      <th>val_loss_upper_bound</th>\n",
       "    </tr>\n",
       "  </thead>\n",
       "  <tbody>\n",
       "    <tr>\n",
       "      <th>0</th>\n",
       "      <td>1632</td>\n",
       "      <td>73</td>\n",
       "      <td>50</td>\n",
       "      <td>True</td>\n",
       "      <td>922</td>\n",
       "      <td>2</td>\n",
       "      <td>0.229624</td>\n",
       "      <td>NaN</td>\n",
       "    </tr>\n",
       "    <tr>\n",
       "      <th>1</th>\n",
       "      <td>684</td>\n",
       "      <td>64</td>\n",
       "      <td>42</td>\n",
       "      <td>False</td>\n",
       "      <td>1483</td>\n",
       "      <td>15</td>\n",
       "      <td>0.000389</td>\n",
       "      <td>NaN</td>\n",
       "    </tr>\n",
       "  </tbody>\n",
       "</table>\n",
       "</div>"
      ],
      "text/plain": [
       "   condition_size  model_hidden_size  model_n_blocks  model_act_norm  \\\n",
       "0            1632                 73              50            True   \n",
       "1             684                 64              42           False   \n",
       "\n",
       "   feature_network_hidden_size  feature_network_hidden_layers  \\\n",
       "0                          922                              2   \n",
       "1                         1483                             15   \n",
       "\n",
       "   feature_network_dropout  val_loss_upper_bound  \n",
       "0                 0.229624                   NaN  \n",
       "1                 0.000389                   NaN  "
      ]
     },
     "execution_count": 7,
     "metadata": {},
     "output_type": "execute_result"
    }
   ],
   "source": [
    "hyper_df"
   ]
  }
 ],
 "metadata": {
  "kernelspec": {
   "display_name": "bcnf",
   "language": "python",
   "name": "python3"
  },
  "language_info": {
   "codemirror_mode": {
    "name": "ipython",
    "version": 3
   },
   "file_extension": ".py",
   "mimetype": "text/x-python",
   "name": "python",
   "nbconvert_exporter": "python",
   "pygments_lexer": "ipython3",
   "version": "3.11.8"
  }
 },
 "nbformat": 4,
 "nbformat_minor": 2
}
