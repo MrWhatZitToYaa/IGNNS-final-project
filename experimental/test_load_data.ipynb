{
 "cells": [
  {
   "cell_type": "code",
   "execution_count": 1,
   "metadata": {},
   "outputs": [],
   "source": [
    "import os\n",
    "import pickle\n",
    "from tqdm import tqdm"
   ]
  },
  {
   "cell_type": "code",
   "execution_count": 2,
   "metadata": {},
   "outputs": [],
   "source": [
    "def load_data(path: str, keep_output_type: str | None = None, verbose: bool = False, errors: str = 'raise') -> dict[str, list]:\n",
    "    \"\"\"\n",
    "    Load data from a file or directory of files\n",
    "\n",
    "    Parameters\n",
    "    ----------\n",
    "    path : str\n",
    "        The path to the file or directory of files\n",
    "    keep_output_type : str, optional\n",
    "        The type of the output, by default None (all types are kept)\n",
    "    verbose : bool, optional\n",
    "        Whether to show a progress bar, by default False\n",
    "\n",
    "    Returns\n",
    "    -------\n",
    "    dict\n",
    "        A dictionary of the data\n",
    "    \"\"\"\n",
    "    equivalent_keys = {\n",
    "        'trajectories': ['traj'],\n",
    "        'videos': ['render'],\n",
    "    }\n",
    "\n",
    "    if os.path.isfile(path):\n",
    "        if verbose:\n",
    "            print('Loading data from file...')\n",
    "        with open(path, 'rb') as file:\n",
    "            data = pickle.load(file)\n",
    "    else:\n",
    "        data = {}\n",
    "        pbar = tqdm(desc='Loading data for directory', disable=not verbose, total=sum([len(files) for _, _, files in os.walk(path)]))\n",
    "        for root, _, files in os.walk(path):\n",
    "            for file in sorted(files):\n",
    "                pbar.set_postfix(file=file)\n",
    "                # Read the file\n",
    "                with open(os.path.join(root, file), 'rb') as f:\n",
    "                    file_data = pickle.load(f)\n",
    "    \n",
    "                    # Rename the keys to their canonical names\n",
    "                    for key, equivalent in equivalent_keys.items():\n",
    "                        for e in equivalent:\n",
    "                            if e in file_data:\n",
    "                                file_data[key] = file_data.pop(e)\n",
    "\n",
    "                    # Add the data to the dictionary\n",
    "                    for key, value in file_data.items():\n",
    "                        if key not in data:\n",
    "                            data[key] = []\n",
    "                        data[key].extend(value)\n",
    "                pbar.update(1)\n",
    "\n",
    "    # Keep only the specified output type (given that it is a key of equivalent_keys)\n",
    "    if keep_output_type is not None and keep_output_type in equivalent_keys:\n",
    "        for key in equivalent_keys.keys():\n",
    "\n",
    "            # Remove every key that is not specified\n",
    "            if key != keep_output_type and key in data:\n",
    "                data.pop(key)\n",
    "\n",
    "    # Check if all values have equal length\n",
    "    value_lengths = [len(v) for v in data.values()]\n",
    "    if len(set(value_lengths)) != 1:\n",
    "        if errors == 'raise':\n",
    "            raise ValueError(f'All values of the key \"{key}\" must have the same length')\n",
    "        elif errors in ['print', 'warn']:\n",
    "            print(f'Warning: All values of the key \"{key}\" must have the same length')\n",
    "        elif errors == 'ignore':\n",
    "            pass\n",
    "\n",
    "    return data"
   ]
  },
  {
   "cell_type": "code",
   "execution_count": 3,
   "metadata": {},
   "outputs": [],
   "source": [
    "from bcnf.utils import get_dir"
   ]
  },
  {
   "cell_type": "code",
   "execution_count": 4,
   "metadata": {},
   "outputs": [
    {
     "name": "stderr",
     "output_type": "stream",
     "text": [
      "Loading data for directory: 100%|██████████| 5/5 [00:22<00:00,  4.40s/it, file=fixed_data_render_2s_15FPS_5.pkl]\n"
     ]
    }
   ],
   "source": [
    "data = load_data(get_dir('data', 'bcnf-data', 'fixed_data_render_2s_15FPS'), keep_output_type='trajectories', verbose=True)"
   ]
  }
 ],
 "metadata": {
  "kernelspec": {
   "display_name": "bcnf",
   "language": "python",
   "name": "python3"
  },
  "language_info": {
   "codemirror_mode": {
    "name": "ipython",
    "version": 3
   },
   "file_extension": ".py",
   "mimetype": "text/x-python",
   "name": "python",
   "nbconvert_exporter": "python",
   "pygments_lexer": "ipython3",
   "version": "3.11.8"
  }
 },
 "nbformat": 4,
 "nbformat_minor": 2
}
