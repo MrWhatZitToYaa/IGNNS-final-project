{
 "cells": [
  {
   "cell_type": "code",
   "execution_count": 1,
   "metadata": {},
   "outputs": [],
   "source": [
    "import joblib\n",
    "from skopt.optimizer import gp_minimize\n",
    "from sklearn.ensemble import RandomForestRegressor\n",
    "from sklearn.datasets import load_digits\n",
    "from sklearn.model_selection import train_test_split\n",
    "from skopt.space import Real, Categorical, Integer\n",
    "import os\n",
    "\n",
    "import pickle\n",
    "\n",
    "import numpy as np"
   ]
  },
  {
   "cell_type": "code",
   "execution_count": 2,
   "metadata": {},
   "outputs": [],
   "source": [
    "np.int = np.int64"
   ]
  },
  {
   "cell_type": "code",
   "execution_count": 3,
   "metadata": {},
   "outputs": [],
   "source": [
    "# Example search spaces\n",
    "search_spaces = {\n",
    "    'n_estimators': Integer(1, 10),\n",
    "    'max_depth': Integer(1, 100),\n",
    "    'min_samples_split': Integer(2, 10),\n",
    "    'min_samples_leaf': Integer(1, 10),\n",
    "    'bootstrap': Categorical([True, False]),\n",
    "}\n",
    "\n",
    "# Load dataset for demonstration\n",
    "X, y = load_digits(return_X_y=True)\n",
    "X_train, X_test, y_train, y_test = train_test_split(X, y, test_size=0.2, random_state=42)"
   ]
  },
  {
   "cell_type": "code",
   "execution_count": 4,
   "metadata": {},
   "outputs": [],
   "source": [
    "# Check if a checkpoint exists\n",
    "checkpoint_file = 'checkpoint.pkl'"
   ]
  },
  {
   "cell_type": "code",
   "execution_count": 5,
   "metadata": {},
   "outputs": [],
   "source": [
    "# Define the scoring function\n",
    "def scoring_function(params):\n",
    "    # TODO: implement Cross-Validation here\n",
    "    model = RandomForestRegressor(\n",
    "        n_estimators=params[0],\n",
    "        max_depth=params[1],\n",
    "        min_samples_split=params[2],\n",
    "        min_samples_leaf=params[3],\n",
    "        bootstrap=params[4]\n",
    "    )\n",
    "    model.fit(X_train, y_train)\n",
    "    return -model.score(X_test, y_test)"
   ]
  },
  {
   "cell_type": "code",
   "execution_count": 6,
   "metadata": {},
   "outputs": [],
   "source": [
    "# Define a callback function to save the results\n",
    "def save_checkpoint(res):\n",
    "    with open(checkpoint_file, 'wb') as f:\n",
    "        pickle.dump(res, f)"
   ]
  },
  {
   "cell_type": "code",
   "execution_count": 7,
   "metadata": {},
   "outputs": [],
   "source": [
    "N_CALLS = 100"
   ]
  },
  {
   "cell_type": "code",
   "execution_count": 8,
   "metadata": {},
   "outputs": [
    {
     "name": "stdout",
     "output_type": "stream",
     "text": [
      "Resuming from checkpoint.\n",
      "Iteration No: 1 started. Evaluating function at random point.\n",
      "Iteration No: 1 ended. Evaluation done at random point.\n",
      "Time taken: 0.0010\n",
      "Function value obtained: -0.7834\n",
      "Current minimum: -0.8255\n",
      "Iteration No: 2 started. Evaluating function at random point.\n",
      "Iteration No: 2 ended. Evaluation done at random point.\n",
      "Time taken: 0.0748\n",
      "Function value obtained: -0.6730\n",
      "Current minimum: -0.8255\n",
      "Iteration No: 3 started. Evaluating function at random point.\n",
      "Iteration No: 3 ended. Evaluation done at random point.\n",
      "Time taken: 0.0153\n",
      "Function value obtained: -0.7277\n",
      "Current minimum: -0.8255\n",
      "Iteration No: 4 started. Evaluating function at random point.\n",
      "Iteration No: 4 ended. Evaluation done at random point.\n",
      "Time taken: 0.0148\n",
      "Function value obtained: -0.5795\n",
      "Current minimum: -0.8255\n",
      "Iteration No: 5 started. Evaluating function at random point.\n",
      "Iteration No: 5 ended. Evaluation done at random point.\n",
      "Time taken: 0.0497\n",
      "Function value obtained: -0.8191\n",
      "Current minimum: -0.8255\n",
      "Iteration No: 6 started. Evaluating function at random point.\n",
      "Iteration No: 6 ended. Evaluation done at random point.\n",
      "Time taken: 0.0349\n",
      "Function value obtained: -0.5766\n",
      "Current minimum: -0.8255\n",
      "Iteration No: 7 started. Evaluating function at random point.\n"
     ]
    },
    {
     "name": "stdout",
     "output_type": "stream",
     "text": [
      "Iteration No: 7 ended. Evaluation done at random point.\n",
      "Time taken: 0.0446\n",
      "Function value obtained: -0.7532\n",
      "Current minimum: -0.8255\n",
      "Iteration No: 8 started. Evaluating function at random point.\n",
      "Iteration No: 8 ended. Evaluation done at random point.\n",
      "Time taken: 0.0409\n",
      "Function value obtained: -0.6842\n",
      "Current minimum: -0.8255\n",
      "Iteration No: 9 started. Evaluating function at random point.\n",
      "Iteration No: 9 ended. Evaluation done at random point.\n",
      "Time taken: 0.0119\n",
      "Function value obtained: -0.4538\n",
      "Current minimum: -0.8255\n",
      "Iteration No: 10 started. Evaluating function at random point.\n",
      "Iteration No: 10 ended. Evaluation done at random point.\n",
      "Time taken: 0.0561\n",
      "Function value obtained: -0.6549\n",
      "Current minimum: -0.8255\n",
      "Iteration No: 11 started. Evaluating function at random point.\n",
      "Iteration No: 11 ended. Evaluation done at random point.\n",
      "Time taken: 0.6187\n",
      "Function value obtained: -0.6727\n",
      "Current minimum: -0.8255\n",
      "Iteration No: 12 started. Evaluating function at random point.\n",
      "Iteration No: 12 ended. Evaluation done at random point.\n",
      "Time taken: 0.8039\n",
      "Function value obtained: -0.8174\n",
      "Current minimum: -0.8255\n",
      "Iteration No: 13 started. Evaluating function at random point.\n",
      "Iteration No: 13 ended. Evaluation done at random point.\n",
      "Time taken: 0.5616\n",
      "Function value obtained: -0.7751\n",
      "Current minimum: -0.8255\n",
      "Iteration No: 14 started. Evaluating function at random point.\n",
      "Iteration No: 14 ended. Evaluation done at random point.\n",
      "Time taken: 0.4796\n",
      "Function value obtained: -0.7590\n",
      "Current minimum: -0.8255\n",
      "Iteration No: 15 started. Evaluating function at random point.\n",
      "Iteration No: 15 ended. Evaluation done at random point.\n",
      "Time taken: 0.5238\n",
      "Function value obtained: -0.7108\n",
      "Current minimum: -0.8255\n",
      "Iteration No: 16 started. Evaluating function at random point.\n"
     ]
    },
    {
     "name": "stderr",
     "output_type": "stream",
     "text": [
      "/home/psaegert/miniconda3/envs/bcnf/lib/python3.11/site-packages/skopt/optimizer/optimizer.py:449: UserWarning: The objective has been evaluated at this point before.\n",
      "  warnings.warn(\"The objective has been evaluated \"\n"
     ]
    },
    {
     "name": "stdout",
     "output_type": "stream",
     "text": [
      "Iteration No: 16 ended. Evaluation done at random point.\n",
      "Time taken: 0.5574\n",
      "Function value obtained: -0.8204\n",
      "Current minimum: -0.8255\n",
      "Iteration No: 17 started. Evaluating function at random point.\n",
      "Iteration No: 17 ended. Evaluation done at random point.\n",
      "Time taken: 0.6873\n",
      "Function value obtained: -0.7899\n",
      "Current minimum: -0.8255\n",
      "Iteration No: 18 started. Evaluating function at random point.\n",
      "Iteration No: 18 ended. Evaluation done at random point.\n",
      "Time taken: 0.7329\n",
      "Function value obtained: -0.7972\n",
      "Current minimum: -0.8255\n",
      "Iteration No: 19 started. Evaluating function at random point.\n",
      "Iteration No: 19 ended. Evaluation done at random point.\n",
      "Time taken: 0.6737\n",
      "Function value obtained: -0.8166\n",
      "Current minimum: -0.8255\n",
      "Iteration No: 20 started. Evaluating function at random point.\n",
      "Iteration No: 20 ended. Evaluation done at random point.\n",
      "Time taken: 0.6327\n",
      "Function value obtained: -0.7731\n",
      "Current minimum: -0.8255\n",
      "Iteration No: 21 started. Evaluating function at random point.\n",
      "Iteration No: 21 ended. Evaluation done at random point.\n",
      "Time taken: 0.7903\n",
      "Function value obtained: -0.8244\n",
      "Current minimum: -0.8255\n",
      "Iteration No: 22 started. Evaluating function at random point.\n"
     ]
    },
    {
     "name": "stderr",
     "output_type": "stream",
     "text": [
      "/home/psaegert/miniconda3/envs/bcnf/lib/python3.11/site-packages/skopt/optimizer/optimizer.py:449: UserWarning: The objective has been evaluated at this point before.\n",
      "  warnings.warn(\"The objective has been evaluated \"\n"
     ]
    },
    {
     "name": "stdout",
     "output_type": "stream",
     "text": [
      "Iteration No: 22 ended. Evaluation done at random point.\n",
      "Time taken: 0.6566\n",
      "Function value obtained: -0.7914\n",
      "Current minimum: -0.8255\n",
      "Iteration No: 23 started. Evaluating function at random point.\n",
      "Iteration No: 23 ended. Evaluation done at random point.\n",
      "Time taken: 0.6361\n",
      "Function value obtained: -0.7432\n",
      "Current minimum: -0.8255\n",
      "Iteration No: 24 started. Evaluating function at random point.\n"
     ]
    },
    {
     "name": "stderr",
     "output_type": "stream",
     "text": [
      "/home/psaegert/miniconda3/envs/bcnf/lib/python3.11/site-packages/skopt/optimizer/optimizer.py:449: UserWarning: The objective has been evaluated at this point before.\n",
      "  warnings.warn(\"The objective has been evaluated \"\n"
     ]
    },
    {
     "name": "stdout",
     "output_type": "stream",
     "text": [
      "Iteration No: 24 ended. Evaluation done at random point.\n",
      "Time taken: 0.7340\n",
      "Function value obtained: -0.7850\n",
      "Current minimum: -0.8255\n",
      "Iteration No: 25 started. Evaluating function at random point.\n",
      "Iteration No: 25 ended. Evaluation done at random point.\n",
      "Time taken: 0.7106\n",
      "Function value obtained: -0.7938\n",
      "Current minimum: -0.8255\n",
      "Iteration No: 26 started. Evaluating function at random point.\n",
      "Iteration No: 26 ended. Evaluation done at random point.\n",
      "Time taken: 0.6812\n",
      "Function value obtained: -0.7977\n",
      "Current minimum: -0.8255\n",
      "Iteration No: 27 started. Evaluating function at random point.\n",
      "Iteration No: 27 ended. Evaluation done at random point.\n",
      "Time taken: 0.6886\n",
      "Function value obtained: -0.8214\n",
      "Current minimum: -0.8255\n",
      "Iteration No: 28 started. Evaluating function at random point.\n"
     ]
    },
    {
     "name": "stderr",
     "output_type": "stream",
     "text": [
      "/home/psaegert/miniconda3/envs/bcnf/lib/python3.11/site-packages/skopt/optimizer/optimizer.py:449: UserWarning: The objective has been evaluated at this point before.\n",
      "  warnings.warn(\"The objective has been evaluated \"\n"
     ]
    },
    {
     "name": "stdout",
     "output_type": "stream",
     "text": [
      "Iteration No: 28 ended. Evaluation done at random point.\n",
      "Time taken: 0.8286\n",
      "Function value obtained: -0.7872\n",
      "Current minimum: -0.8255\n",
      "Iteration No: 29 started. Evaluating function at random point.\n",
      "Iteration No: 29 ended. Evaluation done at random point.\n",
      "Time taken: 0.7449\n",
      "Function value obtained: -0.7775\n",
      "Current minimum: -0.8255\n",
      "Iteration No: 30 started. Evaluating function at random point.\n",
      "Iteration No: 30 ended. Evaluation done at random point.\n",
      "Time taken: 0.9196\n",
      "Function value obtained: -0.7860\n",
      "Current minimum: -0.8255\n",
      "Iteration No: 31 started. Evaluating function at random point.\n",
      "Iteration No: 31 ended. Evaluation done at random point.\n",
      "Time taken: 0.8739\n",
      "Function value obtained: -0.8100\n",
      "Current minimum: -0.8255\n",
      "Iteration No: 32 started. Evaluating function at random point.\n",
      "Iteration No: 32 ended. Evaluation done at random point.\n",
      "Time taken: 0.8356\n",
      "Function value obtained: -0.8248\n",
      "Current minimum: -0.8255\n",
      "Iteration No: 33 started. Evaluating function at random point.\n",
      "Iteration No: 33 ended. Evaluation done at random point.\n",
      "Time taken: 0.9851\n",
      "Function value obtained: -0.8034\n",
      "Current minimum: -0.8255\n",
      "Iteration No: 34 started. Evaluating function at random point.\n",
      "Iteration No: 34 ended. Evaluation done at random point.\n",
      "Time taken: 0.8654\n",
      "Function value obtained: -0.7966\n",
      "Current minimum: -0.8255\n",
      "Iteration No: 35 started. Evaluating function at random point.\n",
      "Iteration No: 35 ended. Evaluation done at random point.\n",
      "Time taken: 0.9256\n",
      "Function value obtained: -0.8291\n",
      "Current minimum: -0.8291\n",
      "Iteration No: 36 started. Evaluating function at random point.\n"
     ]
    },
    {
     "name": "stderr",
     "output_type": "stream",
     "text": [
      "/home/psaegert/miniconda3/envs/bcnf/lib/python3.11/site-packages/skopt/optimizer/optimizer.py:449: UserWarning: The objective has been evaluated at this point before.\n",
      "  warnings.warn(\"The objective has been evaluated \"\n"
     ]
    },
    {
     "name": "stdout",
     "output_type": "stream",
     "text": [
      "Iteration No: 36 ended. Evaluation done at random point.\n",
      "Time taken: 0.8417\n",
      "Function value obtained: -0.7955\n",
      "Current minimum: -0.8291\n",
      "Iteration No: 37 started. Evaluating function at random point.\n",
      "Iteration No: 37 ended. Evaluation done at random point.\n",
      "Time taken: 0.6978\n",
      "Function value obtained: -0.7111\n",
      "Current minimum: -0.8291\n",
      "Iteration No: 38 ended. Evaluation done at random point.\n",
      "Time taken: 1.4980\n",
      "Function value obtained: -0.7779\n",
      "Current minimum: -0.8291\n"
     ]
    }
   ],
   "source": [
    "\n",
    "try:\n",
    "    with open(checkpoint_file, 'rb') as f:\n",
    "        res = pickle.load(f)\n",
    "    print(\"Resuming from checkpoint.\")\n",
    "except FileNotFoundError:\n",
    "    res = None\n",
    "    print(\"Starting a new optimization.\")\n",
    "\n",
    "# Start or resume the optimization\n",
    "if res is None:\n",
    "    res = gp_minimize(\n",
    "        func=scoring_function,\n",
    "        dimensions=search_spaces.values(),\n",
    "        n_initial_points=10,\n",
    "        n_calls=N_CALLS,\n",
    "        random_state=42,\n",
    "        verbose=True,\n",
    "        callback=save_checkpoint)\n",
    "else:\n",
    "    # Use the last point as the starting point for resuming\n",
    "    last_point = res.x_iters[-1]\n",
    "    # You might want to adjust the n_calls or other parameters based on the checkpoint\n",
    "    res = gp_minimize(\n",
    "        func=scoring_function,\n",
    "        dimensions=search_spaces.values(),\n",
    "        n_initial_points=10,\n",
    "        n_calls=N_CALLS - len(res.x_iters),\n",
    "        random_state=42,\n",
    "        verbose=True,\n",
    "        callback=save_checkpoint,\n",
    "        x0 = res.x_iters,\n",
    "        y0 = res.func_vals)\n",
    "\n",
    "# Save the checkpoint after each iteration or at the end of the optimization\n",
    "with open(checkpoint_file, 'wb') as f:\n",
    "    pickle.dump(res, f)"
   ]
  },
  {
   "cell_type": "code",
   "execution_count": 11,
   "metadata": {},
   "outputs": [],
   "source": [
    "import matplotlib.pyplot as plt"
   ]
  },
  {
   "cell_type": "code",
   "execution_count": 13,
   "metadata": {},
   "outputs": [],
   "source": [
    "# Save the checkpoint after each iteration or at the end of the optimization\n",
    "with open(checkpoint_file, 'wb') as f:\n",
    "    pickle.dump(res, f)"
   ]
  },
  {
   "cell_type": "code",
   "execution_count": 14,
   "metadata": {},
   "outputs": [
    {
     "data": {
      "text/plain": [
       "[<matplotlib.lines.Line2D at 0x7fd77e78c650>]"
      ]
     },
     "execution_count": 14,
     "metadata": {},
     "output_type": "execute_result"
    },
    {
     "data": {
      "image/png": "[encoded data removed]",
      "text/plain": [
       "<Figure size 640x480 with 1 Axes>"
      ]
     },
     "metadata": {},
     "output_type": "display_data"
    }
   ],
   "source": [
    "plt.plot(res.func_vals)"
   ]
  }
 ],
 "metadata": {
  "kernelspec": {
   "display_name": "bcnf",
   "language": "python",
   "name": "python3"
  },
  "language_info": {
   "codemirror_mode": {
    "name": "ipython",
    "version": 3
   },
   "file_extension": ".py",
   "mimetype": "text/x-python",
   "name": "python",
   "nbconvert_exporter": "python",
   "pygments_lexer": "ipython3",
   "version": "3.11.8"
  }
 },
 "nbformat": 4,
 "nbformat_minor": 2
}
