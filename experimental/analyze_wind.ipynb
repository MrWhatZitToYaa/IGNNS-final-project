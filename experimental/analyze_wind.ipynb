{
 "cells": [
  {
   "cell_type": "code",
   "execution_count": 1,
   "metadata": {},
   "outputs": [
    {
     "name": "stdout",
     "output_type": "stream",
     "text": [
      "cuda:0\n"
     ]
    }
   ],
   "source": [
    "import torch\n",
    "import matplotlib.pyplot as plt\n",
    "import numpy as np\n",
    "import os\n",
    "import json\n",
    "from tqdm import tqdm\n",
    "\n",
    "device = torch.device(\"cuda:0\" if torch.cuda.is_available() else \"cpu\")\n",
    "print(device)"
   ]
  },
  {
   "cell_type": "code",
   "execution_count": 2,
   "metadata": {},
   "outputs": [],
   "source": [
    "from bcnf.models.cnf import CondRealNVP_v2\n",
    "from bcnf.utils import get_dir\n",
    "from bcnf.utils import load_config, load_data, sub_root_path, inn_nll_loss\n",
    "from bcnf.eval.calibration import compute_y_hat_ranks, compute_CDF_residuals\n",
    "\n",
    "from bcnf.train.trainer_data_handler import TrainerDataHandler\n",
    "from bcnf.train.utils import get_data_type"
   ]
  },
  {
   "cell_type": "markdown",
   "metadata": {},
   "source": [
    "## Model"
   ]
  },
  {
   "cell_type": "code",
   "execution_count": 3,
   "metadata": {},
   "outputs": [],
   "source": [
    "MODEL_NAME = f'trajectory_TRF_small'"
   ]
  },
  {
   "cell_type": "code",
   "execution_count": 4,
   "metadata": {},
   "outputs": [
    {
     "name": "stdout",
     "output_type": "stream",
     "text": [
      "/home/psaegert/Projects/bcnf/data/bcnf-data/fixed_data_render_2s_15FPS/test\n"
     ]
    }
   ],
   "source": [
    "with open(os.path.join(get_dir('models', 'bcnf-models', MODEL_NAME), 'config.json'), 'r') as f:\n",
    "    config = load_config(json.load(f)['config_path'])\n",
    "    config['data']['path'] = sub_root_path(config['data']['path']).replace('/train', '/test')\n",
    "    print(config['data']['path'])\n",
    "\n",
    "cnf = CondRealNVP_v2.from_config(config).to(device)\n",
    "\n",
    "cnf.load_state_dict(torch.load(os.path.join(get_dir('models', 'bcnf-models', MODEL_NAME), \"state_dict.pt\")))\n",
    "\n",
    "cnf.eval();"
   ]
  },
  {
   "cell_type": "code",
   "execution_count": 5,
   "metadata": {},
   "outputs": [
    {
     "name": "stdout",
     "output_type": "stream",
     "text": [
      "Number of parameters: 128,129\n"
     ]
    }
   ],
   "source": [
    "print(f'Number of parameters: {cnf.n_params:,}')"
   ]
  },
  {
   "cell_type": "code",
   "execution_count": 6,
   "metadata": {},
   "outputs": [],
   "source": [
    "parameter_selection = cnf.parameter_index_mapping.parameters"
   ]
  },
  {
   "cell_type": "markdown",
   "metadata": {},
   "source": [
    "## Data"
   ]
  },
  {
   "cell_type": "code",
   "execution_count": 7,
   "metadata": {},
   "outputs": [],
   "source": [
    "T = 2\n",
    "dt = 1/15"
   ]
  },
  {
   "cell_type": "code",
   "execution_count": 8,
   "metadata": {},
   "outputs": [
    {
     "name": "stderr",
     "output_type": "stream",
     "text": [
      "Loading data from directory: 100%|██████████| 1/1 [00:18<00:00, 18.58s/it, file=fixed_data_render_2s_15FPS_5.pkl]\n"
     ]
    }
   ],
   "source": [
    "data = load_data(sub_root_path(config['data']['path']).replace('/train', '/test'), verbose=True, keep_output_type='trajectories')\n",
    "# data = load_data(sub_root_path(config['data']['path']).replace('/train', '/test'), verbose=True, keep_output_type='videos')"
   ]
  },
  {
   "cell_type": "code",
   "execution_count": 9,
   "metadata": {},
   "outputs": [
    {
     "name": "stdout",
     "output_type": "stream",
     "text": [
      "y.shape=torch.Size([1000, 19])\n",
      "condition.shape=torch.Size([1000, 30, 3])\n"
     ]
    }
   ],
   "source": [
    "y, conditions = TrainerDataHandler().get_data_for_training(\n",
    "    config,\n",
    "    cnf.parameter_index_mapping,\n",
    "    dtype=get_data_type(dtype=config[\"global\"][\"dtype\"]),\n",
    "    return_tensor_dataset=False)\n",
    "\n",
    "print(f'{y.shape=}')\n",
    "for condition in conditions:\n",
    "    print(f'{condition.shape=}')"
   ]
  },
  {
   "cell_type": "code",
   "execution_count": 20,
   "metadata": {},
   "outputs": [
    {
     "data": {
      "text/plain": [
       "{'x0_x': tensor(-11.2364, device='cuda:0'),\n",
       " 'x0_y': tensor(9.0433, device='cuda:0'),\n",
       " 'x0_z': tensor(2.2730, device='cuda:0'),\n",
       " 'v0_x': tensor(13.6815, device='cuda:0'),\n",
       " 'v0_y': tensor(-3.3400, device='cuda:0'),\n",
       " 'v0_z': tensor(9.6067, device='cuda:0'),\n",
       " 'g': tensor(-9.6333, device='cuda:0'),\n",
       " 'w_x': tensor(2.5367, device='cuda:0'),\n",
       " 'w_y': tensor(-3.7914, device='cuda:0'),\n",
       " 'w_z': tensor(-1.1655, device='cuda:0'),\n",
       " 'b': tensor(0.0003, device='cuda:0'),\n",
       " 'm': tensor(0.1260, device='cuda:0'),\n",
       " 'a_x': tensor(0., device='cuda:0'),\n",
       " 'a_y': tensor(-0., device='cuda:0'),\n",
       " 'a_z': tensor(0., device='cuda:0'),\n",
       " 'r': tensor(0.0316, device='cuda:0'),\n",
       " 'A': tensor(0.0031, device='cuda:0'),\n",
       " 'Cd': tensor(0.0584, device='cuda:0'),\n",
       " 'rho': tensor(1.4308, device='cuda:0')}"
      ]
     },
     "execution_count": 20,
     "metadata": {},
     "output_type": "execute_result"
    }
   ],
   "source": [
    "y_0_dict = cnf.parameter_index_mapping.dictify(y[1])\n",
    "y_0_dict"
   ]
  },
  {
   "cell_type": "code",
   "execution_count": 21,
   "metadata": {},
   "outputs": [],
   "source": [
    "def wind_acceleration(rho, Cd, r, m, w_x, w_y, w_z):\n",
    "    A = np.pi * r**2\n",
    "    Fd = 0.5 * rho * Cd * A * (w_x**2 + w_y**2 + w_z**2)\n",
    "    return (Fd) / m"
   ]
  },
  {
   "cell_type": "code",
   "execution_count": 22,
   "metadata": {},
   "outputs": [
    {
     "data": {
      "text/plain": [
       "tensor(0.0231, device='cuda:0')"
      ]
     },
     "execution_count": 22,
     "metadata": {},
     "output_type": "execute_result"
    }
   ],
   "source": [
    "wind_acceleration(y_0_dict['rho'], y_0_dict['Cd'], y_0_dict['r'], y_0_dict['m'], y_0_dict['w_x'], y_0_dict['w_y'], y_0_dict['w_z'])"
   ]
  },
  {
   "cell_type": "code",
   "execution_count": 28,
   "metadata": {},
   "outputs": [
    {
     "data": {
      "text/plain": [
       "tensor(0.3033, device='cuda:0')"
      ]
     },
     "execution_count": 28,
     "metadata": {},
     "output_type": "execute_result"
    }
   ],
   "source": [
    "wind_acceleration(y_0_dict['rho'], y_0_dict['Cd'], y_0_dict['r'], y_0_dict['m'], y_0_dict['v0_x'], y_0_dict['v0_y'], y_0_dict['v0_z'])"
   ]
  },
  {
   "cell_type": "code",
   "execution_count": 27,
   "metadata": {},
   "outputs": [
    {
     "name": "stdout",
     "output_type": "stream",
     "text": [
      "v_0 [km/h]: 61.37\n"
     ]
    }
   ],
   "source": [
    "# Determine the magnitude of the initial velocity\n",
    "v_0 = torch.sqrt(y_0_dict['v0_x']**2 + y_0_dict['v0_y']**2 + y_0_dict['v0_z']**2)\n",
    "\n",
    "print(f'v_0 [km/h]: {v_0 * 3.6:.2f}')"
   ]
  },
  {
   "cell_type": "code",
   "execution_count": 29,
   "metadata": {},
   "outputs": [
    {
     "name": "stdout",
     "output_type": "stream",
     "text": [
      "v_0 [km/h]: 16.95\n"
     ]
    }
   ],
   "source": [
    "# Determine the magnitude of the wind\n",
    "v_0 = torch.sqrt(y_0_dict['w_x']**2 + y_0_dict['w_y']**2 + y_0_dict['w_z']**2)\n",
    "\n",
    "print(f'v_0 [km/h]: {v_0 * 3.6:.2f}')"
   ]
  }
 ],
 "metadata": {
  "kernelspec": {
   "display_name": "bcnf",
   "language": "python",
   "name": "python3"
  },
  "language_info": {
   "codemirror_mode": {
    "name": "ipython",
    "version": 3
   },
   "file_extension": ".py",
   "mimetype": "text/x-python",
   "name": "python",
   "nbconvert_exporter": "python",
   "pygments_lexer": "ipython3",
   "version": "3.11.8"
  }
 },
 "nbformat": 4,
 "nbformat_minor": 2
}
