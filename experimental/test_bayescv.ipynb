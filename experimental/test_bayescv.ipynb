{
 "cells": [
  {
   "cell_type": "code",
   "execution_count": 1,
   "metadata": {},
   "outputs": [
    {
     "name": "stdout",
     "output_type": "stream",
     "text": [
      "cuda:0\n"
     ]
    }
   ],
   "source": [
    "import os\n",
    "import shutil\n",
    "import pickle\n",
    "import numpy as np\n",
    "import torch\n",
    "import copy\n",
    "import matplotlib.pyplot as plt\n",
    "\n",
    "# from skopt.optimizer import gp_minimize\n",
    "from bcnf.gp_minimize.gp_minimize import gp_minimize_fixed\n",
    "from skopt.space import Real, Categorical, Integer\n",
    "\n",
    "from bcnf.simulation.physics import get_data\n",
    "from bcnf.models.cnf import CondRealNVP\n",
    "from bcnf.models.feature_network import FullyConnectedFeatureNetwork\n",
    "from bcnf.eval.crossvalidate import cross_validate\n",
    "from bcnf.errors import TrainingDivergedError\n",
    "\n",
    "device = torch.device(\"cuda:0\" if torch.cuda.is_available() else \"cpu\")\n",
    "print(device)"
   ]
  },
  {
   "cell_type": "code",
   "execution_count": 2,
   "metadata": {},
   "outputs": [],
   "source": [
    "# HACK: scikit-optimize is not maintained anymore and this is a quick fix to make it work\n",
    "np.int = np.int64"
   ]
  },
  {
   "cell_type": "code",
   "execution_count": 3,
   "metadata": {},
   "outputs": [],
   "source": [
    "# Check if a checkpoint exists\n",
    "checkpoint_file = 'checkpoint.pkl'\n",
    "metrics_dir = 'metrics'\n",
    "os.makedirs(metrics_dir, exist_ok=True)"
   ]
  },
  {
   "cell_type": "code",
   "execution_count": 4,
   "metadata": {},
   "outputs": [
    {
     "name": "stderr",
     "output_type": "stream",
     "text": [
      "100%|██████████| 2000/2000 [00:02<00:00, 951.38it/s]\n"
     ]
    }
   ],
   "source": [
    "X, y = get_data(\n",
    "    T=1.0,\n",
    "    dt=1 / 30,\n",
    "    N=2_000,\n",
    "    break_on_impact=False\n",
    ")\n",
    "\n",
    "X_tensor = torch.Tensor(X.reshape(X.shape[0], -1))\n",
    "y_tensor = torch.Tensor(y)"
   ]
  },
  {
   "cell_type": "code",
   "execution_count": 5,
   "metadata": {},
   "outputs": [
    {
     "data": {
      "image/png": "[encoded data removed]",
      "text/plain": [
       "<Figure size 640x480 with 1 Axes>"
      ]
     },
     "metadata": {},
     "output_type": "display_data"
    }
   ],
   "source": [
    "plt.hist(X_tensor[:, -1].numpy().flatten(), bins=50);"
   ]
  },
  {
   "cell_type": "code",
   "execution_count": 6,
   "metadata": {},
   "outputs": [],
   "source": [
    "optimizer_kwargs = {\n",
    "    \"lr\": 2e-4\n",
    "}\n",
    "\n",
    "lr_scheduler_kwargs = {\n",
    "    \"mode\": \"min\",\n",
    "    \"factor\": 0.5,\n",
    "    \"patience\": 250,\n",
    "    \"threshold_mode\": \"abs\",\n",
    "    \"threshold\": 1e-1,\n",
    "}"
   ]
  },
  {
   "cell_type": "code",
   "execution_count": 7,
   "metadata": {},
   "outputs": [],
   "source": [
    "# Example search spaces\n",
    "search_spaces = {\n",
    "    'condition_size': Integer(1, 2048),\n",
    "    'model_hidden_size': Integer(32, 256),\n",
    "    'model_n_blocks': Integer(1, 32),\n",
    "    'model_act_norm': Categorical([True, False]),\n",
    "    'feature_network_hidden_size': Integer(16, 2048),\n",
    "    'feature_network_hidden_layers': Integer(0, 16),\n",
    "    'feature_network_dropout': Real(0, 0.5),\n",
    "}"
   ]
  },
  {
   "cell_type": "code",
   "execution_count": 8,
   "metadata": {},
   "outputs": [],
   "source": [
    "def param_index(name, search_spaces):\n",
    "    return list(search_spaces.keys()).index(name)"
   ]
  },
  {
   "cell_type": "code",
   "execution_count": 9,
   "metadata": {},
   "outputs": [],
   "source": [
    "model_size = y_tensor.shape[1]\n",
    "feature_size = X_tensor.shape[1]"
   ]
  },
  {
   "cell_type": "code",
   "execution_count": 10,
   "metadata": {},
   "outputs": [],
   "source": [
    "def score_parameters(params: list):\n",
    "    print(params)\n",
    "    try:\n",
    "        fold_metrics = cross_validate(\n",
    "            model_class=CondRealNVP,\n",
    "            model_kwargs={\n",
    "                \"size\": model_size,\n",
    "                \"hidden_size\": params[param_index('model_hidden_size', search_spaces)],\n",
    "                \"n_blocks\": params[param_index('model_n_blocks', search_spaces)],\n",
    "                \"n_conditions\": params[param_index('condition_size', search_spaces)],\n",
    "                \"act_norm\": params[param_index('model_act_norm', search_spaces)],\n",
    "            },\n",
    "            feature_network_class=FullyConnectedFeatureNetwork,\n",
    "            feature_network_kwargs={\n",
    "                \"sizes\": [feature_size]\n",
    "                    + [params[param_index('feature_network_hidden_size', search_spaces)]] * params[param_index('feature_network_hidden_layers', search_spaces)]\n",
    "                    + [params[param_index('condition_size', search_spaces)]],\n",
    "                \"dropout\": params[param_index('feature_network_dropout', search_spaces)],    \n",
    "            },\n",
    "            optimizer_class=torch.optim.Adam,\n",
    "            optimizer_kwargs=optimizer_kwargs,\n",
    "            lr_scheduler_class=torch.optim.lr_scheduler.ReduceLROnPlateau,\n",
    "            lr_scheduler_kwargs=lr_scheduler_kwargs,\n",
    "            X=X_tensor,\n",
    "            y=y_tensor,\n",
    "            n_epochs=50_000,\n",
    "            val_loss_patience=500,\n",
    "            val_loss_tolerance=1e-1,\n",
    "            val_loss_tolerance_mode=\"abs\",\n",
    "            timeout=60 * 60,  # 1 hour\n",
    "            batch_size=256,\n",
    "            device=device,\n",
    "            verbose=True,\n",
    "            n_splits=3,\n",
    "            errors=\"raise\"\n",
    "        )\n",
    "\n",
    "        # Save the metrics\n",
    "        with open(f'{metrics_dir}/params_{\"_\".join([str(p) for p in params])}.pkl', 'wb') as f:\n",
    "            pickle.dump(fold_metrics, f)\n",
    "\n",
    "    except TrainingDivergedError as e:\n",
    "        print(e)\n",
    "        return 100  # A big number\n",
    "\n",
    "    val_loss_list = [r['val_loss'][1] for r in fold_metrics]  # each val_loss value is a tuple (epoch, loss)\n",
    "    print(f'Val Loss: {np.mean(val_loss_list):.4f} ± {np.std(val_loss_list):.4f}')\n",
    "    return np.mean(val_loss_list) + np.std(val_loss_list)"
   ]
  },
  {
   "cell_type": "code",
   "execution_count": 11,
   "metadata": {},
   "outputs": [],
   "source": [
    "# Define a callback function to save the results\n",
    "def save_checkpoint(result):\n",
    "    # Save the checkpoint after each iteration or at the end of the optimization\n",
    "    with open(checkpoint_file + \".tmp\", 'wb') as f:\n",
    "        # Ignore\n",
    "        # - result['specs']['args']['func']\n",
    "        # - result['specs']['args']['callback']\n",
    "        # because it causes problems when reading somewhere else\n",
    "        result_no_func = copy.deepcopy(result)\n",
    "        del result_no_func['specs']['args']['func']\n",
    "        del result_no_func['specs']['args']['callback']\n",
    "        pickle.dump(result_no_func, f)\n",
    "\n",
    "    # Delete the old checkpoint file and rename the temporary file\n",
    "    shutil.move(checkpoint_file + \".tmp\", checkpoint_file)"
   ]
  },
  {
   "cell_type": "code",
   "execution_count": 12,
   "metadata": {},
   "outputs": [],
   "source": [
    "N_STEPS_INIT = 10\n",
    "N_STEPS = 100"
   ]
  },
  {
   "cell_type": "code",
   "execution_count": 13,
   "metadata": {},
   "outputs": [
    {
     "name": "stdout",
     "output_type": "stream",
     "text": [
      "Loading checkpoint from checkpoint.pkl\n",
      "Resuming from iteration 95\n",
      "Running with 0 initial points and 5 remaining iterations\n",
      "0 initial points will be randomly generated\n",
      "Iteration No: 1 started. Searching for the next optimal point.\n",
      "Telling optimizer about 95 initial points\n",
      "Iteration No: 1 ended. Search finished for the next optimal point.\n",
      "Time taken: 2.0591\n",
      "Function value obtained: -20.4135\n",
      "Current minimum: -53.3666\n",
      "Iteration No: 2 started. Searching for the next optimal point.\n",
      "[2048, 256, 32, False, 2048, 9, 0.0]\n"
     ]
    },
    {
     "name": "stderr",
     "output_type": "stream",
     "text": [
      "Train: -44.9218 - Val: 154.4365 (avg: 133.3613, min: -19.0563) | lr: 1.00e-04 - Patience: 500/500:   2%|▏         | 1232/50000 [04:07<2:43:14,  4.98it/s]\n",
      "Train: -22.6586 - Val: -19.2061 (avg: -18.1062, min: -18.7781) | lr: 2.00e-04 - Patience: 27/500:   2%|▏         | 753/50000 [02:32<2:45:51,  4.95it/s]\n"
     ]
    },
    {
     "name": "stdout",
     "output_type": "stream",
     "text": [
      "Error in fold 1: Loss exploded to 263129382912.0 at epoch 753.3333333333334\n",
      "Loss exploded to 263129382912.0 at epoch 753.3333333333334\n",
      "Iteration No: 2 ended. Search finished for the next optimal point.\n",
      "Time taken: 402.0372\n",
      "Function value obtained: 100.0000\n",
      "Current minimum: -53.3666\n",
      "Iteration No: 3 started. Searching for the next optimal point.\n",
      "[1588, 161, 23, True, 31, 3, 0.3779247177629724]\n"
     ]
    },
    {
     "name": "stderr",
     "output_type": "stream",
     "text": [
      "Train: -55.3583 - Val: -53.6495 (avg: -53.6480, min: -53.5591) | lr: 1.95e-07 - Patience: 500/500:  26%|██▌       | 12977/50000 [30:11<1:26:07,  7.16it/s]\n",
      "Train: -54.5522 - Val: -53.8717 (avg: -53.8755, min: -53.8081) | lr: 1.95e-07 - Patience: 500/500:  26%|██▌       | 12950/50000 [30:28<1:27:12,  7.08it/s]\n",
      "Train: -54.8296 - Val: -53.0909 (avg: -53.0882, min: -53.0344) | lr: 1.95e-07 - Patience: 500/500:  25%|██▍       | 12412/50000 [29:13<1:28:29,  7.08it/s]\n"
     ]
    },
    {
     "name": "stdout",
     "output_type": "stream",
     "text": [
      "Val Loss: -53.7204 ± 0.4293\n",
      "Iteration No: 3 ended. Search finished for the next optimal point.\n",
      "Time taken: 5395.7605\n",
      "Function value obtained: -53.2911\n",
      "Current minimum: -53.3666\n",
      "Iteration No: 4 started. Searching for the next optimal point.\n",
      "[1667, 157, 23, True, 16, 3, 0.3886034390791541]\n"
     ]
    },
    {
     "name": "stderr",
     "output_type": "stream",
     "text": [
      "Train: -51.9401 - Val: -47.6704 (avg: -47.6710, min: -47.6082) | lr: 1.95e-07 - Patience: 500/500:  25%|██▌       | 12559/50000 [28:17<1:24:20,  7.40it/s]\n",
      "Train: -50.3264 - Val: -47.0274 (avg: -47.0168, min: -46.9642) | lr: 1.95e-07 - Patience: 500/500:  22%|██▏       | 11035/50000 [24:53<1:27:52,  7.39it/s]\n",
      "Train: -51.8917 - Val: -50.5903 (avg: -50.5755, min: -50.5198) | lr: 1.95e-07 - Patience: 500/500:  25%|██▌       | 12707/50000 [33:27<1:38:13,  6.33it/s]\n"
     ]
    },
    {
     "name": "stdout",
     "output_type": "stream",
     "text": [
      "Val Loss: -48.6457 ± 2.1067\n",
      "Iteration No: 4 ended. Search finished for the next optimal point.\n",
      "Time taken: 5202.7053\n",
      "Function value obtained: -46.5390\n",
      "Current minimum: -53.3666\n",
      "Iteration No: 5 started. Searching for the next optimal point.\n",
      "[1419, 185, 23, True, 16, 3, 0.2955871293071425]\n"
     ]
    },
    {
     "name": "stderr",
     "output_type": "stream",
     "text": [
      "Train: -47.9826 - Val: -47.3639 (avg: -47.3392, min: -47.2664) | lr: 1.95e-07 - Patience: 500/500:  23%|██▎       | 11287/50000 [26:01<1:29:14,  7.23it/s]\n",
      "Train: -50.4779 - Val: -38.9500 (avg: -38.9284, min: -38.8831) | lr: 1.95e-07 - Patience: 500/500:  23%|██▎       | 11704/50000 [27:06<1:28:40,  7.20it/s]\n",
      "Train: -47.5920 - Val: -47.1479 (avg: -47.1440, min: -47.0653) | lr: 1.95e-07 - Patience: 500/500:  22%|██▏       | 10925/50000 [21:34<1:17:08,  8.44it/s]\n"
     ]
    },
    {
     "name": "stdout",
     "output_type": "stream",
     "text": [
      "Val Loss: -45.1692 ± 3.1928\n",
      "Iteration No: 5 ended. Search finished for the next optimal point.\n",
      "Time taken: 4482.4986\n",
      "Function value obtained: -41.9764\n",
      "Current minimum: -53.3666\n",
      "[1493, 127, 25, True, 144, 3, 0.4071232380674507]\n"
     ]
    },
    {
     "name": "stderr",
     "output_type": "stream",
     "text": [
      "Train: -54.9287 - Val: -46.4215 (avg: -46.4720, min: -46.4336) | lr: 3.91e-07 - Patience: 500/500:  21%|██        | 10351/50000 [21:10<1:21:06,  8.15it/s]\n",
      "Train: -55.4238 - Val: -52.9430 (avg: -52.9247, min: -52.8466) | lr: 3.91e-07 - Patience: 500/500:  23%|██▎       | 11513/50000 [23:29<1:18:31,  8.17it/s]\n",
      "Train: -54.2875 - Val: -53.6901 (avg: -53.6754, min: -53.5977) | lr: 1.95e-07 - Patience: 500/500:  23%|██▎       | 11681/50000 [23:51<1:18:16,  8.16it/s]\n"
     ]
    },
    {
     "name": "stdout",
     "output_type": "stream",
     "text": [
      "Val Loss: -51.5423 ± 3.2553\n",
      "Iteration No: 6 ended. Search finished for the next optimal point.\n",
      "Time taken: 8595.2766\n",
      "Function value obtained: -48.2871\n",
      "Current minimum: -53.3666\n"
     ]
    }
   ],
   "source": [
    "if os.path.exists(checkpoint_file):\n",
    "    print(f'Loading checkpoint from {checkpoint_file}')\n",
    "    with open(checkpoint_file, 'rb') as f:\n",
    "        checkpoint = pickle.load(f)\n",
    "        checkpoint['specs']['args']['func'] = score_parameters\n",
    "        checkpoint['specs']['args']['callback'] = save_checkpoint\n",
    "    print(f'Resuming from iteration {len(checkpoint.x_iters)}')\n",
    "else:\n",
    "    print('No checkpoint found. Starting new optimization')\n",
    "    checkpoint = None\n",
    "\n",
    "n_initial_points = max(0, N_STEPS_INIT - len(checkpoint.x_iters)) if checkpoint else N_STEPS_INIT\n",
    "n_calls_remaining = max(0, N_STEPS - len(checkpoint.x_iters)) if checkpoint else N_STEPS\n",
    "\n",
    "print(f'Running with {n_initial_points} initial points and {n_calls_remaining} remaining iterations')\n",
    "\n",
    "# You might want to adjust the n_calls or other parameters based on the checkpoint\n",
    "result = gp_minimize_fixed(\n",
    "    func=score_parameters,\n",
    "    dimensions=search_spaces.values(),\n",
    "    n_initial_points=n_initial_points,  # Number of random points before starting the optimization\n",
    "    n_calls=n_calls_remaining,  # Number of iterations\n",
    "    random_state=2024_03_25,\n",
    "    verbose=True,\n",
    "    callback=save_checkpoint,\n",
    "    x0=checkpoint.x_iters if checkpoint else None,\n",
    "    y0=checkpoint.func_vals if checkpoint else None)"
   ]
  }
 ],
 "metadata": {
  "kernelspec": {
   "display_name": "bcnf",
   "language": "python",
   "name": "python3"
  },
  "language_info": {
   "codemirror_mode": {
    "name": "ipython",
    "version": 3
   },
   "file_extension": ".py",
   "mimetype": "text/x-python",
   "name": "python",
   "nbconvert_exporter": "python",
   "pygments_lexer": "ipython3",
   "version": "3.11.8"
  }
 },
 "nbformat": 4,
 "nbformat_minor": 2
}
