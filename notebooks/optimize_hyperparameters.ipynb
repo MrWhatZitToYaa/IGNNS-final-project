{
 "cells": [
  {
   "cell_type": "code",
   "execution_count": 1,
   "metadata": {},
   "outputs": [
    {
     "name": "stdout",
     "output_type": "stream",
     "text": [
      "cuda:0\n"
     ]
    }
   ],
   "source": [
    "import os\n",
    "import shutil\n",
    "import pickle\n",
    "import numpy as np\n",
    "import torch\n",
    "import copy\n",
    "import matplotlib.pyplot as plt\n",
    "\n",
    "from skopt.space import Real, Categorical, Integer\n",
    "\n",
    "from bcnf.gp_minimize.gp_minimize import gp_minimize_fixed\n",
    "from bcnf.simulation.physics import get_data\n",
    "from bcnf.models.cnf import CondRealNVP\n",
    "from bcnf.models.feature_network import FullyConnectedFeatureNetwork\n",
    "from bcnf.eval.crossvalidate import cross_validate\n",
    "from bcnf.errors import TrainingDivergedError\n",
    "from bcnf.utils import get_dir\n",
    "\n",
    "from bcnf.simulation.sampling import generate_data\n",
    "\n",
    "device = torch.device(\"cuda:0\" if torch.cuda.is_available() else \"cpu\")\n",
    "print(device)"
   ]
  },
  {
   "cell_type": "markdown",
   "metadata": {},
   "source": [
    "## Setup"
   ]
  },
  {
   "cell_type": "code",
   "execution_count": 2,
   "metadata": {},
   "outputs": [],
   "source": [
    "# HACK: scikit-optimize is not maintained anymore and this is a quick fix to make it work\n",
    "# https://github.com/scikit-optimize/scikit-optimize/issues/1171#:~:text=To%20avoid%20this%20error%20in%20existing%20code%2C%20use%20int%20by%20itself.\n",
    "np.int = np.int64"
   ]
  },
  {
   "cell_type": "code",
   "execution_count": 3,
   "metadata": {},
   "outputs": [
    {
     "name": "stdout",
     "output_type": "stream",
     "text": [
      "/home/psaegert/Projects/bcnf/models/bcnf-models/hyperparameter_optimization/stage_2/checkpoint_improved.pkl\n",
      "/home/psaegert/Projects/bcnf/models/bcnf-models/hyperparameter_optimization/stage_2/metrics\n"
     ]
    }
   ],
   "source": [
    "# Store and load the progress in the Huggingface repository\n",
    "checkpoint_file = os.path.join(get_dir(\"models\", \"bcnf-models\", \"hyperparameter_optimization\", \"stage_2\", create=True), 'checkpoint_improved.pkl')\n",
    "metrics_dir = get_dir(\"models\", \"bcnf-models\", \"hyperparameter_optimization\", \"stage_2\", \"metrics\", create=True)\n",
    "\n",
    "print(os.path.abspath(checkpoint_file))\n",
    "print(os.path.abspath(metrics_dir))"
   ]
  },
  {
   "cell_type": "markdown",
   "metadata": {},
   "source": [
    "## Data"
   ]
  },
  {
   "cell_type": "code",
   "execution_count": 4,
   "metadata": {},
   "outputs": [],
   "source": [
    "param_names = ['x0_x','x0_y','x0_z','v0_x','v0_y','v0_z','g','w_x','w_y','w_z','b','A','Cd','rho','m','a_x','a_y','a_z','r']"
   ]
  },
  {
   "cell_type": "markdown",
   "metadata": {},
   "source": [
    "## Hyperparameter"
   ]
  },
  {
   "cell_type": "code",
   "execution_count": 7,
   "metadata": {},
   "outputs": [
    {
     "name": "stderr",
     "output_type": "stream",
     "text": [
      "100%|██████████| 2000/2000 [00:02<00:00, 921.51it/s]\n"
     ]
    },
    {
     "data": {
      "text/plain": [
       "(torch.Size([2000, 90]), torch.Size([2000, 17]))"
      ]
     },
     "execution_count": 7,
     "metadata": {},
     "output_type": "execute_result"
    }
   ],
   "source": [
    "X, y = get_data(\n",
    "    T=1.0,\n",
    "    dt=1 / 30,\n",
    "    N=2_000,\n",
    "    break_on_impact=False\n",
    ")\n",
    "\n",
    "X_tensor = torch.Tensor(X.reshape(X.shape[0], -1))\n",
    "y_tensor = torch.Tensor(y)\n",
    "\n",
    "X_tensor.shape, y_tensor.shape"
   ]
  },
  {
   "cell_type": "code",
   "execution_count": 8,
   "metadata": {},
   "outputs": [
    {
     "name": "stdout",
     "output_type": "stream",
     "text": [
      "Model size: 17\n",
      "Feature size: 90\n"
     ]
    }
   ],
   "source": [
    "model_size = y_tensor.shape[1]\n",
    "feature_size = X_tensor.shape[1]\n",
    "\n",
    "print(f\"Model size: {model_size}\")\n",
    "print(f\"Feature size: {feature_size}\")"
   ]
  },
  {
   "cell_type": "code",
   "execution_count": 9,
   "metadata": {},
   "outputs": [],
   "source": [
    "# These parameters have worked well in pilot experiments\n",
    "optimizer_kwargs = {\n",
    "    \"lr\": 2e-4\n",
    "}\n",
    "\n",
    "lr_scheduler_kwargs = {\n",
    "    \"mode\": \"min\",\n",
    "    \"factor\": 0.5,\n",
    "    \"patience\": 250,\n",
    "    \"threshold_mode\": \"abs\",\n",
    "    \"threshold\": 1e-1,\n",
    "}"
   ]
  },
  {
   "cell_type": "code",
   "execution_count": 10,
   "metadata": {},
   "outputs": [],
   "source": [
    "# Define the search space\n",
    "search_spaces = {\n",
    "    'condition_size': Integer(1, 2048),\n",
    "    'model_nested_size': Integer(16, 1024),\n",
    "    'model_nested_layers': Integer(1, 8),\n",
    "    'model_n_blocks': Integer(4, 32),\n",
    "    'model_act_norm': Categorical([True, False]),\n",
    "    'model_dropout': Real(0.0, 0.5),\n",
    "    'feature_network_hidden_size': Integer(16, 256),\n",
    "    'feature_network_hidden_layers': Integer(0, 16),\n",
    "    'feature_network_dropout': Real(0.0, 0.5),\n",
    "}"
   ]
  },
  {
   "cell_type": "markdown",
   "metadata": {},
   "source": [
    "## Helper Functions"
   ]
  },
  {
   "cell_type": "code",
   "execution_count": 11,
   "metadata": {},
   "outputs": [],
   "source": [
    "def param_index(name: str, search_spaces: dict[str, Real | Integer | Categorical]):\n",
    "    \"\"\"\n",
    "    Get the index of a parameter in the search space to match the order of the parameters in the optimization function.\n",
    "    \n",
    "    Parameters\n",
    "    ----------\n",
    "    name : str\n",
    "        The name of the parameter.\n",
    "    search_spaces : dict[str, Real | Integer | Categorical]\n",
    "        The search space.\n",
    "\n",
    "    Returns\n",
    "    -------\n",
    "    int\n",
    "        The index of the parameter in the search space.\n",
    "    \"\"\"\n",
    "    return list(search_spaces.keys()).index(name)"
   ]
  },
  {
   "cell_type": "code",
   "execution_count": 12,
   "metadata": {},
   "outputs": [],
   "source": [
    "def score_parameters(params: list):\n",
    "    print({k: v for k, v in zip(search_spaces.keys(), params)})\n",
    "\n",
    "    # Catch training errors (such as divergence) to filter out bad parameter sets and speed up the optimization\n",
    "    try:\n",
    "        # Use cross-validation to estimate the performance of the model\n",
    "        fold_metrics = cross_validate(\n",
    "            model_class=CondRealNVP,\n",
    "            model_kwargs={\n",
    "                \"size\": model_size,\n",
    "                \"nested_sizes\": [params[param_index('model_nested_size', search_spaces)]] * params[param_index('model_nested_layers', search_spaces)],\n",
    "                \"n_blocks\": params[param_index('model_n_blocks', search_spaces)],\n",
    "                \"n_conditions\": params[param_index('condition_size', search_spaces)],\n",
    "                \"act_norm\": params[param_index('model_act_norm', search_spaces)],\n",
    "                \"dropout\": params[param_index('model_dropout', search_spaces)],\n",
    "            },\n",
    "            feature_network_class=FullyConnectedFeatureNetwork,\n",
    "            feature_network_kwargs={\n",
    "                \"sizes\": [feature_size]\n",
    "                    + [params[param_index('feature_network_hidden_size', search_spaces)]] * params[param_index('feature_network_hidden_layers', search_spaces)]\n",
    "                    + [params[param_index('condition_size', search_spaces)]],\n",
    "                \"dropout\": params[param_index('feature_network_dropout', search_spaces)],    \n",
    "            },\n",
    "            optimizer_class=torch.optim.Adam,\n",
    "            optimizer_kwargs=optimizer_kwargs,\n",
    "            lr_scheduler_class=torch.optim.lr_scheduler.ReduceLROnPlateau,\n",
    "            lr_scheduler_kwargs=lr_scheduler_kwargs,\n",
    "            X=X_tensor,\n",
    "            y=y_tensor,\n",
    "            n_epochs=50_000,\n",
    "            val_loss_patience=500,\n",
    "            val_loss_tolerance=1e-1,  # Improvements to treat as significant\n",
    "            val_loss_tolerance_mode=\"abs\",\n",
    "            timeout=60 * 60,  # 1 hour\n",
    "            batch_size=256,\n",
    "            device=device,\n",
    "            verbose=True,  # Print the progress\n",
    "            n_splits=3,\n",
    "            errors=\"raise\"  # Raise errors to stop the optimization\n",
    "        )\n",
    "\n",
    "        # Save the loss_history and metrics for analysis\n",
    "        with open(os.path.join(metrics_dir, f'params_{\"_\".join([str(p) for p in params])}.pkl'), 'wb') as f:\n",
    "            pickle.dump(fold_metrics, f)\n",
    "\n",
    "    except TrainingDivergedError as e:\n",
    "        print(e)\n",
    "        return 100  # A big number (bad score) to avoid this parameter set\n",
    "\n",
    "    # Print the average validation loss and its standard deviation during optimization\n",
    "    val_loss_list = [r['val_loss'][1] for r in fold_metrics]  # each val_loss value is a tuple (epoch, loss)\n",
    "    print(f'Val Loss: {np.mean(val_loss_list):.4f} ± {np.std(val_loss_list):.4f}')\n",
    "\n",
    "    # Return the upper confidence bound of the validation loss\n",
    "    # This encourages the optimization to find good AND reliable parameter sets\n",
    "    return np.mean(val_loss_list) + np.std(val_loss_list)"
   ]
  },
  {
   "cell_type": "markdown",
   "metadata": {},
   "source": [
    "## Optimization"
   ]
  },
  {
   "cell_type": "code",
   "execution_count": 13,
   "metadata": {},
   "outputs": [],
   "source": [
    "# Numer of random initial points to explore the search space\n",
    "N_STEPS_INIT = 30\n",
    "\n",
    "# Number of iterations to run the optimization in total\n",
    "N_STEPS = 100"
   ]
  },
  {
   "cell_type": "code",
   "execution_count": 14,
   "metadata": {},
   "outputs": [
    {
     "name": "stdout",
     "output_type": "stream",
     "text": [
      "Loading checkpoint from /home/psaegert/Projects/bcnf/models/bcnf-models/hyperparameter_optimization/stage_2/checkpoint_improved.pkl\n",
      "Resuming from iteration 96\n",
      "96 iterations so far with 96 evaluations (minimum: -61.2413)\n",
      "Running with 0 initial points and 4 remaining iterations\n"
     ]
    }
   ],
   "source": [
    "# Load the checkpoint if it exists\n",
    "if os.path.exists(checkpoint_file):\n",
    "    print(f'Loading checkpoint from {checkpoint_file}')\n",
    "\n",
    "    with open(checkpoint_file, 'rb') as f:\n",
    "        checkpoint = pickle.load(f)\n",
    "\n",
    "        # Re-assign the function and callback because they are not picklable\n",
    "        checkpoint['specs']['args']['func'] = score_parameters\n",
    "\n",
    "    print(f'Resuming from iteration {len(checkpoint.x_iters)}')\n",
    "\n",
    "    x0 = checkpoint.x_iters\n",
    "    y0 = checkpoint.func_vals\n",
    "\n",
    "    print(f'{len(x0)} iterations so far with {len(y0)} evaluations (minimum: {np.min(y0):.4f})')\n",
    "\n",
    "    n_initial_points = max(0, N_STEPS_INIT - len(x0))\n",
    "    n_calls_remaining = max(0, N_STEPS - len(y0))\n",
    "else:\n",
    "    print('No checkpoint found. Starting new optimization')\n",
    "    checkpoint = None\n",
    "\n",
    "    n_initial_points = N_STEPS_INIT\n",
    "    n_calls_remaining = N_STEPS\n",
    "\n",
    "    x0 = None\n",
    "    y0 = None\n",
    "    \n",
    "print(f'Running with {n_initial_points} initial points and {n_calls_remaining} remaining iterations')"
   ]
  },
  {
   "cell_type": "code",
   "execution_count": 15,
   "metadata": {},
   "outputs": [
    {
     "name": "stdout",
     "output_type": "stream",
     "text": [
      "{'args': {'func': <function score_parameters at 0x7f50c9f04860>, 'dimensions': Space([Integer(low=1, high=2048, prior='uniform', transform='normalize'),\n",
      "       Integer(low=16, high=1024, prior='uniform', transform='normalize'),\n",
      "       Integer(low=1, high=8, prior='uniform', transform='normalize'),\n",
      "       Integer(low=4, high=32, prior='uniform', transform='normalize'),\n",
      "       Categorical(categories=(True, False), prior=None),\n",
      "       Real(low=0.0, high=0.5, prior='uniform', transform='normalize'),\n",
      "       Integer(low=16, high=256, prior='uniform', transform='normalize'),\n",
      "       Integer(low=0, high=16, prior='uniform', transform='normalize'),\n",
      "       Real(low=0.0, high=0.5, prior='uniform', transform='normalize')]), 'base_estimator': GaussianProcessRegressor(kernel=1**2 * Matern(length_scale=[1, 1, 1, 1, 1, 1, 1, 1, 1], nu=2.5),\n",
      "                         n_restarts_optimizer=2, noise='gaussian',\n",
      "                         normalize_y=True, random_state=77390924), 'n_calls': 4, 'n_random_starts': None, 'n_initial_points': 0, 'initial_point_generator': 'halton', 'acq_func': 'EI', 'acq_optimizer': 'auto', 'x0': [[1, 16, 1, 4, False, 0.0, 16, 0, 0.0], [1024, 352, 2, 8, False, 0.038461538461538464, 30, 1, 0.021739130434782608], [513, 688, 4, 12, False, 0.07692307692307693, 44, 2, 0.043478260869565216], [1536, 128, 5, 16, False, 0.11538461538461539, 58, 3, 0.06521739130434782], [257, 464, 7, 20, False, 0.15384615384615385, 72, 3, 0.08695652173913043], [1280, 800, 1, 24, False, 0.19230769230769232, 87, 4, 0.10869565217391304], [769, 240, 3, 28, True, 0.23076923076923078, 101, 5, 0.13043478260869565], [1792, 576, 4, 5, True, 0.2692307692307692, 115, 6, 0.15217391304347827], [129, 912, 5, 9, True, 0.3076923076923077, 129, 7, 0.17391304347826086], [1152, 53, 7, 13, True, 0.34615384615384615, 143, 8, 0.1956521739130435], [641, 389, 2, 17, True, 0.38461538461538464, 157, 8, 0.21739130434782608], [1664, 725, 3, 21, False, 0.4230769230769231, 171, 9, 0.2391304347826087], [385, 165, 4, 25, False, 0.46153846153846156, 185, 10, 0.2608695652173913], [1408, 501, 6, 29, False, 0.0029585798816568047, 200, 11, 0.2826086956521739], [897, 837, 7, 5, False, 0.04142011834319527, 214, 12, 0.30434782608695654], [1920, 277, 2, 9, False, 0.07988165680473373, 228, 13, 0.32608695652173914], [65, 613, 3, 13, False, 0.1183431952662722, 242, 13, 0.34782608695652173], [1088, 949, 5, 17, True, 0.15680473372781065, 17, 14, 0.3695652173913043], [577, 91, 6, 21, True, 0.1952662721893491, 31, 15, 0.391304347826087], [1600, 427, 7, 25, True, 0.23372781065088757, 45, 0, 0.41304347826086957], [321, 763, 2, 29, True, 0.27218934911242604, 59, 1, 0.43478260869565216], [1344, 203, 4, 6, True, 0.31065088757396453, 73, 2, 0.45652173913043476], [833, 539, 5, 10, False, 0.34911242603550297, 87, 3, 0.4782608695652174], [1856, 875, 6, 14, False, 0.38757396449704146, 102, 3, 0.000945179584120983], [193, 315, 8, 18, False, 0.4260355029585799, 116, 4, 0.02268431001890359], [1216, 651, 1, 22, False, 0.4644970414201184, 130, 5, 0.0444234404536862], [705, 987, 2, 26, False, 0.005917159763313609, 144, 6, 0.0661625708884688], [1728, 28, 4, 30, False, 0.044378698224852076, 158, 7, 0.08790170132325141], [449, 364, 5, 6, True, 0.08284023668639054, 172, 8, 0.10964083175803402], [1472, 700, 7, 10, True, 0.121301775147929, 186, 8, 0.13137996219281664], [1038, 484, 5, 32, True, 0.3185052316747453, 97, 5, 0.1254495493226791], [1114, 16, 7, 12, True, 0.4660266908236649, 116, 8, 0.22108251877988105], [687, 43, 2, 27, False, 0.2451462559105568, 255, 5, 0.005610067246194244], [647, 454, 4, 8, True, 0.3782863976628617, 137, 5, 0.04587995414811567], [865, 225, 2, 11, True, 0.33062180296085203, 158, 8, 0.21679833208885846], [444, 606, 6, 21, True, 0.30939142463575287, 16, 5, 0.22294295530791616], [799, 940, 3, 9, True, 0.23916246209629496, 16, 5, 0.03416368508813419], [1081, 63, 2, 16, True, 0.14204371499699361, 246, 5, 0.21354488443379271], [840, 160, 5, 16, True, 0.3417918365859235, 111, 8, 0.14663712554912453], [887, 519, 4, 20, False, 0.4145523853947885, 149, 3, 0.16718594832856915], [607, 610, 1, 32, True, 0.2554765796331638, 121, 9, 0.06715350009995424], [1814, 966, 3, 23, False, 0.1959401327740716, 26, 0, 0.3234019526035139], [816, 42, 2, 30, True, 0.23928400154047152, 57, 11, 0.13069238574707562], [783, 593, 5, 15, True, 0.3354427413306464, 102, 15, 0.2624560606067933], [858, 63, 6, 6, False, 0.43743533429615306, 158, 12, 0.15500850176259212], [654, 399, 1, 21, True, 0.3101814139124061, 133, 0, 0.15078261376275773], [692, 118, 6, 32, True, 0.2911901888736165, 99, 5, 0.18109226642902154], [670, 159, 2, 26, False, 0.2580035985736241, 100, 5, 0.10767250309604381], [1071, 421, 7, 4, True, 0.030223690313472076, 96, 9, 0.2712247203424773], [1769, 341, 4, 4, True, 0.0029826180141492645, 144, 9, 0.09161454814941586], [1, 16, 1, 6, True, 0.4900424342813501, 145, 8, 0.08243253399508058], [668, 16, 1, 28, True, 0.39873247366218206, 143, 8, 0.3550640232042727], [503, 56, 7, 29, True, 0.5, 116, 5, 0.4535829822192074], [1135, 319, 5, 17, True, 0.2558743693861328, 60, 15, 0.2811544900992866], [515, 824, 7, 23, True, 0.22821280868499866, 45, 16, 0.43817982695157215], [49, 821, 7, 19, True, 0.29751942342165666, 68, 14, 0.3785829632033095], [282, 45, 4, 5, True, 0.0, 140, 4, 0.01585375287819108], [470, 135, 4, 23, True, 0.46579253999060494, 32, 11, 0.17061046849815106], [15, 42, 5, 25, True, 0.0, 43, 10, 0.13977936851330536], [915, 354, 1, 16, False, 0.06017279114496344, 224, 14, 0.0493097204962204], [992, 25, 8, 27, True, 0.0, 87, 7, 0.3220522680512488], [836, 191, 7, 21, True, 0.0, 159, 5, 0.37867605407596466], [236, 168, 7, 19, True, 0.0, 76, 7, 0.2690183822722158], [1, 657, 1, 32, True, 0.0, 62, 7, 0.37963881520371445], [1411, 16, 6, 23, True, 0.3496986851458296, 115, 11, 0.0010641263107296934], [756, 16, 5, 32, True, 0.10481498527421296, 148, 8, 0.49711776274068753], [912, 290, 6, 18, True, 0.1478576853436927, 137, 7, 0.5], [288, 16, 2, 23, True, 0.07146908809713125, 114, 9, 0.3589314349977031], [1241, 129, 3, 32, True, 0.2615379899589816, 67, 7, 0.1750433289775834], [1360, 526, 5, 26, True, 0.40716830340399, 212, 7, 0.1111111092415964], [1926, 16, 4, 4, True, 0.42146196193543, 31, 7, 0.37282560396772735], [454, 16, 3, 27, True, 0.2785101564800291, 130, 8, 0.06050858649693207], [1384, 688, 2, 10, True, 0.38472857271995425, 148, 12, 0.16426949740869176], [870, 16, 6, 32, True, 0.17074559613124404, 35, 13, 0.2972327382426914], [1714, 16, 4, 32, True, 0.20937046205957166, 130, 5, 0.03112423923723256], [1338, 37, 1, 26, True, 0.3569112350823529, 134, 11, 0.13053709225667495], [754, 16, 7, 25, True, 0.4179158536364463, 177, 9, 0.16244829795030163], [1428, 16, 1, 29, True, 0.4850070039654971, 129, 12, 0.3203506040603019], [232, 16, 6, 32, True, 0.0, 58, 7, 0.29421184572082987], [1471, 16, 5, 27, True, 0.31009301621692753, 68, 12, 0.13168750338761154], [818, 16, 5, 17, True, 0.4629778835466877, 26, 8, 0.02844269256236469], [1566, 169, 4, 13, True, 0.3318255607715708, 252, 7, 0.0], [596, 16, 8, 32, True, 0.4122222758133952, 59, 2, 0.31134209387537626], [1238, 1014, 3, 32, True, 0.21608514311125723, 66, 6, 0.09457346758535462], [1166, 16, 4, 27, True, 0.26797874229578245, 142, 5, 0.11415124884419209], [920, 16, 2, 10, True, 0.3960115473859165, 131, 9, 0.1612255324686757], [271, 16, 6, 29, True, 0.3708844523756938, 209, 4, 0.0922379275806592], [225, 16, 5, 32, True, 0.030134533365899163, 247, 12, 0.47100843551691457], [1, 16, 5, 32, True, 0.20022302218711757, 52, 16, 0.36426940641005096], [914, 1024, 1, 24, True, 0.2663281122753928, 134, 13, 0.0], [1, 16, 4, 29, True, 0.2732904844779263, 79, 0, 0.026062624370256107], [513, 16, 5, 19, True, 0.03189623168858609, 120, 8, 0.48185910494668427], [596, 1024, 5, 11, False, 0.19028181354044896, 16, 0, 0.0], [1881, 16, 6, 32, True, 0.37199341388356477, 244, 8, 0.14071474232882694], [80, 16, 7, 32, True, 0.3829392653521588, 59, 0, 0.2436754429557059], [1632, 16, 5, 24, True, 0.33609486568983177, 222, 3, 0.06739482644011656]], 'y0': array([ -8.74481094, -22.98686869, -19.18888243, -27.40833207,\n",
      "       -21.81154608, -33.44804452, -57.69403903, -30.66778032,\n",
      "       -16.23322871, -48.78708217, -49.64400533, -25.29699488,\n",
      "       -24.53823197,  -9.93322613, 100.        , -16.59119437,\n",
      "        -9.4833528 , -14.88798805, -44.5456259 , -25.69639802,\n",
      "       100.        , 100.        , -22.80919397, -34.85474287,\n",
      "       -32.54668594, -38.04604362, -24.74657048, 100.        ,\n",
      "       -25.88641054, 100.        , -50.80280916, -45.76191316,\n",
      "       -24.29092554, -51.00116725, -51.15051741, -30.33992029,\n",
      "       -31.97263079, 100.        , -50.27555638, -30.72399444,\n",
      "       -53.34209893, -14.71607407, -47.00505366, -34.85886239,\n",
      "         1.79437087, 100.        , -54.85863313, -33.88927935,\n",
      "       -22.28652546, -23.11080035, -42.86685164, -47.51721581,\n",
      "       -49.03297206, -44.89979486,  -8.24801695, -14.32179883,\n",
      "       -29.48240203, -45.08205569, -42.72503771, -18.6475707 ,\n",
      "       -45.61185525, -33.70050845, -50.27699972, 100.        ,\n",
      "       -50.44520643, -49.16138587, 100.        , 100.        ,\n",
      "       -50.05501243, -59.35471081, 100.        , -49.83273489,\n",
      "       -48.4364219 , -47.00119805, -58.22759669, -44.30548714,\n",
      "       -45.70412223, -47.86432355, -44.79219352, -43.62197298,\n",
      "       -47.52150243, -39.78013747, -51.39974384, -29.34732373,\n",
      "       -57.26981543, -47.21359156, -58.23086674, -47.75717823,\n",
      "       -48.10862089, -43.70211892, -49.80263544, -47.80289686,\n",
      "         0.46643679, -49.52674284, -61.24128302, -53.81534225]), 'random_state': RandomState(MT19937) at 0x7F50C9F4CD40, 'verbose': True, 'callback': None, 'n_points': 10000, 'n_restarts_optimizer': 5, 'xi': 0.01, 'kappa': 1.96, 'n_jobs': 1, 'model_queue_size': None, 'checkpoint_file': '/home/psaegert/Projects/bcnf/models/bcnf-models/hyperparameter_optimization/stage_2/checkpoint_improved.pkl'}, 'function': 'base_minimize'}\n",
      "0 initial points will be randomly generated\n",
      "Iteration No: 1 started. Searching for the next optimal point.\n",
      "Telling optimizer about 96 initial points\n",
      "Asking optimizer for next point 1: [523, 797, 4, 31, True, 0.5, 147, 15, 0.05668645754079619]\n",
      "{'condition_size': 523, 'model_nested_size': 797, 'model_nested_layers': 4, 'model_n_blocks': 31, 'model_act_norm': True, 'model_dropout': 0.5, 'feature_network_hidden_size': 147, 'feature_network_hidden_layers': 15, 'feature_network_dropout': 0.05668645754079619}\n"
     ]
    },
    {
     "name": "stderr",
     "output_type": "stream",
     "text": [
      "Train: -47.2792 - Val: -43.3270 (avg: -43.3135, min: -43.2547) | lr: 3.91e-07 - Patience: 500/500:  22%|██▏       | 10931/50000 [47:25<2:49:29,  3.84it/s]\n",
      "Train: -42.1494 - Val: -41.0040 (avg: -41.0441, min: -40.9894) | lr: 3.91e-07 - Patience: 500/500:  22%|██▏       | 10828/50000 [43:08<2:36:03,  4.18it/s]\n",
      "Train: -43.4340 - Val: -42.2517 (avg: -42.2525, min: -42.1954) | lr: 3.91e-07 - Patience: 500/500:  20%|█▉        | 9989/50000 [40:21<2:41:38,  4.13it/s]\n"
     ]
    },
    {
     "name": "stdout",
     "output_type": "stream",
     "text": [
      "Val Loss: -41.9571 ± 0.7578\n",
      "Saving checkpoint with 97 iterations and 97 function evaluations (minimum: -61.24128302096609).\n",
      "Iteration No: 1 ended. Search finished for the next optimal point.\n",
      "Time taken: 7859.8613\n",
      "Function value obtained: -41.1993\n",
      "Current minimum: -61.2413\n",
      "Iteration No: 2 started. Searching for the next optimal point.\n",
      "Asking optimizer for next point 2: [276, 16, 6, 23, True, 0.2615834182531671, 16, 16, 0.25317236071179605]\n",
      "{'condition_size': 276, 'model_nested_size': 16, 'model_nested_layers': 6, 'model_n_blocks': 23, 'model_act_norm': True, 'model_dropout': 0.2615834182531671, 'feature_network_hidden_size': 16, 'feature_network_hidden_layers': 16, 'feature_network_dropout': 0.25317236071179605}\n"
     ]
    },
    {
     "name": "stderr",
     "output_type": "stream",
     "text": [
      "Train: -44.7825 - Val: -45.5008 (avg: -45.4926, min: -45.4508) | lr: 7.81e-07 - Patience: 500/500:  22%|██▏       | 10879/50000 [34:25<2:03:46,  5.27it/s]\n",
      "Train: -42.5668 - Val: -43.8528 (avg: -43.8563, min: -43.8027) | lr: 7.81e-07 - Patience: 500/500:  24%|██▎       | 11784/50000 [37:11<2:00:37,  5.28it/s]\n",
      "Train: -45.3430 - Val: -46.4052 (avg: -46.4350, min: -46.3414) | lr: 1.56e-06 - Patience: 500/500:  24%|██▍       | 12002/50000 [37:56<2:00:06,  5.27it/s]\n"
     ]
    },
    {
     "name": "stdout",
     "output_type": "stream",
     "text": [
      "Val Loss: -45.2195 ± 0.9774\n",
      "Saving checkpoint with 98 iterations and 98 function evaluations (minimum: -61.24128302096609).\n",
      "Iteration No: 2 ended. Search finished for the next optimal point.\n",
      "Time taken: 6574.0262\n",
      "Function value obtained: -44.2421\n",
      "Current minimum: -61.2413\n",
      "Iteration No: 3 started. Searching for the next optimal point.\n",
      "Asking optimizer for next point 3: [477, 16, 7, 23, True, 0.3822500471536552, 150, 1, 0.1872762283326637]\n",
      "{'condition_size': 477, 'model_nested_size': 16, 'model_nested_layers': 7, 'model_n_blocks': 23, 'model_act_norm': True, 'model_dropout': 0.3822500471536552, 'feature_network_hidden_size': 150, 'feature_network_hidden_layers': 1, 'feature_network_dropout': 0.1872762283326637}\n"
     ]
    },
    {
     "name": "stderr",
     "output_type": "stream",
     "text": [
      "Train: -55.8146 - Val: -59.6296 (avg: -59.6467, min: -59.5852) | lr: 7.81e-07 - Patience: 500/500:  26%|██▌       | 12779/50000 [41:35<2:01:08,  5.12it/s]\n",
      "Train: -52.4885 - Val: -56.6940 (avg: -56.7033, min: -56.6163) | lr: 1.56e-06 - Patience: 500/500:  24%|██▍       | 11898/50000 [38:49<2:04:19,  5.11it/s]\n",
      "Train: -56.3357 - Val: -60.0986 (avg: -60.0981, min: -60.0512) | lr: 7.81e-07 - Patience: 500/500:  27%|██▋       | 13465/50000 [44:02<1:59:29,  5.10it/s]\n"
     ]
    },
    {
     "name": "stdout",
     "output_type": "stream",
     "text": [
      "Val Loss: -58.7654 ± 1.4490\n",
      "Saving checkpoint with 99 iterations and 99 function evaluations (minimum: -61.24128302096609).\n",
      "Iteration No: 3 ended. Search finished for the next optimal point.\n",
      "Time taken: 7467.8669\n",
      "Function value obtained: -57.3163\n",
      "Current minimum: -61.2413\n",
      "Iteration No: 4 started. Searching for the next optimal point.\n",
      "Asking optimizer for next point 4: [1861, 16, 7, 26, True, 0.4218244357158045, 160, 0, 0.29820783345367463]\n",
      "{'condition_size': 1861, 'model_nested_size': 16, 'model_nested_layers': 7, 'model_n_blocks': 26, 'model_act_norm': True, 'model_dropout': 0.4218244357158045, 'feature_network_hidden_size': 160, 'feature_network_hidden_layers': 0, 'feature_network_dropout': 0.29820783345367463}\n"
     ]
    },
    {
     "name": "stderr",
     "output_type": "stream",
     "text": [
      "Train: -54.1409 - Val: -57.7781 (avg: -57.7640, min: -57.6936) | lr: 7.81e-07 - Patience: 500/500:  26%|██▌       | 12944/50000 [47:08<2:14:57,  4.58it/s]  \n",
      "Train: -44.8185 - Val: -47.3377 (avg: -47.1097, min: -47.9806) | lr: 1.00e-04 - Patience: 500/500:  12%|█▏        | 6247/50000 [22:35<2:38:16,  4.61it/s]\n",
      "Train: -53.1771 - Val: -56.4316 (avg: -56.4392, min: -56.3440) | lr: 1.56e-06 - Patience: 500/500:  24%|██▍       | 12041/50000 [43:36<2:17:29,  4.60it/s]\n"
     ]
    },
    {
     "name": "stdout",
     "output_type": "stream",
     "text": [
      "Val Loss: -53.8541 ± 4.6576\n",
      "Saving checkpoint with 100 iterations and 100 function evaluations (minimum: -61.24128302096609).\n",
      "Iteration No: 4 ended. Search finished for the next optimal point.\n",
      "Time taken: 6802.3130\n",
      "Function value obtained: -49.1966\n",
      "Current minimum: -61.2413\n"
     ]
    }
   ],
   "source": [
    "# You might want to adjust the n_calls or other parameters based on the checkpoint\n",
    "result = gp_minimize_fixed(\n",
    "    func=score_parameters,\n",
    "    dimensions=search_spaces.values(),\n",
    "    n_initial_points=n_initial_points,  # Number of random points before starting the optimization\n",
    "    n_calls=n_calls_remaining,  # Number of iterations\n",
    "    random_state=2024_03_25,\n",
    "    verbose=True,\n",
    "    acq_func=\"EI\",  # Expected Improvement https://arxiv.org/pdf/1009.5419.pdf\n",
    "    initial_point_generator=\"halton\", # https://en.wikipedia.org/wiki/Halton_sequence\n",
    "    checkpoint_file=checkpoint_file,\n",
    "    x0=x0,\n",
    "    y0=y0)"
   ]
  }
 ],
 "metadata": {
  "kernelspec": {
   "display_name": "bcnf",
   "language": "python",
   "name": "python3"
  },
  "language_info": {
   "codemirror_mode": {
    "name": "ipython",
    "version": 3
   },
   "file_extension": ".py",
   "mimetype": "text/x-python",
   "name": "python",
   "nbconvert_exporter": "python",
   "pygments_lexer": "ipython3",
   "version": "3.11.8"
  }
 },
 "nbformat": 4,
 "nbformat_minor": 2
}
