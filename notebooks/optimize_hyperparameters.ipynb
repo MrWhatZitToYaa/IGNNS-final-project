{
 "cells": [
  {
   "cell_type": "code",
   "execution_count": 1,
   "metadata": {},
   "outputs": [
    {
     "name": "stdout",
     "output_type": "stream",
     "text": [
      "cuda:0\n"
     ]
    }
   ],
   "source": [
    "import os\n",
    "import shutil\n",
    "import pickle\n",
    "import numpy as np\n",
    "import torch\n",
    "import copy\n",
    "import matplotlib.pyplot as plt\n",
    "\n",
    "from skopt.space import Real, Categorical, Integer\n",
    "\n",
    "from bcnf.gp_minimize.gp_minimize import gp_minimize_fixed\n",
    "from bcnf.simulation.physics import get_data\n",
    "from bcnf.models.cnf import CondRealNVP\n",
    "from bcnf.models.feature_network import FullyConnectedFeatureNetwork\n",
    "from bcnf.eval.crossvalidate import cross_validate\n",
    "from bcnf.errors import TrainingDivergedError\n",
    "from bcnf.utils import get_dir\n",
    "\n",
    "from bcnf.simulation.sampling import generate_data\n",
    "\n",
    "device = torch.device(\"cuda:0\" if torch.cuda.is_available() else \"cpu\")\n",
    "print(device)"
   ]
  },
  {
   "cell_type": "markdown",
   "metadata": {},
   "source": [
    "## Setup"
   ]
  },
  {
   "cell_type": "code",
   "execution_count": 2,
   "metadata": {},
   "outputs": [],
   "source": [
    "# HACK: scikit-optimize is not maintained anymore and this is a quick fix to make it work\n",
    "# https://github.com/scikit-optimize/scikit-optimize/issues/1171#:~:text=To%20avoid%20this%20error%20in%20existing%20code%2C%20use%20int%20by%20itself.\n",
    "np.int = np.int64"
   ]
  },
  {
   "cell_type": "code",
   "execution_count": 13,
   "metadata": {},
   "outputs": [
    {
     "name": "stdout",
     "output_type": "stream",
     "text": [
      "/home/psaegert/Projects/bcnf/models/bcnf-models/hyperparameter_optimization/stage_2/checkpoint_improved.pkl\n",
      "/home/psaegert/Projects/bcnf/models/bcnf-models/hyperparameter_optimization/stage_2/metrics\n"
     ]
    }
   ],
   "source": [
    "# Store and load the progress in the Huggingface repository\n",
    "checkpoint_file = os.path.join(get_dir(\"models\", \"bcnf-models\", \"hyperparameter_optimization\", \"stage_2\", create=True), 'checkpoint_improved.pkl')\n",
    "metrics_dir = get_dir(\"models\", \"bcnf-models\", \"hyperparameter_optimization\", \"stage_2\", \"metrics\", create=True)\n",
    "\n",
    "print(os.path.abspath(checkpoint_file))\n",
    "print(os.path.abspath(metrics_dir))"
   ]
  },
  {
   "cell_type": "markdown",
   "metadata": {},
   "source": [
    "## Data"
   ]
  },
  {
   "cell_type": "code",
   "execution_count": 5,
   "metadata": {},
   "outputs": [],
   "source": [
    "param_names = ['x0_x','x0_y','x0_z','v0_x','v0_y','v0_z','g','w_x','w_y','w_z','b','A','Cd','rho','m','a_x','a_y','a_z','r']"
   ]
  },
  {
   "cell_type": "code",
   "execution_count": 4,
   "metadata": {},
   "outputs": [],
   "source": [
    "# dataset_name = \"hyperparameter_optimization_trajectories\"\n",
    "\n",
    "# if not os.path.exists(os.path.join(get_dir('data', 'bcnf-data'), dataset_name + '.pkl')):\n",
    "#     data = generate_data(\n",
    "#         n=2000,\n",
    "#         type=\"trajectory\",\n",
    "#         SPF=1/30,\n",
    "#         T=3,\n",
    "#         config_file=os.path.join(get_dir(\"configs\"), \"throw_upwards.yaml\"),\n",
    "#         verbose=True,\n",
    "#         break_on_impact=False,\n",
    "#         name=dataset_name\n",
    "#     )\n",
    "# else:\n",
    "#     with open(os.path.join(get_dir('data', 'bcnf-data'), dataset_name + '.pkl'), 'rb') as f:\n",
    "#         data = pickle.load(f)"
   ]
  },
  {
   "cell_type": "code",
   "execution_count": 6,
   "metadata": {},
   "outputs": [
    {
     "data": {
      "text/plain": [
       "(torch.Size([2000, 270]), torch.Size([2000, 19]))"
      ]
     },
     "execution_count": 6,
     "metadata": {},
     "output_type": "execute_result"
    }
   ],
   "source": [
    "# X = np.array(data['traj'])\n",
    "# y = np.column_stack([np.array(data[param]) for param in param_names])\n",
    "\n",
    "\n",
    "# X_tensor = torch.Tensor(X.reshape(X.shape[0], -1))\n",
    "# y_tensor = torch.Tensor(y)\n",
    "\n",
    "# X_tensor.shape, y_tensor.shape"
   ]
  },
  {
   "cell_type": "code",
   "execution_count": null,
   "metadata": {},
   "outputs": [],
   "source": [
    "X, y = get_data(\n",
    "    T=1.0,\n",
    "    dt=1 / 30,\n",
    "    N=2_000,\n",
    "    break_on_impact=False\n",
    ")\n",
    "\n",
    "X_tensor = torch.Tensor(X.reshape(X.shape[0], -1))\n",
    "y_tensor = torch.Tensor(y)\n",
    "\n",
    "X_tensor.shape, y_tensor.shape"
   ]
  },
  {
   "cell_type": "markdown",
   "metadata": {},
   "source": [
    "## Hyperparameter"
   ]
  },
  {
   "cell_type": "code",
   "execution_count": 7,
   "metadata": {},
   "outputs": [
    {
     "name": "stdout",
     "output_type": "stream",
     "text": [
      "Model size: 19\n",
      "Feature size: 270\n"
     ]
    }
   ],
   "source": [
    "model_size = y_tensor.shape[1]\n",
    "feature_size = X_tensor.shape[1]\n",
    "\n",
    "print(f\"Model size: {model_size}\")\n",
    "print(f\"Feature size: {feature_size}\")"
   ]
  },
  {
   "cell_type": "code",
   "execution_count": 8,
   "metadata": {},
   "outputs": [],
   "source": [
    "# These parameters have worked well in pilot experiments\n",
    "optimizer_kwargs = {\n",
    "    \"lr\": 2e-4\n",
    "}\n",
    "\n",
    "lr_scheduler_kwargs = {\n",
    "    \"mode\": \"min\",\n",
    "    \"factor\": 0.5,\n",
    "    \"patience\": 250,\n",
    "    \"threshold_mode\": \"abs\",\n",
    "    \"threshold\": 1e-1,\n",
    "}"
   ]
  },
  {
   "cell_type": "code",
   "execution_count": 9,
   "metadata": {},
   "outputs": [],
   "source": [
    "# Define the search space\n",
    "search_spaces = {\n",
    "    'condition_size': Integer(1, 2048),\n",
    "    'model_nested_size': Integer(16, 1024),\n",
    "    'model_nested_layers': Integer(1, 8),\n",
    "    'model_n_blocks': Integer(4, 32),\n",
    "    'model_act_norm': Categorical([True, False]),\n",
    "    'model_dropout': Real(0.0, 0.5),\n",
    "    'feature_network_hidden_size': Integer(16, 256),\n",
    "    'feature_network_hidden_layers': Integer(0, 16),\n",
    "    'feature_network_dropout': Real(0.0, 0.5),\n",
    "}"
   ]
  },
  {
   "cell_type": "markdown",
   "metadata": {},
   "source": [
    "## Helper Functions"
   ]
  },
  {
   "cell_type": "code",
   "execution_count": 14,
   "metadata": {},
   "outputs": [],
   "source": [
    "def param_index(name: str, search_spaces: dict[str, Real | Integer | Categorical]):\n",
    "    \"\"\"\n",
    "    Get the index of a parameter in the search space to match the order of the parameters in the optimization function.\n",
    "    \n",
    "    Parameters\n",
    "    ----------\n",
    "    name : str\n",
    "        The name of the parameter.\n",
    "    search_spaces : dict[str, Real | Integer | Categorical]\n",
    "        The search space.\n",
    "\n",
    "    Returns\n",
    "    -------\n",
    "    int\n",
    "        The index of the parameter in the search space.\n",
    "    \"\"\"\n",
    "    return list(search_spaces.keys()).index(name)"
   ]
  },
  {
   "cell_type": "code",
   "execution_count": 15,
   "metadata": {},
   "outputs": [],
   "source": [
    "def score_parameters(params: list):\n",
    "    print({k: v for k, v in zip(search_spaces.keys(), params)})\n",
    "\n",
    "    # Catch training errors (such as divergence) to filter out bad parameter sets and speed up the optimization\n",
    "    try:\n",
    "        # Use cross-validation to estimate the performance of the model\n",
    "        fold_metrics = cross_validate(\n",
    "            model_class=CondRealNVP,\n",
    "            model_kwargs={\n",
    "                \"size\": model_size,\n",
    "                \"nested_sizes\": [params[param_index('model_nested_size', search_spaces)]] * params[param_index('model_nested_layers', search_spaces)],\n",
    "                \"n_blocks\": params[param_index('model_n_blocks', search_spaces)],\n",
    "                \"n_conditions\": params[param_index('condition_size', search_spaces)],\n",
    "                \"act_norm\": params[param_index('model_act_norm', search_spaces)],\n",
    "                \"dropout\": params[param_index('model_dropout', search_spaces)],\n",
    "            },\n",
    "            feature_network_class=FullyConnectedFeatureNetwork,\n",
    "            feature_network_kwargs={\n",
    "                \"sizes\": [feature_size]\n",
    "                    + [params[param_index('feature_network_hidden_size', search_spaces)]] * params[param_index('feature_network_hidden_layers', search_spaces)]\n",
    "                    + [params[param_index('condition_size', search_spaces)]],\n",
    "                \"dropout\": params[param_index('feature_network_dropout', search_spaces)],    \n",
    "            },\n",
    "            optimizer_class=torch.optim.Adam,\n",
    "            optimizer_kwargs=optimizer_kwargs,\n",
    "            lr_scheduler_class=torch.optim.lr_scheduler.ReduceLROnPlateau,\n",
    "            lr_scheduler_kwargs=lr_scheduler_kwargs,\n",
    "            X=X_tensor,\n",
    "            y=y_tensor,\n",
    "            n_epochs=50_000,\n",
    "            val_loss_patience=500,\n",
    "            val_loss_tolerance=1e-1,  # Improvements to treat as significant\n",
    "            val_loss_tolerance_mode=\"abs\",\n",
    "            timeout=60 * 60,  # 1 hour\n",
    "            batch_size=256,\n",
    "            device=device,\n",
    "            verbose=True,  # Print the progress\n",
    "            n_splits=3,\n",
    "            errors=\"raise\"  # Raise errors to stop the optimization\n",
    "        )\n",
    "\n",
    "        # Save the loss_history and metrics for analysis\n",
    "        with open(os.path.join(metrics_dir, f'params_{\"_\".join([str(p) for p in params])}.pkl'), 'wb') as f:\n",
    "            pickle.dump(fold_metrics, f)\n",
    "\n",
    "    except TrainingDivergedError as e:\n",
    "        print(e)\n",
    "        return 100  # A big number (bad score) to avoid this parameter set\n",
    "\n",
    "    # Print the average validation loss and its standard deviation during optimization\n",
    "    val_loss_list = [r['val_loss'][1] for r in fold_metrics]  # each val_loss value is a tuple (epoch, loss)\n",
    "    print(f'Val Loss: {np.mean(val_loss_list):.4f} ± {np.std(val_loss_list):.4f}')\n",
    "\n",
    "    # Return the upper confidence bound of the validation loss\n",
    "    # This encourages the optimization to find good AND reliable parameter sets\n",
    "    return np.mean(val_loss_list) + np.std(val_loss_list)"
   ]
  },
  {
   "cell_type": "code",
   "execution_count": 16,
   "metadata": {},
   "outputs": [],
   "source": [
    "def save_checkpoint(result):\n",
    "    \"\"\"\n",
    "    Save the result of the optimization to a checkpoint file.\n",
    "    Used as a callback in the optimization function.\n",
    "    \n",
    "    Parameters\n",
    "    ----------\n",
    "    result : OptimizeResult\n",
    "        The result of the optimization.\n",
    "    \"\"\"\n",
    "    # Safely write the result to a temporary file first without overwriting the checkpoint file\n",
    "    with open(checkpoint_file + \".tmp\", 'wb') as f:\n",
    "        # Ignore\n",
    "        # - result['specs']['args']['func']\n",
    "        # - result['specs']['args']['callback']\n",
    "        # because it causes problems when reading somewhere else\n",
    "        result_no_func = copy.deepcopy(result)\n",
    "        del result_no_func['specs']['args']['func']\n",
    "        del result_no_func['specs']['args']['callback']\n",
    "        pickle.dump(result_no_func, f)\n",
    "\n",
    "    # Delete the old checkpoint file and rename the temporary file\n",
    "    shutil.move(checkpoint_file + \".tmp\", checkpoint_file)"
   ]
  },
  {
   "cell_type": "markdown",
   "metadata": {},
   "source": [
    "## Optimization"
   ]
  },
  {
   "cell_type": "code",
   "execution_count": 17,
   "metadata": {},
   "outputs": [],
   "source": [
    "# Numer of random initial points to explore the search space\n",
    "N_STEPS_INIT = 30\n",
    "\n",
    "# Number of iterations to run the optimization in total\n",
    "N_STEPS = 100"
   ]
  },
  {
   "cell_type": "code",
   "execution_count": 18,
   "metadata": {},
   "outputs": [
    {
     "name": "stdout",
     "output_type": "stream",
     "text": [
      "No checkpoint found. Starting new optimization\n",
      "Running with 30 initial points and 100 remaining iterations\n"
     ]
    }
   ],
   "source": [
    "# Load the checkpoint if it exists\n",
    "if os.path.exists(checkpoint_file):\n",
    "    print(f'Loading checkpoint from {checkpoint_file}')\n",
    "\n",
    "    with open(checkpoint_file, 'rb') as f:\n",
    "        checkpoint = pickle.load(f)\n",
    "\n",
    "        # Re-assign the function and callback because they are not picklable\n",
    "        checkpoint['specs']['args']['func'] = score_parameters\n",
    "        checkpoint['specs']['args']['callback'] = save_checkpoint\n",
    "\n",
    "    print(f'Resuming from iteration {len(checkpoint.x_iters)}')\n",
    "\n",
    "    n_initial_points = max(0, N_STEPS_INIT - len(checkpoint.x_iters))\n",
    "    n_calls_remaining = max(0, N_STEPS - len(checkpoint.x_iters))\n",
    "    x0 = checkpoint.x_iters\n",
    "    y0 = checkpoint.func_vals\n",
    "else:\n",
    "    print('No checkpoint found. Starting new optimization')\n",
    "    checkpoint = None\n",
    "\n",
    "    n_initial_points = N_STEPS_INIT\n",
    "    n_calls_remaining = N_STEPS\n",
    "\n",
    "    x0 = None\n",
    "    y0 = None\n",
    "    \n",
    "print(f'Running with {n_initial_points} initial points and {n_calls_remaining} remaining iterations')"
   ]
  },
  {
   "cell_type": "code",
   "execution_count": 19,
   "metadata": {},
   "outputs": [
    {
     "name": "stdout",
     "output_type": "stream",
     "text": [
      "30 initial points will be randomly generated\n",
      "Iteration No: 1 started. Evaluating function at random point.\n",
      "{'condition_size': 1, 'model_nested_size': 16, 'model_nested_layers': 1, 'model_n_blocks': 4, 'model_act_norm': False, 'model_dropout': 0.0, 'feature_network_hidden_size': 16, 'feature_network_hidden_layers': 0, 'feature_network_dropout': 0.0}\n"
     ]
    },
    {
     "name": "stderr",
     "output_type": "stream",
     "text": [
      "Train: 24.6184 - Val: 36.4657 (avg: 36.3351, min: 31.8462) | lr: 5.00e-05 - Patience: 500/500:   4%|▎         | 1812/50000 [00:41<18:31, 43.34it/s]     \n",
      "Train: 24.2726 - Val: 26.2805 (avg: 26.2549, min: 26.0513) | lr: 1.00e-04 - Patience: 500/500:   3%|▎         | 1435/50000 [00:32<18:32, 43.67it/s]    \n",
      "Train: 21.4233 - Val: 25.5778 (avg: 25.4570, min: 23.9413) | lr: 1.00e-04 - Patience: 500/500:   5%|▌         | 2551/50000 [00:58<18:14, 43.36it/s]    \n"
     ]
    },
    {
     "name": "stdout",
     "output_type": "stream",
     "text": [
      "Val Loss: 26.6614 ± 1.5437\n",
      "Iteration No: 1 ended. Evaluation done at random point.\n",
      "Time taken: 133.9515\n",
      "Function value obtained: 28.2051\n",
      "Current minimum: 28.2051\n",
      "Iteration No: 2 started. Evaluating function at random point.\n",
      "{'condition_size': 1024, 'model_nested_size': 352, 'model_nested_layers': 2, 'model_n_blocks': 8, 'model_act_norm': False, 'model_dropout': 0.038461538461538464, 'feature_network_hidden_size': 30, 'feature_network_hidden_layers': 1, 'feature_network_dropout': 0.021739130434782608}\n"
     ]
    },
    {
     "name": "stderr",
     "output_type": "stream",
     "text": [
      "Train: -0.4672 - Val: 50.7001 (avg: 49.7093, min: 21.1193) | lr: 1.00e-04 - Patience: 500/500:   1%|          | 608/50000 [00:26<35:19, 23.30it/s]\n",
      "Train: -0.2403 - Val: 49.4795 (avg: 48.9554, min: 20.5015) | lr: 1.00e-04 - Patience: 500/500:   1%|          | 621/50000 [00:26<35:04, 23.46it/s]\n",
      "Train: -1.0247 - Val: 46.1674 (avg: 45.8817, min: 19.3636) | lr: 1.00e-04 - Patience: 500/500:   1%|          | 623/50000 [00:26<35:23, 23.25it/s]\n"
     ]
    },
    {
     "name": "stdout",
     "output_type": "stream",
     "text": [
      "Val Loss: 50.4280 ± 1.2651\n",
      "Iteration No: 2 ended. Evaluation done at random point.\n",
      "Time taken: 79.4270\n",
      "Function value obtained: 51.6931\n",
      "Current minimum: 28.2051\n",
      "Iteration No: 3 started. Evaluating function at random point.\n",
      "{'condition_size': 513, 'model_nested_size': 688, 'model_nested_layers': 4, 'model_n_blocks': 12, 'model_act_norm': False, 'model_dropout': 0.07692307692307693, 'feature_network_hidden_size': 44, 'feature_network_hidden_layers': 2, 'feature_network_dropout': 0.043478260869565216}\n"
     ]
    },
    {
     "name": "stderr",
     "output_type": "stream",
     "text": [
      "Train: -3.1596 - Val: 78.7569 (avg: 77.9794, min: 18.6097) | lr: 1.00e-04 - Patience: 500/500:   1%|          | 608/50000 [00:49<1:07:08, 12.26it/s]\n",
      "Train: -3.1041 - Val: 61.0314 (avg: 59.6848, min: 16.9599) | lr: 1.00e-04 - Patience: 500/500:   1%|          | 609/50000 [00:50<1:07:51, 12.13it/s]\n",
      "Train: -2.9019 - Val: 60.1020 (avg: 58.0478, min: 17.2667) | lr: 1.00e-04 - Patience: 500/500:   1%|          | 609/50000 [00:50<1:07:48, 12.14it/s]\n"
     ]
    },
    {
     "name": "stdout",
     "output_type": "stream",
     "text": [
      "Val Loss: 67.7817 ± 6.7551\n",
      "Iteration No: 3 ended. Evaluation done at random point.\n",
      "Time taken: 150.2450\n",
      "Function value obtained: 74.5367\n",
      "Current minimum: 28.2051\n",
      "Iteration No: 4 started. Evaluating function at random point.\n",
      "{'condition_size': 1536, 'model_nested_size': 128, 'model_nested_layers': 5, 'model_n_blocks': 16, 'model_act_norm': False, 'model_dropout': 0.11538461538461539, 'feature_network_hidden_size': 58, 'feature_network_hidden_layers': 3, 'feature_network_dropout': 0.06521739130434782}\n"
     ]
    },
    {
     "name": "stderr",
     "output_type": "stream",
     "text": [
      "Train: 8.6853 - Val: 17.3639 (avg: 17.3433, min: 15.1324) | lr: 1.00e-04 - Patience: 500/500:   2%|▏         | 857/50000 [01:30<1:26:51,  9.43it/s] \n",
      "Train: 9.5497 - Val: 16.4912 (avg: 16.3765, min: 15.0072) | lr: 1.00e-04 - Patience: 500/500:   2%|▏         | 884/50000 [01:34<1:27:29,  9.36it/s] \n",
      "Train: 8.4812 - Val: 15.9070 (avg: 15.8724, min: 14.4736) | lr: 1.00e-04 - Patience: 500/500:   2%|▏         | 940/50000 [01:39<1:26:55,  9.41it/s] \n"
     ]
    },
    {
     "name": "stdout",
     "output_type": "stream",
     "text": [
      "Val Loss: 16.4965 ± 0.2801\n",
      "Iteration No: 4 ended. Evaluation done at random point.\n",
      "Time taken: 285.4017\n",
      "Function value obtained: 16.7766\n",
      "Current minimum: 16.7766\n",
      "Iteration No: 5 started. Evaluating function at random point.\n",
      "{'condition_size': 257, 'model_nested_size': 464, 'model_nested_layers': 7, 'model_n_blocks': 20, 'model_act_norm': False, 'model_dropout': 0.15384615384615385, 'feature_network_hidden_size': 72, 'feature_network_hidden_layers': 3, 'feature_network_dropout': 0.08695652173913043}\n"
     ]
    },
    {
     "name": "stderr",
     "output_type": "stream",
     "text": [
      "Train: 4.9612 - Val: 33.8293 (avg: 33.6807, min: 16.5408) | lr: 1.00e-04 - Patience: 500/500:   1%|▏         | 674/50000 [01:52<2:17:22,  5.98it/s] \n",
      "Train: 5.7472 - Val: 31.9346 (avg: 31.4229, min: 16.3198) | lr: 1.00e-04 - Patience: 500/500:   1%|▏         | 670/50000 [01:51<2:17:07,  6.00it/s] \n",
      "Train: 5.5228 - Val: 31.0278 (avg: 30.6555, min: 16.4368) | lr: 1.00e-04 - Patience: 500/500:   1%|▏         | 689/50000 [01:54<2:16:22,  6.03it/s] \n"
     ]
    },
    {
     "name": "stdout",
     "output_type": "stream",
     "text": [
      "Val Loss: 32.5050 ± 0.3720\n",
      "Iteration No: 5 ended. Evaluation done at random point.\n",
      "Time taken: 339.1108\n",
      "Function value obtained: 32.8769\n",
      "Current minimum: 16.7766\n",
      "Iteration No: 6 started. Evaluating function at random point.\n",
      "{'condition_size': 1280, 'model_nested_size': 800, 'model_nested_layers': 1, 'model_n_blocks': 24, 'model_act_norm': False, 'model_dropout': 0.19230769230769232, 'feature_network_hidden_size': 87, 'feature_network_hidden_layers': 4, 'feature_network_dropout': 0.10869565217391304}\n"
     ]
    },
    {
     "name": "stderr",
     "output_type": "stream",
     "text": [
      "  0%|          | 0/50000 [00:00<?, ?it/s]\n"
     ]
    },
    {
     "name": "stdout",
     "output_type": "stream",
     "text": [
      "Error in fold 0: Loss exploded to 12758239.0 at epoch 0.0\n",
      "Loss exploded to 12758239.0 at epoch 0.0\n",
      "Iteration No: 6 ended. Evaluation done at random point.\n",
      "Time taken: 0.1155\n",
      "Function value obtained: 100.0000\n",
      "Current minimum: 16.7766\n",
      "Iteration No: 7 started. Evaluating function at random point.\n",
      "{'condition_size': 769, 'model_nested_size': 240, 'model_nested_layers': 3, 'model_n_blocks': 28, 'model_act_norm': True, 'model_dropout': 0.23076923076923078, 'feature_network_hidden_size': 101, 'feature_network_hidden_layers': 5, 'feature_network_dropout': 0.13043478260869565}\n"
     ]
    },
    {
     "name": "stderr",
     "output_type": "stream",
     "text": [
      "Train: 7.9859 - Val: 240.4087 (avg: 302.2951, min: 17.6259) | lr: 1.00e-04 - Patience: 500/500:   1%|▏         | 627/50000 [01:45<2:18:26,  5.94it/s]\n",
      "Train: 6.9175 - Val: 25.7566 (avg: 24.8837, min: 15.1492) | lr: 1.00e-04 - Patience: 500/500:   1%|▏         | 702/50000 [01:59<2:19:38,  5.88it/s] \n",
      "Train: 6.2555 - Val: 35.5084 (avg: 34.8827, min: 14.6339) | lr: 1.00e-04 - Patience: 500/500:   2%|▏         | 754/50000 [02:07<2:19:16,  5.89it/s] \n"
     ]
    },
    {
     "name": "stdout",
     "output_type": "stream",
     "text": [
      "Val Loss: 24.3455 ± 3.0681\n",
      "Iteration No: 7 ended. Evaluation done at random point.\n",
      "Time taken: 352.9243\n",
      "Function value obtained: 27.4136\n",
      "Current minimum: 16.7766\n",
      "Iteration No: 8 started. Evaluating function at random point.\n",
      "{'condition_size': 1792, 'model_nested_size': 576, 'model_nested_layers': 4, 'model_n_blocks': 5, 'model_act_norm': True, 'model_dropout': 0.2692307692307692, 'feature_network_hidden_size': 115, 'feature_network_hidden_layers': 6, 'feature_network_dropout': 0.15217391304347827}\n"
     ]
    },
    {
     "name": "stderr",
     "output_type": "stream",
     "text": [
      "Train: 9.1186 - Val: 17.6293 (avg: 17.5771, min: 15.0618) | lr: 1.00e-04 - Patience: 500/500:   2%|▏         | 1129/50000 [00:54<39:13, 20.76it/s]\n",
      "Train: 9.8740 - Val: 17.0640 (avg: 16.8920, min: 14.8317) | lr: 1.00e-04 - Patience: 500/500:   2%|▏         | 1070/50000 [00:50<38:41, 21.07it/s] \n",
      "Train: 8.6086 - Val: 17.1301 (avg: 16.9787, min: 14.9352) | lr: 1.00e-04 - Patience: 500/500:   3%|▎         | 1259/50000 [01:00<39:04, 20.79it/s] \n"
     ]
    },
    {
     "name": "stdout",
     "output_type": "stream",
     "text": [
      "Val Loss: 17.3704 ± 0.4960\n",
      "Iteration No: 8 ended. Evaluation done at random point.\n",
      "Time taken: 165.8416\n",
      "Function value obtained: 17.8664\n",
      "Current minimum: 16.7766\n",
      "Iteration No: 9 started. Evaluating function at random point.\n",
      "{'condition_size': 129, 'model_nested_size': 912, 'model_nested_layers': 5, 'model_n_blocks': 9, 'model_act_norm': True, 'model_dropout': 0.3076923076923077, 'feature_network_hidden_size': 129, 'feature_network_hidden_layers': 7, 'feature_network_dropout': 0.17391304347826086}\n"
     ]
    },
    {
     "name": "stderr",
     "output_type": "stream",
     "text": [
      "Train: 7.5891 - Val: 41.6986 (avg: 40.9973, min: 19.6992) | lr: 1.00e-04 - Patience: 500/500:   1%|▏         | 661/50000 [01:00<1:14:40, 11.01it/s] \n",
      "Train: 7.0939 - Val: 40.5762 (avg: 40.3797, min: 19.1432) | lr: 1.00e-04 - Patience: 500/500:   1%|▏         | 654/50000 [00:59<1:14:50, 10.99it/s] \n",
      "Train: 7.3748 - Val: 40.7386 (avg: 40.1360, min: 19.4061) | lr: 1.00e-04 - Patience: 500/500:   1%|▏         | 652/50000 [00:58<1:14:09, 11.09it/s] \n"
     ]
    },
    {
     "name": "stdout",
     "output_type": "stream",
     "text": [
      "Val Loss: 40.6513 ± 0.5924\n",
      "Iteration No: 9 ended. Evaluation done at random point.\n",
      "Time taken: 178.7103\n",
      "Function value obtained: 41.2437\n",
      "Current minimum: 16.7766\n",
      "Iteration No: 10 started. Evaluating function at random point.\n",
      "{'condition_size': 1152, 'model_nested_size': 53, 'model_nested_layers': 7, 'model_n_blocks': 13, 'model_act_norm': True, 'model_dropout': 0.34615384615384615, 'feature_network_hidden_size': 143, 'feature_network_hidden_layers': 8, 'feature_network_dropout': 0.1956521739130435}\n"
     ]
    },
    {
     "name": "stderr",
     "output_type": "stream",
     "text": [
      "Train: 11.6935 - Val: 13.6202 (avg: 13.5910, min: 13.6716) | lr: 5.00e-05 - Patience: 500/500:   6%|▌         | 2912/50000 [06:02<1:37:33,  8.04it/s]\n",
      "Train: 13.3150 - Val: 14.0884 (avg: 14.0196, min: 14.0767) | lr: 1.00e-04 - Patience: 500/500:   3%|▎         | 1737/50000 [03:36<1:40:25,  8.01it/s]\n",
      "Train: 11.7533 - Val: 14.2482 (avg: 14.2398, min: 14.2720) | lr: 5.00e-05 - Patience: 500/500:   5%|▌         | 2745/50000 [05:44<1:38:42,  7.98it/s] \n"
     ]
    },
    {
     "name": "stdout",
     "output_type": "stream",
     "text": [
      "Val Loss: 14.1876 ± 0.6831\n",
      "Iteration No: 10 ended. Evaluation done at random point.\n",
      "Time taken: 922.9965\n",
      "Function value obtained: 14.8708\n",
      "Current minimum: 14.8708\n",
      "Iteration No: 11 started. Evaluating function at random point.\n",
      "{'condition_size': 641, 'model_nested_size': 389, 'model_nested_layers': 2, 'model_n_blocks': 17, 'model_act_norm': True, 'model_dropout': 0.38461538461538464, 'feature_network_hidden_size': 157, 'feature_network_hidden_layers': 8, 'feature_network_dropout': 0.21739130434782608}\n"
     ]
    },
    {
     "name": "stderr",
     "output_type": "stream",
     "text": [
      "Train: 11.2134 - Val: 20.1059 (avg: 19.8201, min: 16.2140) | lr: 1.00e-04 - Patience: 500/500:   2%|▏         | 864/50000 [01:23<1:19:17, 10.33it/s]\n",
      "Train: 9.8688 - Val: 15.9642 (avg: 15.9254, min: 14.4211) | lr: 1.00e-04 - Patience: 500/500:   2%|▏         | 992/50000 [01:36<1:19:29, 10.28it/s] \n",
      "Train: 10.8076 - Val: 17.9527 (avg: 17.8129, min: 16.1144) | lr: 1.00e-04 - Patience: 500/500:   2%|▏         | 960/50000 [01:33<1:19:41, 10.26it/s]\n"
     ]
    },
    {
     "name": "stdout",
     "output_type": "stream",
     "text": [
      "Val Loss: 17.4416 ± 0.9126\n",
      "Iteration No: 11 ended. Evaluation done at random point.\n",
      "Time taken: 273.9138\n",
      "Function value obtained: 18.3542\n",
      "Current minimum: 14.8708\n",
      "Iteration No: 12 started. Evaluating function at random point.\n",
      "{'condition_size': 1664, 'model_nested_size': 725, 'model_nested_layers': 3, 'model_n_blocks': 21, 'model_act_norm': False, 'model_dropout': 0.4230769230769231, 'feature_network_hidden_size': 171, 'feature_network_hidden_layers': 9, 'feature_network_dropout': 0.2391304347826087}\n"
     ]
    },
    {
     "name": "stderr",
     "output_type": "stream",
     "text": [
      "Train: 15.4982 - Val: 189.4746 (avg: 406.3960, min: 22.2838) | lr: 1.00e-04 - Patience: 500/500:   1%|▏         | 637/50000 [01:23<1:47:45,  7.63it/s]  \n",
      "Train: 15.3154 - Val: 27.4620 (avg: 26.4620, min: 21.4172) | lr: 1.00e-04 - Patience: 500/500:   1%|▏         | 668/50000 [01:27<1:47:43,  7.63it/s]\n",
      "Train: 13.0836 - Val: 21.0781 (avg: 20.6931, min: 17.6481) | lr: 1.00e-04 - Patience: 500/500:   2%|▏         | 806/50000 [01:46<1:48:46,  7.54it/s]\n"
     ]
    },
    {
     "name": "stdout",
     "output_type": "stream",
     "text": [
      "Val Loss: 24.8975 ± 2.6195\n",
      "Iteration No: 12 ended. Evaluation done at random point.\n",
      "Time taken: 278.4456\n",
      "Function value obtained: 27.5170\n",
      "Current minimum: 14.8708\n",
      "Iteration No: 13 started. Evaluating function at random point.\n",
      "{'condition_size': 385, 'model_nested_size': 165, 'model_nested_layers': 4, 'model_n_blocks': 25, 'model_act_norm': False, 'model_dropout': 0.46153846153846156, 'feature_network_hidden_size': 185, 'feature_network_hidden_layers': 10, 'feature_network_dropout': 0.2608695652173913}\n"
     ]
    },
    {
     "name": "stderr",
     "output_type": "stream",
     "text": [
      "Train: 17.7215 - Val: 22.5384 (avg: 21.9812, min: 21.0009) | lr: 1.00e-04 - Patience: 500/500:   2%|▏         | 896/50000 [02:12<2:00:37,  6.78it/s]\n",
      "Train: 19.3365 - Val: 24.9415 (avg: 25.1560, min: 22.8697) | lr: 1.00e-04 - Patience: 500/500:   1%|▏         | 669/50000 [01:38<2:01:17,  6.78it/s]\n",
      "Train: 18.1087 - Val: 23.0061 (avg: 22.6645, min: 21.4571) | lr: 1.00e-04 - Patience: 500/500:   2%|▏         | 888/50000 [02:11<2:00:55,  6.77it/s]\n"
     ]
    },
    {
     "name": "stdout",
     "output_type": "stream",
     "text": [
      "Val Loss: 23.0297 ± 0.6908\n",
      "Iteration No: 13 ended. Evaluation done at random point.\n",
      "Time taken: 362.0823\n",
      "Function value obtained: 23.7205\n",
      "Current minimum: 14.8708\n",
      "Iteration No: 14 started. Evaluating function at random point.\n",
      "{'condition_size': 1408, 'model_nested_size': 501, 'model_nested_layers': 6, 'model_n_blocks': 29, 'model_act_norm': False, 'model_dropout': 0.0029585798816568047, 'feature_network_hidden_size': 200, 'feature_network_hidden_layers': 11, 'feature_network_dropout': 0.2826086956521739}\n"
     ]
    },
    {
     "name": "stderr",
     "output_type": "stream",
     "text": [
      "Train: 11.0020 - Val: 323.6129 (avg: 261.2057, min: 21.2562) | lr: 1.00e-04 - Patience: 500/500:   1%|▏         | 692/50000 [02:38<3:08:02,  4.37it/s]\n",
      "Train: 12.9394 - Val: 43.6653 (avg: 42.5009, min: 20.5747) | lr: 1.00e-04 - Patience: 500/500:   1%|▏         | 666/50000 [02:32<3:08:36,  4.36it/s]\n",
      "Train: 11.4035 - Val: 75.7102 (avg: 69.9210, min: 20.5723) | lr: 1.00e-04 - Patience: 500/500:   1%|▏         | 748/50000 [02:49<3:06:31,  4.40it/s]\n"
     ]
    },
    {
     "name": "stdout",
     "output_type": "stream",
     "text": [
      "Val Loss: 66.8862 ± 13.3227\n",
      "Iteration No: 14 ended. Evaluation done at random point.\n",
      "Time taken: 481.9448\n",
      "Function value obtained: 80.2089\n",
      "Current minimum: 14.8708\n",
      "Iteration No: 15 started. Evaluating function at random point.\n",
      "{'condition_size': 897, 'model_nested_size': 837, 'model_nested_layers': 7, 'model_n_blocks': 5, 'model_act_norm': False, 'model_dropout': 0.04142011834319527, 'feature_network_hidden_size': 214, 'feature_network_hidden_layers': 12, 'feature_network_dropout': 0.30434782608695654}\n"
     ]
    },
    {
     "name": "stderr",
     "output_type": "stream",
     "text": [
      "Train: 17.0184 - Val: 46.4884 (avg: 46.3734, min: 26.0251) | lr: 1.00e-04 - Patience: 500/500:   2%|▏         | 826/50000 [00:55<55:11, 14.85it/s]  \n",
      "Train: 16.7294 - Val: 74.8251 (avg: 72.3775, min: 25.7867) | lr: 1.00e-04 - Patience: 500/500:   2%|▏         | 787/50000 [00:53<55:24, 14.80it/s]  \n",
      "Train: 17.6705 - Val: 55.0473 (avg: 54.6597, min: 26.0576) | lr: 1.00e-04 - Patience: 500/500:   1%|▏         | 745/50000 [00:49<55:04, 14.91it/s]  \n"
     ]
    },
    {
     "name": "stdout",
     "output_type": "stream",
     "text": [
      "Val Loss: 39.7553 ± 3.5556\n",
      "Iteration No: 15 ended. Evaluation done at random point.\n",
      "Time taken: 159.0557\n",
      "Function value obtained: 43.3109\n",
      "Current minimum: 14.8708\n",
      "Iteration No: 16 started. Evaluating function at random point.\n",
      "{'condition_size': 1920, 'model_nested_size': 277, 'model_nested_layers': 2, 'model_n_blocks': 9, 'model_act_norm': False, 'model_dropout': 0.07988165680473373, 'feature_network_hidden_size': 228, 'feature_network_hidden_layers': 13, 'feature_network_dropout': 0.32608695652173914}\n"
     ]
    },
    {
     "name": "stderr",
     "output_type": "stream",
     "text": [
      "Train: 16.4966 - Val: 31.5662 (avg: 29.9560, min: 22.7166) | lr: 1.00e-04 - Patience: 500/500:   1%|▏         | 679/50000 [00:37<45:53, 17.91it/s]\n",
      "Train: 17.4042 - Val: 29.4700 (avg: 28.8747, min: 22.5302) | lr: 1.00e-04 - Patience: 500/500:   1%|▏         | 664/50000 [00:36<45:13, 18.18it/s]\n",
      "Train: 16.6787 - Val: 28.0467 (avg: 28.2948, min: 22.5103) | lr: 1.00e-04 - Patience: 500/500:   1%|▏         | 670/50000 [00:37<45:43, 17.98it/s]\n"
     ]
    },
    {
     "name": "stdout",
     "output_type": "stream",
     "text": [
      "Val Loss: 28.6352 ± 0.5330\n",
      "Iteration No: 16 ended. Evaluation done at random point.\n",
      "Time taken: 111.7935\n",
      "Function value obtained: 29.1682\n",
      "Current minimum: 14.8708\n",
      "Iteration No: 17 started. Evaluating function at random point.\n",
      "{'condition_size': 65, 'model_nested_size': 613, 'model_nested_layers': 3, 'model_n_blocks': 13, 'model_act_norm': False, 'model_dropout': 0.1183431952662722, 'feature_network_hidden_size': 242, 'feature_network_hidden_layers': 13, 'feature_network_dropout': 0.34782608695652173}\n"
     ]
    },
    {
     "name": "stderr",
     "output_type": "stream",
     "text": [
      "Train: 9.2805 - Val: 138.0184 (avg: 129.0584, min: 25.4870) | lr: 1.00e-04 - Patience: 500/500:   1%|          | 595/50000 [00:46<1:05:02, 12.66it/s] \n",
      "Train: 9.4667 - Val: 77.5729 (avg: 77.2760, min: 24.4722) | lr: 1.00e-04 - Patience: 500/500:   1%|          | 588/50000 [00:46<1:05:11, 12.63it/s] \n",
      "Train: 9.5287 - Val: 98.7469 (avg: 100.1848, min: 24.6457) | lr: 1.00e-04 - Patience: 500/500:   1%|          | 594/50000 [00:47<1:05:34, 12.56it/s] \n"
     ]
    },
    {
     "name": "stdout",
     "output_type": "stream",
     "text": [
      "Val Loss: 100.2068 ± 21.5335\n",
      "Iteration No: 17 ended. Evaluation done at random point.\n",
      "Time taken: 141.0267\n",
      "Function value obtained: 121.7402\n",
      "Current minimum: 14.8708\n",
      "Iteration No: 18 started. Evaluating function at random point.\n",
      "{'condition_size': 1088, 'model_nested_size': 949, 'model_nested_layers': 5, 'model_n_blocks': 17, 'model_act_norm': True, 'model_dropout': 0.15680473372781065, 'feature_network_hidden_size': 17, 'feature_network_hidden_layers': 14, 'feature_network_dropout': 0.3695652173913043}\n"
     ]
    },
    {
     "name": "stderr",
     "output_type": "stream",
     "text": [
      "Train: 9.7375 - Val: 110.2506 (avg: 136.4230, min: 22.3258) | lr: 1.00e-04 - Patience: 500/500:   1%|▏         | 628/50000 [01:48<2:22:39,  5.77it/s]  \n",
      "Train: 6.5969 - Val: 91.2142 (avg: 88.4589, min: 21.5304) | lr: 1.00e-04 - Patience: 500/500:   1%|▏         | 684/50000 [01:58<2:22:23,  5.77it/s] \n",
      "Train: 7.4276 - Val: 96.0459 (avg: 93.8592, min: 22.3968) | lr: 1.00e-04 - Patience: 500/500:   1%|▏         | 655/50000 [01:53<2:22:50,  5.76it/s] \n"
     ]
    },
    {
     "name": "stdout",
     "output_type": "stream",
     "text": [
      "Val Loss: 85.4297 ± 5.5201\n",
      "Iteration No: 18 ended. Evaluation done at random point.\n",
      "Time taken: 341.9426\n",
      "Function value obtained: 90.9498\n",
      "Current minimum: 14.8708\n",
      "Iteration No: 19 started. Evaluating function at random point.\n",
      "{'condition_size': 577, 'model_nested_size': 91, 'model_nested_layers': 6, 'model_n_blocks': 21, 'model_act_norm': True, 'model_dropout': 0.1952662721893491, 'feature_network_hidden_size': 31, 'feature_network_hidden_layers': 15, 'feature_network_dropout': 0.391304347826087}\n"
     ]
    },
    {
     "name": "stderr",
     "output_type": "stream",
     "text": [
      "Train: 13.2733 - Val: 19.1405 (avg: 19.0148, min: 18.6063) | lr: 1.00e-04 - Patience: 500/500:   3%|▎         | 1605/50000 [04:49<2:25:28,  5.54it/s]\n",
      "Train: 13.8483 - Val: 17.4437 (avg: 17.5042, min: 17.3523) | lr: 1.00e-04 - Patience: 500/500:   3%|▎         | 1616/50000 [05:09<2:34:12,  5.23it/s]\n",
      "Train: 12.7858 - Val: 17.3372 (avg: 17.4055, min: 17.2604) | lr: 1.00e-04 - Patience: 500/500:   4%|▍         | 1882/50000 [05:45<2:27:14,  5.45it/s]\n"
     ]
    },
    {
     "name": "stdout",
     "output_type": "stream",
     "text": [
      "Val Loss: 17.8375 ± 0.3759\n",
      "Iteration No: 19 ended. Evaluation done at random point.\n",
      "Time taken: 944.1521\n",
      "Function value obtained: 18.2135\n",
      "Current minimum: 14.8708\n",
      "Iteration No: 20 started. Evaluating function at random point.\n",
      "{'condition_size': 1600, 'model_nested_size': 427, 'model_nested_layers': 7, 'model_n_blocks': 25, 'model_act_norm': True, 'model_dropout': 0.23372781065088757, 'feature_network_hidden_size': 45, 'feature_network_hidden_layers': 0, 'feature_network_dropout': 0.41304347826086957}\n"
     ]
    },
    {
     "name": "stderr",
     "output_type": "stream",
     "text": [
      "Train: -6.8219 - Val: 62.2505 (avg: 61.8562, min: 13.8937) | lr: 1.00e-04 - Patience: 500/500:   1%|▏         | 646/50000 [02:36<3:19:11,  4.13it/s]\n",
      "Train: -7.1767 - Val: 55.9786 (avg: 53.0200, min: 12.6566) | lr: 1.00e-04 - Patience: 500/500:   1%|▏         | 643/50000 [02:41<3:26:04,  3.99it/s]\n",
      "Train: -0.2989 - Val: 29.7592 (avg: 26.4453, min: 13.4581) | lr: 2.00e-04 - Patience: 210/500:   1%|          | 346/50000 [01:32<3:40:11,  3.76it/s]\n"
     ]
    },
    {
     "ename": "KeyboardInterrupt",
     "evalue": "",
     "output_type": "error",
     "traceback": [
      "\u001b[0;31m---------------------------------------------------------------------------\u001b[0m",
      "\u001b[0;31mKeyboardInterrupt\u001b[0m                         Traceback (most recent call last)",
      "Cell \u001b[0;32mIn[19], line 2\u001b[0m\n\u001b[1;32m      1\u001b[0m \u001b[38;5;66;03m# You might want to adjust the n_calls or other parameters based on the checkpoint\u001b[39;00m\n\u001b[0;32m----> 2\u001b[0m result \u001b[38;5;241m=\u001b[39m gp_minimize_fixed(\n\u001b[1;32m      3\u001b[0m     func\u001b[38;5;241m=\u001b[39mscore_parameters,\n\u001b[1;32m      4\u001b[0m     dimensions\u001b[38;5;241m=\u001b[39msearch_spaces\u001b[38;5;241m.\u001b[39mvalues(),\n\u001b[1;32m      5\u001b[0m     n_initial_points\u001b[38;5;241m=\u001b[39mn_initial_points,  \u001b[38;5;66;03m# Number of random points before starting the optimization\u001b[39;00m\n\u001b[1;32m      6\u001b[0m     n_calls\u001b[38;5;241m=\u001b[39mn_calls_remaining,  \u001b[38;5;66;03m# Number of iterations\u001b[39;00m\n\u001b[1;32m      7\u001b[0m     random_state\u001b[38;5;241m=\u001b[39m\u001b[38;5;241m2024_03_25\u001b[39m,\n\u001b[1;32m      8\u001b[0m     verbose\u001b[38;5;241m=\u001b[39m\u001b[38;5;28;01mTrue\u001b[39;00m,\n\u001b[1;32m      9\u001b[0m     acq_func\u001b[38;5;241m=\u001b[39m\u001b[38;5;124m\"\u001b[39m\u001b[38;5;124mEI\u001b[39m\u001b[38;5;124m\"\u001b[39m,  \u001b[38;5;66;03m# Expected Improvement https://arxiv.org/pdf/1009.5419.pdf\u001b[39;00m\n\u001b[1;32m     10\u001b[0m     initial_point_generator\u001b[38;5;241m=\u001b[39m\u001b[38;5;124m\"\u001b[39m\u001b[38;5;124mhalton\u001b[39m\u001b[38;5;124m\"\u001b[39m, \u001b[38;5;66;03m# https://en.wikipedia.org/wiki/Halton_sequence\u001b[39;00m\n\u001b[1;32m     11\u001b[0m     callback\u001b[38;5;241m=\u001b[39msave_checkpoint,\n\u001b[1;32m     12\u001b[0m     x0\u001b[38;5;241m=\u001b[39mx0,\n\u001b[1;32m     13\u001b[0m     y0\u001b[38;5;241m=\u001b[39my0)\n",
      "File \u001b[0;32m~/Projects/bcnf/src/bcnf/gp_minimize/gp_minimize.py:38\u001b[0m, in \u001b[0;36mgp_minimize_fixed\u001b[0;34m(func, dimensions, base_estimator, n_calls, n_random_starts, n_initial_points, initial_point_generator, acq_func, acq_optimizer, x0, y0, random_state, verbose, callback, n_points, n_restarts_optimizer, xi, kappa, noise, n_jobs, model_queue_size)\u001b[0m\n\u001b[1;32m     33\u001b[0m \u001b[38;5;28;01mif\u001b[39;00m base_estimator \u001b[38;5;129;01mis\u001b[39;00m \u001b[38;5;28;01mNone\u001b[39;00m:\n\u001b[1;32m     34\u001b[0m     base_estimator \u001b[38;5;241m=\u001b[39m cook_estimator(\n\u001b[1;32m     35\u001b[0m         \u001b[38;5;124m\"\u001b[39m\u001b[38;5;124mGP\u001b[39m\u001b[38;5;124m\"\u001b[39m, space\u001b[38;5;241m=\u001b[39mspace, random_state\u001b[38;5;241m=\u001b[39mrng\u001b[38;5;241m.\u001b[39mrandint(\u001b[38;5;241m0\u001b[39m, np\u001b[38;5;241m.\u001b[39miinfo(np\u001b[38;5;241m.\u001b[39mint32)\u001b[38;5;241m.\u001b[39mmax),\n\u001b[1;32m     36\u001b[0m         noise\u001b[38;5;241m=\u001b[39mnoise)\n\u001b[0;32m---> 38\u001b[0m \u001b[38;5;28;01mreturn\u001b[39;00m base_minimize_fixed(\n\u001b[1;32m     39\u001b[0m     func, space, base_estimator\u001b[38;5;241m=\u001b[39mbase_estimator,\n\u001b[1;32m     40\u001b[0m     acq_func\u001b[38;5;241m=\u001b[39macq_func,\n\u001b[1;32m     41\u001b[0m     xi\u001b[38;5;241m=\u001b[39mxi, kappa\u001b[38;5;241m=\u001b[39mkappa, acq_optimizer\u001b[38;5;241m=\u001b[39macq_optimizer, n_calls\u001b[38;5;241m=\u001b[39mn_calls,\n\u001b[1;32m     42\u001b[0m     n_points\u001b[38;5;241m=\u001b[39mn_points, n_random_starts\u001b[38;5;241m=\u001b[39mn_random_starts,\n\u001b[1;32m     43\u001b[0m     n_initial_points\u001b[38;5;241m=\u001b[39mn_initial_points,\n\u001b[1;32m     44\u001b[0m     initial_point_generator\u001b[38;5;241m=\u001b[39minitial_point_generator,\n\u001b[1;32m     45\u001b[0m     n_restarts_optimizer\u001b[38;5;241m=\u001b[39mn_restarts_optimizer,\n\u001b[1;32m     46\u001b[0m     x0\u001b[38;5;241m=\u001b[39mx0, y0\u001b[38;5;241m=\u001b[39my0, random_state\u001b[38;5;241m=\u001b[39mrng, verbose\u001b[38;5;241m=\u001b[39mverbose,\n\u001b[1;32m     47\u001b[0m     callback\u001b[38;5;241m=\u001b[39mcallback, n_jobs\u001b[38;5;241m=\u001b[39mn_jobs, model_queue_size\u001b[38;5;241m=\u001b[39mmodel_queue_size)\n",
      "File \u001b[0;32m~/Projects/bcnf/src/bcnf/gp_minimize/gp_minimize.py:155\u001b[0m, in \u001b[0;36mbase_minimize_fixed\u001b[0;34m(func, dimensions, base_estimator, n_calls, n_random_starts, n_initial_points, initial_point_generator, acq_func, acq_optimizer, x0, y0, random_state, verbose, callback, n_points, n_restarts_optimizer, xi, kappa, n_jobs, model_queue_size)\u001b[0m\n\u001b[1;32m    153\u001b[0m \u001b[38;5;28;01mfor\u001b[39;00m n \u001b[38;5;129;01min\u001b[39;00m \u001b[38;5;28mrange\u001b[39m(n_calls):\n\u001b[1;32m    154\u001b[0m     next_x \u001b[38;5;241m=\u001b[39m optimizer\u001b[38;5;241m.\u001b[39mask()\n\u001b[0;32m--> 155\u001b[0m     next_y \u001b[38;5;241m=\u001b[39m func(next_x)\n\u001b[1;32m    156\u001b[0m     result \u001b[38;5;241m=\u001b[39m optimizer\u001b[38;5;241m.\u001b[39mtell(next_x, next_y)\n\u001b[1;32m    157\u001b[0m     result\u001b[38;5;241m.\u001b[39mspecs \u001b[38;5;241m=\u001b[39m specs\n",
      "Cell \u001b[0;32mIn[15], line 7\u001b[0m, in \u001b[0;36mscore_parameters\u001b[0;34m(params)\u001b[0m\n\u001b[1;32m      4\u001b[0m \u001b[38;5;66;03m# Catch training errors (such as divergence) to filter out bad parameter sets and speed up the optimization\u001b[39;00m\n\u001b[1;32m      5\u001b[0m \u001b[38;5;28;01mtry\u001b[39;00m:\n\u001b[1;32m      6\u001b[0m     \u001b[38;5;66;03m# Use cross-validation to estimate the performance of the model\u001b[39;00m\n\u001b[0;32m----> 7\u001b[0m     fold_metrics \u001b[38;5;241m=\u001b[39m cross_validate(\n\u001b[1;32m      8\u001b[0m         model_class\u001b[38;5;241m=\u001b[39mCondRealNVP,\n\u001b[1;32m      9\u001b[0m         model_kwargs\u001b[38;5;241m=\u001b[39m{\n\u001b[1;32m     10\u001b[0m             \u001b[38;5;124m\"\u001b[39m\u001b[38;5;124msize\u001b[39m\u001b[38;5;124m\"\u001b[39m: model_size,\n\u001b[1;32m     11\u001b[0m             \u001b[38;5;124m\"\u001b[39m\u001b[38;5;124mnested_sizes\u001b[39m\u001b[38;5;124m\"\u001b[39m: [params[param_index(\u001b[38;5;124m'\u001b[39m\u001b[38;5;124mmodel_nested_size\u001b[39m\u001b[38;5;124m'\u001b[39m, search_spaces)]] \u001b[38;5;241m*\u001b[39m params[param_index(\u001b[38;5;124m'\u001b[39m\u001b[38;5;124mmodel_nested_layers\u001b[39m\u001b[38;5;124m'\u001b[39m, search_spaces)],\n\u001b[1;32m     12\u001b[0m             \u001b[38;5;124m\"\u001b[39m\u001b[38;5;124mn_blocks\u001b[39m\u001b[38;5;124m\"\u001b[39m: params[param_index(\u001b[38;5;124m'\u001b[39m\u001b[38;5;124mmodel_n_blocks\u001b[39m\u001b[38;5;124m'\u001b[39m, search_spaces)],\n\u001b[1;32m     13\u001b[0m             \u001b[38;5;124m\"\u001b[39m\u001b[38;5;124mn_conditions\u001b[39m\u001b[38;5;124m\"\u001b[39m: params[param_index(\u001b[38;5;124m'\u001b[39m\u001b[38;5;124mcondition_size\u001b[39m\u001b[38;5;124m'\u001b[39m, search_spaces)],\n\u001b[1;32m     14\u001b[0m             \u001b[38;5;124m\"\u001b[39m\u001b[38;5;124mact_norm\u001b[39m\u001b[38;5;124m\"\u001b[39m: params[param_index(\u001b[38;5;124m'\u001b[39m\u001b[38;5;124mmodel_act_norm\u001b[39m\u001b[38;5;124m'\u001b[39m, search_spaces)],\n\u001b[1;32m     15\u001b[0m             \u001b[38;5;124m\"\u001b[39m\u001b[38;5;124mdropout\u001b[39m\u001b[38;5;124m\"\u001b[39m: params[param_index(\u001b[38;5;124m'\u001b[39m\u001b[38;5;124mmodel_dropout\u001b[39m\u001b[38;5;124m'\u001b[39m, search_spaces)],\n\u001b[1;32m     16\u001b[0m         },\n\u001b[1;32m     17\u001b[0m         feature_network_class\u001b[38;5;241m=\u001b[39mFullyConnectedFeatureNetwork,\n\u001b[1;32m     18\u001b[0m         feature_network_kwargs\u001b[38;5;241m=\u001b[39m{\n\u001b[1;32m     19\u001b[0m             \u001b[38;5;124m\"\u001b[39m\u001b[38;5;124msizes\u001b[39m\u001b[38;5;124m\"\u001b[39m: [feature_size]\n\u001b[1;32m     20\u001b[0m                 \u001b[38;5;241m+\u001b[39m [params[param_index(\u001b[38;5;124m'\u001b[39m\u001b[38;5;124mfeature_network_hidden_size\u001b[39m\u001b[38;5;124m'\u001b[39m, search_spaces)]] \u001b[38;5;241m*\u001b[39m params[param_index(\u001b[38;5;124m'\u001b[39m\u001b[38;5;124mfeature_network_hidden_layers\u001b[39m\u001b[38;5;124m'\u001b[39m, search_spaces)]\n\u001b[1;32m     21\u001b[0m                 \u001b[38;5;241m+\u001b[39m [params[param_index(\u001b[38;5;124m'\u001b[39m\u001b[38;5;124mcondition_size\u001b[39m\u001b[38;5;124m'\u001b[39m, search_spaces)]],\n\u001b[1;32m     22\u001b[0m             \u001b[38;5;124m\"\u001b[39m\u001b[38;5;124mdropout\u001b[39m\u001b[38;5;124m\"\u001b[39m: params[param_index(\u001b[38;5;124m'\u001b[39m\u001b[38;5;124mfeature_network_dropout\u001b[39m\u001b[38;5;124m'\u001b[39m, search_spaces)],    \n\u001b[1;32m     23\u001b[0m         },\n\u001b[1;32m     24\u001b[0m         optimizer_class\u001b[38;5;241m=\u001b[39mtorch\u001b[38;5;241m.\u001b[39moptim\u001b[38;5;241m.\u001b[39mAdam,\n\u001b[1;32m     25\u001b[0m         optimizer_kwargs\u001b[38;5;241m=\u001b[39moptimizer_kwargs,\n\u001b[1;32m     26\u001b[0m         lr_scheduler_class\u001b[38;5;241m=\u001b[39mtorch\u001b[38;5;241m.\u001b[39moptim\u001b[38;5;241m.\u001b[39mlr_scheduler\u001b[38;5;241m.\u001b[39mReduceLROnPlateau,\n\u001b[1;32m     27\u001b[0m         lr_scheduler_kwargs\u001b[38;5;241m=\u001b[39mlr_scheduler_kwargs,\n\u001b[1;32m     28\u001b[0m         X\u001b[38;5;241m=\u001b[39mX_tensor,\n\u001b[1;32m     29\u001b[0m         y\u001b[38;5;241m=\u001b[39my_tensor,\n\u001b[1;32m     30\u001b[0m         n_epochs\u001b[38;5;241m=\u001b[39m\u001b[38;5;241m50_000\u001b[39m,\n\u001b[1;32m     31\u001b[0m         val_loss_patience\u001b[38;5;241m=\u001b[39m\u001b[38;5;241m500\u001b[39m,\n\u001b[1;32m     32\u001b[0m         val_loss_tolerance\u001b[38;5;241m=\u001b[39m\u001b[38;5;241m1e-1\u001b[39m,  \u001b[38;5;66;03m# Improvements to treat as significant\u001b[39;00m\n\u001b[1;32m     33\u001b[0m         val_loss_tolerance_mode\u001b[38;5;241m=\u001b[39m\u001b[38;5;124m\"\u001b[39m\u001b[38;5;124mabs\u001b[39m\u001b[38;5;124m\"\u001b[39m,\n\u001b[1;32m     34\u001b[0m         timeout\u001b[38;5;241m=\u001b[39m\u001b[38;5;241m60\u001b[39m \u001b[38;5;241m*\u001b[39m \u001b[38;5;241m60\u001b[39m,  \u001b[38;5;66;03m# 1 hour\u001b[39;00m\n\u001b[1;32m     35\u001b[0m         batch_size\u001b[38;5;241m=\u001b[39m\u001b[38;5;241m256\u001b[39m,\n\u001b[1;32m     36\u001b[0m         device\u001b[38;5;241m=\u001b[39mdevice,\n\u001b[1;32m     37\u001b[0m         verbose\u001b[38;5;241m=\u001b[39m\u001b[38;5;28;01mTrue\u001b[39;00m,  \u001b[38;5;66;03m# Print the progress\u001b[39;00m\n\u001b[1;32m     38\u001b[0m         n_splits\u001b[38;5;241m=\u001b[39m\u001b[38;5;241m3\u001b[39m,\n\u001b[1;32m     39\u001b[0m         errors\u001b[38;5;241m=\u001b[39m\u001b[38;5;124m\"\u001b[39m\u001b[38;5;124mraise\u001b[39m\u001b[38;5;124m\"\u001b[39m  \u001b[38;5;66;03m# Raise errors to stop the optimization\u001b[39;00m\n\u001b[1;32m     40\u001b[0m     )\n\u001b[1;32m     42\u001b[0m     \u001b[38;5;66;03m# Save the loss_history and metrics for analysis\u001b[39;00m\n\u001b[1;32m     43\u001b[0m     \u001b[38;5;28;01mwith\u001b[39;00m \u001b[38;5;28mopen\u001b[39m(os\u001b[38;5;241m.\u001b[39mpath\u001b[38;5;241m.\u001b[39mjoin(metrics_dir, \u001b[38;5;124mf\u001b[39m\u001b[38;5;124m'\u001b[39m\u001b[38;5;124mparams_\u001b[39m\u001b[38;5;132;01m{\u001b[39;00m\u001b[38;5;124m\"\u001b[39m\u001b[38;5;124m_\u001b[39m\u001b[38;5;124m\"\u001b[39m\u001b[38;5;241m.\u001b[39mjoin([\u001b[38;5;28mstr\u001b[39m(p)\u001b[38;5;250m \u001b[39m\u001b[38;5;28;01mfor\u001b[39;00m\u001b[38;5;250m \u001b[39mp\u001b[38;5;250m \u001b[39m\u001b[38;5;129;01min\u001b[39;00m\u001b[38;5;250m \u001b[39mparams])\u001b[38;5;132;01m}\u001b[39;00m\u001b[38;5;124m.pkl\u001b[39m\u001b[38;5;124m'\u001b[39m), \u001b[38;5;124m'\u001b[39m\u001b[38;5;124mwb\u001b[39m\u001b[38;5;124m'\u001b[39m) \u001b[38;5;28;01mas\u001b[39;00m f:\n",
      "File \u001b[0;32m~/Projects/bcnf/src/bcnf/eval/crossvalidate.py:63\u001b[0m, in \u001b[0;36mcross_validate\u001b[0;34m(model_class, model_kwargs, feature_network_class, feature_network_kwargs, optimizer_class, optimizer_kwargs, lr_scheduler_class, lr_scheduler_kwargs, X, y, n_splits, n_epochs, val_loss_patience, val_loss_tolerance, val_loss_tolerance_mode, timeout, batch_size, device, verbose, shuffle, random_state, errors)\u001b[0m\n\u001b[1;32m     61\u001b[0m \u001b[38;5;66;03m# Train the model\u001b[39;00m\n\u001b[1;32m     62\u001b[0m \u001b[38;5;28;01mtry\u001b[39;00m:\n\u001b[0;32m---> 63\u001b[0m     loss_history \u001b[38;5;241m=\u001b[39m train_CondRealNVP(\n\u001b[1;32m     64\u001b[0m         model\u001b[38;5;241m=\u001b[39mmodel,\n\u001b[1;32m     65\u001b[0m         optimizer\u001b[38;5;241m=\u001b[39moptimizer,\n\u001b[1;32m     66\u001b[0m         lr_scheduler\u001b[38;5;241m=\u001b[39mlr_scheduler,\n\u001b[1;32m     67\u001b[0m         X_train\u001b[38;5;241m=\u001b[39mX_train,\n\u001b[1;32m     68\u001b[0m         y_train\u001b[38;5;241m=\u001b[39my_train,\n\u001b[1;32m     69\u001b[0m         n_epochs\u001b[38;5;241m=\u001b[39mn_epochs,\n\u001b[1;32m     70\u001b[0m         val_loss_patience\u001b[38;5;241m=\u001b[39mval_loss_patience,\n\u001b[1;32m     71\u001b[0m         val_loss_tolerance\u001b[38;5;241m=\u001b[39mval_loss_tolerance,\n\u001b[1;32m     72\u001b[0m         val_loss_tolerance_mode\u001b[38;5;241m=\u001b[39mval_loss_tolerance_mode,\n\u001b[1;32m     73\u001b[0m         timeout\u001b[38;5;241m=\u001b[39mtimeout,\n\u001b[1;32m     74\u001b[0m         X_val\u001b[38;5;241m=\u001b[39mX_val,\n\u001b[1;32m     75\u001b[0m         y_val\u001b[38;5;241m=\u001b[39my_val,\n\u001b[1;32m     76\u001b[0m         batch_size\u001b[38;5;241m=\u001b[39mbatch_size,\n\u001b[1;32m     77\u001b[0m         verbose\u001b[38;5;241m=\u001b[39mverbose)\n\u001b[1;32m     78\u001b[0m \u001b[38;5;28;01mexcept\u001b[39;00m TrainingDivergedError \u001b[38;5;28;01mas\u001b[39;00m e:\n\u001b[1;32m     79\u001b[0m     \u001b[38;5;28mprint\u001b[39m(\u001b[38;5;124mf\u001b[39m\u001b[38;5;124m'\u001b[39m\u001b[38;5;124mError in fold \u001b[39m\u001b[38;5;132;01m{\u001b[39;00mi\u001b[38;5;132;01m}\u001b[39;00m\u001b[38;5;124m: \u001b[39m\u001b[38;5;132;01m{\u001b[39;00me\u001b[38;5;132;01m}\u001b[39;00m\u001b[38;5;124m'\u001b[39m)\n",
      "File \u001b[0;32m~/Projects/bcnf/src/bcnf/train/train.py:130\u001b[0m, in \u001b[0;36mtrain_CondRealNVP\u001b[0;34m(model, optimizer, lr_scheduler, X_train, y_train, n_epochs, val_loss_patience, val_loss_tolerance, val_loss_tolerance_mode, val_loss_alpha, timeout, X_val, y_val, batch_size, loss_history, verbose)\u001b[0m\n\u001b[1;32m    127\u001b[0m loss \u001b[38;5;241m=\u001b[39m inn_nll_loss(z, model\u001b[38;5;241m.\u001b[39mlog_det_J)\n\u001b[1;32m    129\u001b[0m \u001b[38;5;66;03m# Backpropagate\u001b[39;00m\n\u001b[0;32m--> 130\u001b[0m loss\u001b[38;5;241m.\u001b[39mbackward()\n\u001b[1;32m    132\u001b[0m \u001b[38;5;28;01mif\u001b[39;00m loss\u001b[38;5;241m.\u001b[39mitem() \u001b[38;5;241m>\u001b[39m \u001b[38;5;241m1e5\u001b[39m \u001b[38;5;129;01mor\u001b[39;00m torch\u001b[38;5;241m.\u001b[39misnan(loss)\u001b[38;5;241m.\u001b[39many():\n\u001b[1;32m    133\u001b[0m     \u001b[38;5;28;01mraise\u001b[39;00m TrainingDivergedError(\u001b[38;5;124mf\u001b[39m\u001b[38;5;124m\"\u001b[39m\u001b[38;5;124mLoss exploded to \u001b[39m\u001b[38;5;132;01m{\u001b[39;00mloss\u001b[38;5;241m.\u001b[39mitem()\u001b[38;5;132;01m}\u001b[39;00m\u001b[38;5;124m at epoch \u001b[39m\u001b[38;5;132;01m{\u001b[39;00mepoch\u001b[38;5;250m \u001b[39m\u001b[38;5;241m+\u001b[39m\u001b[38;5;250m \u001b[39mi\u001b[38;5;250m \u001b[39m\u001b[38;5;241m/\u001b[39m\u001b[38;5;250m \u001b[39m\u001b[38;5;28mlen\u001b[39m(train_loader)\u001b[38;5;132;01m}\u001b[39;00m\u001b[38;5;124m\"\u001b[39m)\n",
      "File \u001b[0;32m~/miniconda3/envs/bcnf/lib/python3.11/site-packages/torch/_tensor.py:522\u001b[0m, in \u001b[0;36mTensor.backward\u001b[0;34m(self, gradient, retain_graph, create_graph, inputs)\u001b[0m\n\u001b[1;32m    512\u001b[0m \u001b[38;5;28;01mif\u001b[39;00m has_torch_function_unary(\u001b[38;5;28mself\u001b[39m):\n\u001b[1;32m    513\u001b[0m     \u001b[38;5;28;01mreturn\u001b[39;00m handle_torch_function(\n\u001b[1;32m    514\u001b[0m         Tensor\u001b[38;5;241m.\u001b[39mbackward,\n\u001b[1;32m    515\u001b[0m         (\u001b[38;5;28mself\u001b[39m,),\n\u001b[0;32m   (...)\u001b[0m\n\u001b[1;32m    520\u001b[0m         inputs\u001b[38;5;241m=\u001b[39minputs,\n\u001b[1;32m    521\u001b[0m     )\n\u001b[0;32m--> 522\u001b[0m torch\u001b[38;5;241m.\u001b[39mautograd\u001b[38;5;241m.\u001b[39mbackward(\n\u001b[1;32m    523\u001b[0m     \u001b[38;5;28mself\u001b[39m, gradient, retain_graph, create_graph, inputs\u001b[38;5;241m=\u001b[39minputs\n\u001b[1;32m    524\u001b[0m )\n",
      "File \u001b[0;32m~/miniconda3/envs/bcnf/lib/python3.11/site-packages/torch/autograd/__init__.py:266\u001b[0m, in \u001b[0;36mbackward\u001b[0;34m(tensors, grad_tensors, retain_graph, create_graph, grad_variables, inputs)\u001b[0m\n\u001b[1;32m    261\u001b[0m     retain_graph \u001b[38;5;241m=\u001b[39m create_graph\n\u001b[1;32m    263\u001b[0m \u001b[38;5;66;03m# The reason we repeat the same comment below is that\u001b[39;00m\n\u001b[1;32m    264\u001b[0m \u001b[38;5;66;03m# some Python versions print out the first line of a multi-line function\u001b[39;00m\n\u001b[1;32m    265\u001b[0m \u001b[38;5;66;03m# calls in the traceback and some print out the last line\u001b[39;00m\n\u001b[0;32m--> 266\u001b[0m Variable\u001b[38;5;241m.\u001b[39m_execution_engine\u001b[38;5;241m.\u001b[39mrun_backward(  \u001b[38;5;66;03m# Calls into the C++ engine to run the backward pass\u001b[39;00m\n\u001b[1;32m    267\u001b[0m     tensors,\n\u001b[1;32m    268\u001b[0m     grad_tensors_,\n\u001b[1;32m    269\u001b[0m     retain_graph,\n\u001b[1;32m    270\u001b[0m     create_graph,\n\u001b[1;32m    271\u001b[0m     inputs,\n\u001b[1;32m    272\u001b[0m     allow_unreachable\u001b[38;5;241m=\u001b[39m\u001b[38;5;28;01mTrue\u001b[39;00m,\n\u001b[1;32m    273\u001b[0m     accumulate_grad\u001b[38;5;241m=\u001b[39m\u001b[38;5;28;01mTrue\u001b[39;00m,\n\u001b[1;32m    274\u001b[0m )\n",
      "\u001b[0;31mKeyboardInterrupt\u001b[0m: "
     ]
    }
   ],
   "source": [
    "# You might want to adjust the n_calls or other parameters based on the checkpoint\n",
    "result = gp_minimize_fixed(\n",
    "    func=score_parameters,\n",
    "    dimensions=search_spaces.values(),\n",
    "    n_initial_points=n_initial_points,  # Number of random points before starting the optimization\n",
    "    n_calls=n_calls_remaining,  # Number of iterations\n",
    "    random_state=2024_03_25,\n",
    "    verbose=True,\n",
    "    acq_func=\"EI\",  # Expected Improvement https://arxiv.org/pdf/1009.5419.pdf\n",
    "    initial_point_generator=\"halton\", # https://en.wikipedia.org/wiki/Halton_sequence\n",
    "    callback=save_checkpoint,\n",
    "    x0=x0,\n",
    "    y0=y0)"
   ]
  }
 ],
 "metadata": {
  "kernelspec": {
   "display_name": "bcnf",
   "language": "python",
   "name": "python3"
  },
  "language_info": {
   "codemirror_mode": {
    "name": "ipython",
    "version": 3
   },
   "file_extension": ".py",
   "mimetype": "text/x-python",
   "name": "python",
   "nbconvert_exporter": "python",
   "pygments_lexer": "ipython3",
   "version": "3.11.8"
  }
 },
 "nbformat": 4,
 "nbformat_minor": 2
}
