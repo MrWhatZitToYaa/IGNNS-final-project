{
 "cells": [
  {
   "cell_type": "code",
   "execution_count": 1,
   "metadata": {},
   "outputs": [
    {
     "name": "stdout",
     "output_type": "stream",
     "text": [
      "cuda:0\n"
     ]
    }
   ],
   "source": [
    "import os\n",
    "import shutil\n",
    "import pickle\n",
    "import numpy as np\n",
    "import torch\n",
    "import copy\n",
    "import matplotlib.pyplot as plt\n",
    "\n",
    "from skopt.space import Real, Categorical, Integer\n",
    "\n",
    "from bcnf.gp_minimize.gp_minimize import gp_minimize_fixed\n",
    "from bcnf.simulation.physics import get_data\n",
    "from bcnf.models.cnf import CondRealNVP\n",
    "from bcnf.models.feature_network import FullyConnectedFeatureNetwork\n",
    "from bcnf.eval.crossvalidate import cross_validate\n",
    "from bcnf.errors import TrainingDivergedError\n",
    "from bcnf.utils import get_dir\n",
    "\n",
    "from bcnf.simulation.sampling import generate_data\n",
    "\n",
    "device = torch.device(\"cuda:0\" if torch.cuda.is_available() else \"cpu\")\n",
    "print(device)"
   ]
  },
  {
   "cell_type": "markdown",
   "metadata": {},
   "source": [
    "## Setup"
   ]
  },
  {
   "cell_type": "code",
   "execution_count": 2,
   "metadata": {},
   "outputs": [],
   "source": [
    "# HACK: scikit-optimize is not maintained anymore and this is a quick fix to make it work\n",
    "# https://github.com/scikit-optimize/scikit-optimize/issues/1171#:~:text=To%20avoid%20this%20error%20in%20existing%20code%2C%20use%20int%20by%20itself.\n",
    "np.int = np.int64"
   ]
  },
  {
   "cell_type": "code",
   "execution_count": 3,
   "metadata": {},
   "outputs": [
    {
     "name": "stdout",
     "output_type": "stream",
     "text": [
      "/home/psaegert/Projects/bcnf/models/bcnf-models/hyperparameter_optimization/stage_2/checkpoint_improved.pkl\n",
      "/home/psaegert/Projects/bcnf/models/bcnf-models/hyperparameter_optimization/stage_2/metrics\n"
     ]
    }
   ],
   "source": [
    "# Store and load the progress in the Huggingface repository\n",
    "checkpoint_file = os.path.join(get_dir(\"models\", \"bcnf-models\", \"hyperparameter_optimization\", \"stage_2\", create=True), 'checkpoint_improved.pkl')\n",
    "metrics_dir = get_dir(\"models\", \"bcnf-models\", \"hyperparameter_optimization\", \"stage_2\", \"metrics\", create=True)\n",
    "\n",
    "print(os.path.abspath(checkpoint_file))\n",
    "print(os.path.abspath(metrics_dir))"
   ]
  },
  {
   "cell_type": "markdown",
   "metadata": {},
   "source": [
    "## Data"
   ]
  },
  {
   "cell_type": "code",
   "execution_count": 4,
   "metadata": {},
   "outputs": [],
   "source": [
    "param_names = ['x0_x','x0_y','x0_z','v0_x','v0_y','v0_z','g','w_x','w_y','w_z','b','A','Cd','rho','m','a_x','a_y','a_z','r']"
   ]
  },
  {
   "cell_type": "code",
   "execution_count": 5,
   "metadata": {},
   "outputs": [],
   "source": [
    "# dataset_name = \"hyperparameter_optimization_trajectories\"\n",
    "\n",
    "# if not os.path.exists(os.path.join(get_dir('data', 'bcnf-data'), dataset_name + '.pkl')):\n",
    "#     data = generate_data(\n",
    "#         n=2000,\n",
    "#         type=\"trajectory\",\n",
    "#         SPF=1/30,\n",
    "#         T=3,\n",
    "#         config_file=os.path.join(get_dir(\"configs\"), \"throw_upwards.yaml\"),\n",
    "#         verbose=True,\n",
    "#         break_on_impact=False,\n",
    "#         name=dataset_name\n",
    "#     )\n",
    "# else:\n",
    "#     with open(os.path.join(get_dir('data', 'bcnf-data'), dataset_name + '.pkl'), 'rb') as f:\n",
    "#         data = pickle.load(f)"
   ]
  },
  {
   "cell_type": "code",
   "execution_count": 6,
   "metadata": {},
   "outputs": [],
   "source": [
    "# X = np.array(data['traj'])\n",
    "# y = np.column_stack([np.array(data[param]) for param in param_names])\n",
    "\n",
    "\n",
    "# X_tensor = torch.Tensor(X.reshape(X.shape[0], -1))\n",
    "# y_tensor = torch.Tensor(y)\n",
    "\n",
    "# X_tensor.shape, y_tensor.shape"
   ]
  },
  {
   "cell_type": "markdown",
   "metadata": {},
   "source": [
    "## Hyperparameter"
   ]
  },
  {
   "cell_type": "code",
   "execution_count": null,
   "metadata": {},
   "outputs": [
    {
     "name": "stderr",
     "output_type": "stream",
     "text": [
      "100%|██████████| 2000/2000 [00:02<00:00, 904.24it/s]\n"
     ]
    },
    {
     "data": {
      "text/plain": [
       "(torch.Size([2000, 90]), torch.Size([2000, 17]))"
      ]
     },
     "metadata": {},
     "output_type": "display_data"
    }
   ],
   "source": [
    "X, y = get_data(\n",
    "    T=1.0,\n",
    "    dt=1 / 30,\n",
    "    N=2_000,\n",
    "    break_on_impact=False\n",
    ")\n",
    "\n",
    "X_tensor = torch.Tensor(X.reshape(X.shape[0], -1))\n",
    "y_tensor = torch.Tensor(y)\n",
    "\n",
    "X_tensor.shape, y_tensor.shape"
   ]
  },
  {
   "cell_type": "code",
   "execution_count": 8,
   "metadata": {},
   "outputs": [
    {
     "name": "stdout",
     "output_type": "stream",
     "text": [
      "Model size: 17\n",
      "Feature size: 90\n"
     ]
    }
   ],
   "source": [
    "model_size = y_tensor.shape[1]\n",
    "feature_size = X_tensor.shape[1]\n",
    "\n",
    "print(f\"Model size: {model_size}\")\n",
    "print(f\"Feature size: {feature_size}\")"
   ]
  },
  {
   "cell_type": "code",
   "execution_count": 9,
   "metadata": {},
   "outputs": [],
   "source": [
    "# These parameters have worked well in pilot experiments\n",
    "optimizer_kwargs = {\n",
    "    \"lr\": 2e-4\n",
    "}\n",
    "\n",
    "lr_scheduler_kwargs = {\n",
    "    \"mode\": \"min\",\n",
    "    \"factor\": 0.5,\n",
    "    \"patience\": 250,\n",
    "    \"threshold_mode\": \"abs\",\n",
    "    \"threshold\": 1e-1,\n",
    "}"
   ]
  },
  {
   "cell_type": "code",
   "execution_count": 10,
   "metadata": {},
   "outputs": [],
   "source": [
    "# Define the search space\n",
    "search_spaces = {\n",
    "    'condition_size': Integer(1, 2048),\n",
    "    'model_nested_size': Integer(16, 1024),\n",
    "    'model_nested_layers': Integer(1, 8),\n",
    "    'model_n_blocks': Integer(4, 32),\n",
    "    'model_act_norm': Categorical([True, False]),\n",
    "    'model_dropout': Real(0.0, 0.5),\n",
    "    'feature_network_hidden_size': Integer(16, 256),\n",
    "    'feature_network_hidden_layers': Integer(0, 16),\n",
    "    'feature_network_dropout': Real(0.0, 0.5),\n",
    "}"
   ]
  },
  {
   "cell_type": "markdown",
   "metadata": {},
   "source": [
    "## Helper Functions"
   ]
  },
  {
   "cell_type": "code",
   "execution_count": 11,
   "metadata": {},
   "outputs": [],
   "source": [
    "def param_index(name: str, search_spaces: dict[str, Real | Integer | Categorical]):\n",
    "    \"\"\"\n",
    "    Get the index of a parameter in the search space to match the order of the parameters in the optimization function.\n",
    "    \n",
    "    Parameters\n",
    "    ----------\n",
    "    name : str\n",
    "        The name of the parameter.\n",
    "    search_spaces : dict[str, Real | Integer | Categorical]\n",
    "        The search space.\n",
    "\n",
    "    Returns\n",
    "    -------\n",
    "    int\n",
    "        The index of the parameter in the search space.\n",
    "    \"\"\"\n",
    "    return list(search_spaces.keys()).index(name)"
   ]
  },
  {
   "cell_type": "code",
   "execution_count": 12,
   "metadata": {},
   "outputs": [],
   "source": [
    "def score_parameters(params: list):\n",
    "    print({k: v for k, v in zip(search_spaces.keys(), params)})\n",
    "\n",
    "    # Catch training errors (such as divergence) to filter out bad parameter sets and speed up the optimization\n",
    "    try:\n",
    "        # Use cross-validation to estimate the performance of the model\n",
    "        fold_metrics = cross_validate(\n",
    "            model_class=CondRealNVP,\n",
    "            model_kwargs={\n",
    "                \"size\": model_size,\n",
    "                \"nested_sizes\": [params[param_index('model_nested_size', search_spaces)]] * params[param_index('model_nested_layers', search_spaces)],\n",
    "                \"n_blocks\": params[param_index('model_n_blocks', search_spaces)],\n",
    "                \"n_conditions\": params[param_index('condition_size', search_spaces)],\n",
    "                \"act_norm\": params[param_index('model_act_norm', search_spaces)],\n",
    "                \"dropout\": params[param_index('model_dropout', search_spaces)],\n",
    "            },\n",
    "            feature_network_class=FullyConnectedFeatureNetwork,\n",
    "            feature_network_kwargs={\n",
    "                \"sizes\": [feature_size]\n",
    "                    + [params[param_index('feature_network_hidden_size', search_spaces)]] * params[param_index('feature_network_hidden_layers', search_spaces)]\n",
    "                    + [params[param_index('condition_size', search_spaces)]],\n",
    "                \"dropout\": params[param_index('feature_network_dropout', search_spaces)],    \n",
    "            },\n",
    "            optimizer_class=torch.optim.Adam,\n",
    "            optimizer_kwargs=optimizer_kwargs,\n",
    "            lr_scheduler_class=torch.optim.lr_scheduler.ReduceLROnPlateau,\n",
    "            lr_scheduler_kwargs=lr_scheduler_kwargs,\n",
    "            X=X_tensor,\n",
    "            y=y_tensor,\n",
    "            n_epochs=50_000,\n",
    "            val_loss_patience=500,\n",
    "            val_loss_tolerance=1e-1,  # Improvements to treat as significant\n",
    "            val_loss_tolerance_mode=\"abs\",\n",
    "            timeout=60 * 60,  # 1 hour\n",
    "            batch_size=256,\n",
    "            device=device,\n",
    "            verbose=True,  # Print the progress\n",
    "            n_splits=3,\n",
    "            errors=\"raise\"  # Raise errors to stop the optimization\n",
    "        )\n",
    "\n",
    "        # Save the loss_history and metrics for analysis\n",
    "        with open(os.path.join(metrics_dir, f'params_{\"_\".join([str(p) for p in params])}.pkl'), 'wb') as f:\n",
    "            pickle.dump(fold_metrics, f)\n",
    "\n",
    "    except TrainingDivergedError as e:\n",
    "        print(e)\n",
    "        return 100  # A big number (bad score) to avoid this parameter set\n",
    "\n",
    "    # Print the average validation loss and its standard deviation during optimization\n",
    "    val_loss_list = [r['val_loss'][1] for r in fold_metrics]  # each val_loss value is a tuple (epoch, loss)\n",
    "    print(f'Val Loss: {np.mean(val_loss_list):.4f} ± {np.std(val_loss_list):.4f}')\n",
    "\n",
    "    # Return the upper confidence bound of the validation loss\n",
    "    # This encourages the optimization to find good AND reliable parameter sets\n",
    "    return np.mean(val_loss_list) + np.std(val_loss_list)"
   ]
  },
  {
   "cell_type": "code",
   "execution_count": 13,
   "metadata": {},
   "outputs": [],
   "source": [
    "def save_checkpoint(result):\n",
    "    \"\"\"\n",
    "    Save the result of the optimization to a checkpoint file.\n",
    "    Used as a callback in the optimization function.\n",
    "    \n",
    "    Parameters\n",
    "    ----------\n",
    "    result : OptimizeResult\n",
    "        The result of the optimization.\n",
    "    \"\"\"\n",
    "    # Safely write the result to a temporary file first without overwriting the checkpoint file\n",
    "    with open(checkpoint_file + \".tmp\", 'wb') as f:\n",
    "        # Ignore\n",
    "        # - result['specs']['args']['func']\n",
    "        # - result['specs']['args']['callback']\n",
    "        # because it causes problems when reading somewhere else\n",
    "        result_no_func = copy.deepcopy(result)\n",
    "        del result_no_func['specs']['args']['func']\n",
    "        del result_no_func['specs']['args']['callback']\n",
    "        pickle.dump(result_no_func, f)\n",
    "\n",
    "    # Delete the old checkpoint file and rename the temporary file\n",
    "    shutil.move(checkpoint_file + \".tmp\", checkpoint_file)"
   ]
  },
  {
   "cell_type": "markdown",
   "metadata": {},
   "source": [
    "## Optimization"
   ]
  },
  {
   "cell_type": "code",
   "execution_count": 14,
   "metadata": {},
   "outputs": [],
   "source": [
    "# Numer of random initial points to explore the search space\n",
    "N_STEPS_INIT = 30\n",
    "\n",
    "# Number of iterations to run the optimization in total\n",
    "N_STEPS = 100"
   ]
  },
  {
   "cell_type": "code",
   "execution_count": 15,
   "metadata": {},
   "outputs": [
    {
     "name": "stdout",
     "output_type": "stream",
     "text": [
      "No checkpoint found. Starting new optimization\n",
      "Running with 30 initial points and 100 remaining iterations\n"
     ]
    }
   ],
   "source": [
    "# Load the checkpoint if it exists\n",
    "if os.path.exists(checkpoint_file):\n",
    "    print(f'Loading checkpoint from {checkpoint_file}')\n",
    "\n",
    "    with open(checkpoint_file, 'rb') as f:\n",
    "        checkpoint = pickle.load(f)\n",
    "\n",
    "        # Re-assign the function and callback because they are not picklable\n",
    "        checkpoint['specs']['args']['func'] = score_parameters\n",
    "        checkpoint['specs']['args']['callback'] = save_checkpoint\n",
    "\n",
    "    print(f'Resuming from iteration {len(checkpoint.x_iters)}')\n",
    "\n",
    "    n_initial_points = max(0, N_STEPS_INIT - len(checkpoint.x_iters))\n",
    "    n_calls_remaining = max(0, N_STEPS - len(checkpoint.x_iters))\n",
    "    x0 = checkpoint.x_iters\n",
    "    y0 = checkpoint.func_vals\n",
    "else:\n",
    "    print('No checkpoint found. Starting new optimization')\n",
    "    checkpoint = None\n",
    "\n",
    "    n_initial_points = N_STEPS_INIT\n",
    "    n_calls_remaining = N_STEPS\n",
    "\n",
    "    x0 = None\n",
    "    y0 = None\n",
    "    \n",
    "print(f'Running with {n_initial_points} initial points and {n_calls_remaining} remaining iterations')"
   ]
  },
  {
   "cell_type": "code",
   "execution_count": 16,
   "metadata": {},
   "outputs": [
    {
     "name": "stdout",
     "output_type": "stream",
     "text": [
      "30 initial points will be randomly generated\n",
      "Iteration No: 1 started. Evaluating function at random point.\n",
      "{'condition_size': 1, 'model_nested_size': 16, 'model_nested_layers': 1, 'model_n_blocks': 4, 'model_act_norm': False, 'model_dropout': 0.0, 'feature_network_hidden_size': 16, 'feature_network_hidden_layers': 0, 'feature_network_dropout': 0.0}\n"
     ]
    },
    {
     "name": "stderr",
     "output_type": "stream",
     "text": [
      "Train: -8.1279 - Val: -7.9453 (avg: -7.9333, min: -7.8651) | lr: 6.25e-06 - Patience: 500/500:  15%|█▍        | 7449/50000 [02:53<16:32, 42.88it/s] \n",
      "Train: -11.9331 - Val: -10.6863 (avg: -10.6912, min: -10.6218) | lr: 6.25e-06 - Patience: 500/500:  13%|█▎        | 6259/50000 [02:27<17:10, 42.43it/s]\n",
      "Train: -11.7297 - Val: -11.1704 (avg: -11.1647, min: -11.0659) | lr: 6.25e-06 - Patience: 500/500:  20%|█▉        | 9823/50000 [03:54<15:58, 41.93it/s]\n"
     ]
    },
    {
     "name": "stdout",
     "output_type": "stream",
     "text": [
      "Val Loss: -10.3427 ± 1.5979\n",
      "Iteration No: 1 ended. Evaluation done at random point.\n",
      "Time taken: 556.0341\n",
      "Function value obtained: -8.7448\n",
      "Current minimum: -8.7448\n",
      "Iteration No: 2 started. Evaluating function at random point.\n",
      "{'condition_size': 1024, 'model_nested_size': 352, 'model_nested_layers': 2, 'model_n_blocks': 8, 'model_act_norm': False, 'model_dropout': 0.038461538461538464, 'feature_network_hidden_size': 30, 'feature_network_hidden_layers': 1, 'feature_network_dropout': 0.021739130434782608}\n"
     ]
    },
    {
     "name": "stderr",
     "output_type": "stream",
     "text": [
      "Train: -30.4528 - Val: -22.7752 (avg: -22.9189, min: -23.6763) | lr: 5.00e-05 - Patience: 500/500:   4%|▎         | 1818/50000 [01:17<34:04, 23.57it/s]\n",
      "Train: -30.0309 - Val: -21.5282 (avg: -21.6643, min: -22.8815) | lr: 5.00e-05 - Patience: 500/500:   3%|▎         | 1678/50000 [01:13<35:18, 22.81it/s]\n",
      "Train: -29.5956 - Val: -22.0164 (avg: -21.8390, min: -22.7756) | lr: 5.00e-05 - Patience: 500/500:   4%|▎         | 1820/50000 [01:16<33:53, 23.70it/s]\n"
     ]
    },
    {
     "name": "stdout",
     "output_type": "stream",
     "text": [
      "Val Loss: -23.3258 ± 0.3389\n",
      "Iteration No: 2 ended. Evaluation done at random point.\n",
      "Time taken: 227.5756\n",
      "Function value obtained: -22.9869\n",
      "Current minimum: -22.9869\n",
      "Iteration No: 3 started. Evaluating function at random point.\n",
      "{'condition_size': 513, 'model_nested_size': 688, 'model_nested_layers': 4, 'model_n_blocks': 12, 'model_act_norm': False, 'model_dropout': 0.07692307692307693, 'feature_network_hidden_size': 44, 'feature_network_hidden_layers': 2, 'feature_network_dropout': 0.043478260869565216}\n"
     ]
    },
    {
     "name": "stderr",
     "output_type": "stream",
     "text": [
      "Train: -27.7142 - Val: -20.7422 (avg: -21.2111, min: -24.5751) | lr: 1.00e-04 - Patience: 500/500:   3%|▎         | 1363/50000 [01:49<1:04:56, 12.48it/s]\n",
      "Train: -27.0091 - Val: -18.9585 (avg: -19.7457, min: -23.4283) | lr: 1.00e-04 - Patience: 500/500:   3%|▎         | 1299/50000 [01:44<1:05:05, 12.47it/s]\n",
      "Train: -26.2960 - Val: -19.9507 (avg: -19.6917, min: -21.8513) | lr: 1.00e-04 - Patience: 500/500:   2%|▏         | 1111/50000 [01:28<1:05:04, 12.52it/s]\n"
     ]
    },
    {
     "name": "stdout",
     "output_type": "stream",
     "text": [
      "Val Loss: -20.2697 ± 1.0808\n",
      "Iteration No: 3 ended. Evaluation done at random point.\n",
      "Time taken: 302.4071\n",
      "Function value obtained: -19.1889\n",
      "Current minimum: -22.9869\n",
      "Iteration No: 4 started. Evaluating function at random point.\n",
      "{'condition_size': 1536, 'model_nested_size': 128, 'model_nested_layers': 5, 'model_n_blocks': 16, 'model_act_norm': False, 'model_dropout': 0.11538461538461539, 'feature_network_hidden_size': 58, 'feature_network_hidden_layers': 3, 'feature_network_dropout': 0.06521739130434782}\n"
     ]
    },
    {
     "name": "stderr",
     "output_type": "stream",
     "text": [
      "Train: -27.2286 - Val: -28.9385 (avg: -28.9286, min: -28.8572) | lr: 3.13e-06 - Patience: 500/500:  11%|█         | 5440/50000 [09:27<1:17:31,  9.58it/s]\n",
      "Train: -27.2377 - Val: -27.0291 (avg: -27.0222, min: -26.9902) | lr: 3.13e-06 - Patience: 500/500:  11%|█         | 5601/50000 [09:46<1:17:30,  9.55it/s]\n",
      "Train: -27.3872 - Val: -28.8222 (avg: -28.8237, min: -28.7427) | lr: 3.13e-06 - Patience: 500/500:  11%|█▏        | 5713/50000 [09:58<1:17:21,  9.54it/s]\n"
     ]
    },
    {
     "name": "stdout",
     "output_type": "stream",
     "text": [
      "Val Loss: -28.2112 ± 0.8029\n",
      "Iteration No: 4 ended. Evaluation done at random point.\n",
      "Time taken: 1753.4937\n",
      "Function value obtained: -27.4083\n",
      "Current minimum: -27.4083\n",
      "Iteration No: 5 started. Evaluating function at random point.\n",
      "{'condition_size': 257, 'model_nested_size': 464, 'model_nested_layers': 7, 'model_n_blocks': 20, 'model_act_norm': False, 'model_dropout': 0.15384615384615385, 'feature_network_hidden_size': 72, 'feature_network_hidden_layers': 3, 'feature_network_dropout': 0.08695652173913043}\n"
     ]
    },
    {
     "name": "stderr",
     "output_type": "stream",
     "text": [
      "Train: -26.3160 - Val: -24.0128 (avg: -24.0175, min: -24.7903) | lr: 5.00e-05 - Patience: 500/500:   4%|▍         | 2114/50000 [05:42<2:09:26,  6.17it/s]\n",
      "Train: -27.1233 - Val: -24.6118 (avg: -24.8269, min: -26.0091) | lr: 1.00e-04 - Patience: 500/500:   4%|▍         | 2200/50000 [05:55<2:08:35,  6.20it/s]\n",
      "Train: -25.1198 - Val: -20.4690 (avg: -20.7521, min: -24.0811) | lr: 1.00e-04 - Patience: 500/500:   3%|▎         | 1516/50000 [04:06<2:11:08,  6.16it/s]\n"
     ]
    },
    {
     "name": "stdout",
     "output_type": "stream",
     "text": [
      "Val Loss: -23.1397 ± 1.3281\n",
      "Iteration No: 5 ended. Evaluation done at random point.\n",
      "Time taken: 944.4177\n",
      "Function value obtained: -21.8115\n",
      "Current minimum: -27.4083\n",
      "Iteration No: 6 started. Evaluating function at random point.\n",
      "{'condition_size': 1280, 'model_nested_size': 800, 'model_nested_layers': 1, 'model_n_blocks': 24, 'model_act_norm': False, 'model_dropout': 0.19230769230769232, 'feature_network_hidden_size': 87, 'feature_network_hidden_layers': 4, 'feature_network_dropout': 0.10869565217391304}\n"
     ]
    },
    {
     "name": "stderr",
     "output_type": "stream",
     "text": [
      "Train: -30.3349 - Val: -34.2839 (avg: -34.2745, min: -34.2144) | lr: 7.81e-07 - Patience: 500/500:  15%|█▍        | 7474/50000 [11:55<1:07:52, 10.44it/s]\n",
      "Train: -30.4466 - Val: -33.1558 (avg: -33.1489, min: -33.0698) | lr: 7.81e-07 - Patience: 500/500:  15%|█▌        | 7741/50000 [12:10<1:06:27, 10.60it/s]\n",
      "Train: -31.6858 - Val: -34.5761 (avg: -34.5789, min: -34.5095) | lr: 7.81e-07 - Patience: 500/500:  17%|█▋        | 8443/50000 [13:18<1:05:29, 10.58it/s]\n"
     ]
    },
    {
     "name": "stdout",
     "output_type": "stream",
     "text": [
      "Val Loss: -33.9073 ± 0.4592\n",
      "Iteration No: 6 ended. Evaluation done at random point.\n",
      "Time taken: 2244.8903\n",
      "Function value obtained: -33.4480\n",
      "Current minimum: -33.4480\n",
      "Iteration No: 7 started. Evaluating function at random point.\n",
      "{'condition_size': 769, 'model_nested_size': 240, 'model_nested_layers': 3, 'model_n_blocks': 28, 'model_act_norm': True, 'model_dropout': 0.23076923076923078, 'feature_network_hidden_size': 101, 'feature_network_hidden_layers': 5, 'feature_network_dropout': 0.13043478260869565}\n"
     ]
    },
    {
     "name": "stderr",
     "output_type": "stream",
     "text": [
      "Train: -57.2983 - Val: -57.7589 (avg: -57.7600, min: -57.7159) | lr: 3.91e-07 - Patience: 500/500:  24%|██▍       | 12178/50000 [32:56<1:42:17,  6.16it/s]\n",
      "Train: -54.7351 - Val: -58.0184 (avg: -58.0308, min: -57.9495) | lr: 7.81e-07 - Patience: 500/500:  22%|██▏       | 10846/50000 [29:22<1:46:04,  6.15it/s]\n",
      "Train: -54.2234 - Val: -58.2519 (avg: -58.2565, min: -58.2135) | lr: 3.91e-07 - Patience: 500/500:  21%|██▏       | 10663/50000 [28:58<1:46:53,  6.13it/s]\n"
     ]
    },
    {
     "name": "stdout",
     "output_type": "stream",
     "text": [
      "Val Loss: -57.9883 ± 0.2943\n",
      "Iteration No: 7 ended. Evaluation done at random point.\n",
      "Time taken: 5477.6443\n",
      "Function value obtained: -57.6940\n",
      "Current minimum: -57.6940\n",
      "Iteration No: 8 started. Evaluating function at random point.\n",
      "{'condition_size': 1792, 'model_nested_size': 576, 'model_nested_layers': 4, 'model_n_blocks': 5, 'model_act_norm': True, 'model_dropout': 0.2692307692307692, 'feature_network_hidden_size': 115, 'feature_network_hidden_layers': 6, 'feature_network_dropout': 0.15217391304347827}\n"
     ]
    },
    {
     "name": "stderr",
     "output_type": "stream",
     "text": [
      "Train: -39.9542 - Val: -37.7695 (avg: -37.7909, min: -37.8182) | lr: 6.25e-06 - Patience: 500/500:  13%|█▎        | 6553/50000 [05:03<33:32, 21.59it/s]\n",
      "Train: -34.0059 - Val: -30.6364 (avg: -30.6144, min: -30.5851) | lr: 2.50e-05 - Patience: 500/500:   8%|▊         | 3976/50000 [03:03<35:27, 21.63it/s]\n",
      "Train: -34.6529 - Val: -32.9069 (avg: -33.0076, min: -33.0596) | lr: 2.50e-05 - Patience: 500/500:   9%|▉         | 4621/50000 [03:33<34:52, 21.69it/s]\n"
     ]
    },
    {
     "name": "stdout",
     "output_type": "stream",
     "text": [
      "Val Loss: -33.8726 ± 3.2048\n",
      "Iteration No: 8 ended. Evaluation done at random point.\n",
      "Time taken: 700.5880\n",
      "Function value obtained: -30.6678\n",
      "Current minimum: -57.6940\n",
      "Iteration No: 9 started. Evaluating function at random point.\n",
      "{'condition_size': 129, 'model_nested_size': 912, 'model_nested_layers': 5, 'model_n_blocks': 9, 'model_act_norm': True, 'model_dropout': 0.3076923076923077, 'feature_network_hidden_size': 129, 'feature_network_hidden_layers': 7, 'feature_network_dropout': 0.17391304347826086}\n"
     ]
    },
    {
     "name": "stderr",
     "output_type": "stream",
     "text": [
      "Train: -25.2282 - Val: -17.6466 (avg: -17.4276, min: -18.8464) | lr: 1.00e-04 - Patience: 500/500:   3%|▎         | 1377/50000 [02:00<1:10:44, 11.45it/s]\n",
      "Train: -24.7016 - Val: -15.4868 (avg: -15.2698, min: -17.8041) | lr: 1.00e-04 - Patience: 500/500:   3%|▎         | 1305/50000 [01:53<1:10:39, 11.49it/s]\n",
      "Train: -26.1677 - Val: -16.5425 (avg: -16.3223, min: -19.5055) | lr: 1.00e-04 - Patience: 500/500:   3%|▎         | 1483/50000 [02:09<1:10:25, 11.48it/s]\n"
     ]
    },
    {
     "name": "stdout",
     "output_type": "stream",
     "text": [
      "Val Loss: -17.0287 ± 0.7955\n",
      "Iteration No: 9 ended. Evaluation done at random point.\n",
      "Time taken: 363.3448\n",
      "Function value obtained: -16.2332\n",
      "Current minimum: -57.6940\n",
      "Iteration No: 10 started. Evaluating function at random point.\n",
      "{'condition_size': 1152, 'model_nested_size': 53, 'model_nested_layers': 7, 'model_n_blocks': 13, 'model_act_norm': True, 'model_dropout': 0.34615384615384615, 'feature_network_hidden_size': 143, 'feature_network_hidden_layers': 8, 'feature_network_dropout': 0.1956521739130435}\n"
     ]
    },
    {
     "name": "stderr",
     "output_type": "stream",
     "text": [
      "Train: -46.7292 - Val: -48.6183 (avg: -48.6098, min: -48.5625) | lr: 1.56e-06 - Patience: 500/500:  31%|███       | 15446/50000 [31:06<1:09:34,  8.28it/s]\n",
      "Train: -46.8457 - Val: -49.8320 (avg: -49.8142, min: -49.7413) | lr: 1.56e-06 - Patience: 500/500:  27%|██▋       | 13704/50000 [28:28<1:15:26,  8.02it/s]\n",
      "Train: -46.6647 - Val: -49.4433 (avg: -49.6204, min: -49.5503) | lr: 3.13e-06 - Patience: 500/500:  26%|██▌       | 13011/50000 [26:11<1:14:27,  8.28it/s]\n"
     ]
    },
    {
     "name": "stdout",
     "output_type": "stream",
     "text": [
      "Val Loss: -49.2645 ± 0.4774\n",
      "Iteration No: 10 ended. Evaluation done at random point.\n",
      "Time taken: 5146.8657\n",
      "Function value obtained: -48.7871\n",
      "Current minimum: -57.6940\n",
      "Iteration No: 11 started. Evaluating function at random point.\n",
      "{'condition_size': 641, 'model_nested_size': 389, 'model_nested_layers': 2, 'model_n_blocks': 17, 'model_act_norm': True, 'model_dropout': 0.38461538461538464, 'feature_network_hidden_size': 157, 'feature_network_hidden_layers': 8, 'feature_network_dropout': 0.21739130434782608}\n"
     ]
    },
    {
     "name": "stderr",
     "output_type": "stream",
     "text": [
      "Train: -50.8368 - Val: -54.8813 (avg: -54.8727, min: -54.7762) | lr: 7.81e-07 - Patience: 500/500:  25%|██▍       | 12311/50000 [19:20<59:13, 10.61it/s]  \n",
      "Train: -45.6149 - Val: -48.6386 (avg: -48.6330, min: -48.5568) | lr: 7.81e-07 - Patience: 500/500:  22%|██▏       | 10773/50000 [16:53<1:01:30, 10.63it/s]\n",
      "Train: -50.1827 - Val: -53.8109 (avg: -53.7856, min: -53.7008) | lr: 7.81e-07 - Patience: 500/500:  27%|██▋       | 13450/50000 [21:04<57:17, 10.63it/s]  \n"
     ]
    },
    {
     "name": "stdout",
     "output_type": "stream",
     "text": [
      "Val Loss: -52.4097 ± 2.7657\n",
      "Iteration No: 11 ended. Evaluation done at random point.\n",
      "Time taken: 3439.3859\n",
      "Function value obtained: -49.6440\n",
      "Current minimum: -57.6940\n",
      "Iteration No: 12 started. Evaluating function at random point.\n",
      "{'condition_size': 1664, 'model_nested_size': 725, 'model_nested_layers': 3, 'model_n_blocks': 21, 'model_act_norm': False, 'model_dropout': 0.4230769230769231, 'feature_network_hidden_size': 171, 'feature_network_hidden_layers': 9, 'feature_network_dropout': 0.2391304347826087}\n"
     ]
    },
    {
     "name": "stderr",
     "output_type": "stream",
     "text": [
      "Train: -24.5408 - Val: -27.1470 (avg: -27.1392, min: -27.0515) | lr: 1.56e-06 - Patience: 500/500:  15%|█▍        | 7486/50000 [15:38<1:28:51,  7.97it/s]\n",
      "Train: -25.7158 - Val: -26.6356 (avg: -26.6350, min: -26.5420) | lr: 1.56e-06 - Patience: 500/500:  15%|█▌        | 7518/50000 [15:49<1:29:23,  7.92it/s]\n",
      "Train: -23.6932 - Val: -24.7363 (avg: -24.7366, min: -24.6457) | lr: 1.56e-06 - Patience: 500/500:  14%|█▎        | 6782/50000 [14:16<1:31:00,  7.91it/s]\n"
     ]
    },
    {
     "name": "stdout",
     "output_type": "stream",
     "text": [
      "Val Loss: -26.2035 ± 0.9065\n",
      "Iteration No: 12 ended. Evaluation done at random point.\n",
      "Time taken: 2745.3961\n",
      "Function value obtained: -25.2970\n",
      "Current minimum: -57.6940\n",
      "Iteration No: 13 started. Evaluating function at random point.\n",
      "{'condition_size': 385, 'model_nested_size': 165, 'model_nested_layers': 4, 'model_n_blocks': 25, 'model_act_norm': False, 'model_dropout': 0.46153846153846156, 'feature_network_hidden_size': 185, 'feature_network_hidden_layers': 10, 'feature_network_dropout': 0.2608695652173913}\n"
     ]
    },
    {
     "name": "stderr",
     "output_type": "stream",
     "text": [
      "Train: -20.8666 - Val: -24.3413 (avg: -24.3298, min: -24.2795) | lr: 1.56e-06 - Patience: 500/500:  18%|█▊        | 9171/50000 [21:34<1:36:01,  7.09it/s]\n",
      "Train: -21.9046 - Val: -25.7786 (avg: -25.7831, min: -25.6991) | lr: 3.13e-06 - Patience: 500/500:  16%|█▋        | 8227/50000 [19:27<1:38:45,  7.05it/s]\n",
      "Train: -21.5863 - Val: -24.9608 (avg: -24.9459, min: -24.8881) | lr: 3.13e-06 - Patience: 500/500:  16%|█▌        | 7794/50000 [18:26<1:39:52,  7.04it/s]\n"
     ]
    },
    {
     "name": "stdout",
     "output_type": "stream",
     "text": [
      "Val Loss: -25.0544 ± 0.5161\n",
      "Iteration No: 13 ended. Evaluation done at random point.\n",
      "Time taken: 3567.9781\n",
      "Function value obtained: -24.5382\n",
      "Current minimum: -57.6940\n",
      "Iteration No: 14 started. Evaluating function at random point.\n",
      "{'condition_size': 1408, 'model_nested_size': 501, 'model_nested_layers': 6, 'model_n_blocks': 29, 'model_act_norm': False, 'model_dropout': 0.0029585798816568047, 'feature_network_hidden_size': 200, 'feature_network_hidden_layers': 11, 'feature_network_dropout': 0.2826086956521739}\n"
     ]
    },
    {
     "name": "stderr",
     "output_type": "stream",
     "text": [
      "Train: -22.1335 - Val: -6.6861 (avg: -6.4225, min: -17.7826) | lr: 5.00e-05 - Patience: 500/500:   4%|▍         | 2162/50000 [07:50<2:53:22,  4.60it/s]  \n",
      "Train: -21.2658 - Val: -15.6915 (avg: -15.7315, min: -17.7148) | lr: 5.00e-05 - Patience: 500/500:   5%|▍         | 2349/50000 [08:31<2:52:49,  4.60it/s]\n",
      "Train: -22.0875 - Val: -9.2824 (avg: -11.3315, min: -17.4266) | lr: 5.00e-05 - Patience: 500/500:   5%|▌         | 2546/50000 [09:10<2:51:01,  4.62it/s] \n"
     ]
    },
    {
     "name": "stdout",
     "output_type": "stream",
     "text": [
      "Val Loss: -12.3984 ± 2.4651\n",
      "Iteration No: 14 ended. Evaluation done at random point.\n",
      "Time taken: 1532.5608\n",
      "Function value obtained: -9.9332\n",
      "Current minimum: -57.6940\n",
      "Iteration No: 15 started. Evaluating function at random point.\n",
      "{'condition_size': 897, 'model_nested_size': 837, 'model_nested_layers': 7, 'model_n_blocks': 5, 'model_act_norm': False, 'model_dropout': 0.04142011834319527, 'feature_network_hidden_size': 214, 'feature_network_hidden_layers': 12, 'feature_network_dropout': 0.30434782608695654}\n"
     ]
    },
    {
     "name": "stderr",
     "output_type": "stream",
     "text": [
      "Train: -16.3879 - Val: 63.8896 (avg: 66.4218, min: -10.7970) | lr: 5.00e-05 - Patience: 500/500:   4%|▍         | 2090/50000 [02:14<51:18, 15.56it/s]   \n",
      "Train: -13.4287 - Val: -12.8662 (avg: -12.7747, min: -12.9376) | lr: 2.50e-05 - Patience: 500/500:   6%|▌         | 3063/50000 [03:16<50:15, 15.57it/s]         \n",
      "Train: -11.4922 - Val: -11.5626 (avg: -11.3799, min: -11.5250) | lr: 2.00e-04 - Patience: 133/500:   4%|▍         | 2115/50000 [02:15<51:08, 15.61it/s]  \n"
     ]
    },
    {
     "name": "stdout",
     "output_type": "stream",
     "text": [
      "Error in fold 2: Loss exploded to 2550424.0 at epoch 2115.6666666666665\n",
      "Loss exploded to 2550424.0 at epoch 2115.6666666666665\n",
      "Iteration No: 15 ended. Evaluation done at random point.\n",
      "Time taken: 466.8701\n",
      "Function value obtained: 100.0000\n",
      "Current minimum: -57.6940\n",
      "Iteration No: 16 started. Evaluating function at random point.\n",
      "{'condition_size': 1920, 'model_nested_size': 277, 'model_nested_layers': 2, 'model_n_blocks': 9, 'model_act_norm': False, 'model_dropout': 0.07988165680473373, 'feature_network_hidden_size': 228, 'feature_network_hidden_layers': 13, 'feature_network_dropout': 0.32608695652173914}\n"
     ]
    },
    {
     "name": "stderr",
     "output_type": "stream",
     "text": [
      "Train: -17.7377 - Val: -17.1888 (avg: -17.1466, min: -17.0692) | lr: 1.25e-05 - Patience: 500/500:   8%|▊         | 3873/50000 [03:25<40:52, 18.81it/s]\n",
      "Train: -17.9247 - Val: -16.9222 (avg: -16.9023, min: -16.8351) | lr: 3.13e-06 - Patience: 500/500:  10%|▉         | 4993/50000 [04:25<39:50, 18.83it/s]\n",
      "Train: -19.7070 - Val: -19.4656 (avg: -19.4521, min: -19.3930) | lr: 3.13e-06 - Patience: 500/500:  10%|▉         | 4950/50000 [04:20<39:27, 19.03it/s]\n"
     ]
    },
    {
     "name": "stdout",
     "output_type": "stream",
     "text": [
      "Val Loss: -18.1042 ± 1.5130\n",
      "Iteration No: 16 ended. Evaluation done at random point.\n",
      "Time taken: 731.4054\n",
      "Function value obtained: -16.5912\n",
      "Current minimum: -57.6940\n",
      "Iteration No: 17 started. Evaluating function at random point.\n",
      "{'condition_size': 65, 'model_nested_size': 613, 'model_nested_layers': 3, 'model_n_blocks': 13, 'model_act_norm': False, 'model_dropout': 0.1183431952662722, 'feature_network_hidden_size': 242, 'feature_network_hidden_layers': 13, 'feature_network_dropout': 0.34782608695652173}\n"
     ]
    },
    {
     "name": "stderr",
     "output_type": "stream",
     "text": [
      "Train: -15.4416 - Val: -10.0159 (avg: -10.2743, min: -12.3318) | lr: 1.00e-04 - Patience: 500/500:   2%|▏         | 1048/50000 [01:19<1:01:30, 13.27it/s]\n",
      "Train: -15.9170 - Val: -9.0352 (avg: -8.9215, min: -12.1042) | lr: 1.00e-04 - Patience: 500/500:   2%|▏         | 1095/50000 [01:23<1:02:03, 13.14it/s]  \n",
      "Train: -15.8690 - Val: -8.0282 (avg: -8.4349, min: -11.9381) | lr: 1.00e-04 - Patience: 500/500:   2%|▏         | 1069/50000 [01:20<1:01:13, 13.32it/s] \n"
     ]
    },
    {
     "name": "stdout",
     "output_type": "stream",
     "text": [
      "Val Loss: -10.3334 ± 0.8500\n",
      "Iteration No: 17 ended. Evaluation done at random point.\n",
      "Time taken: 242.7582\n",
      "Function value obtained: -9.4834\n",
      "Current minimum: -57.6940\n",
      "Iteration No: 18 started. Evaluating function at random point.\n",
      "{'condition_size': 1088, 'model_nested_size': 949, 'model_nested_layers': 5, 'model_n_blocks': 17, 'model_act_norm': True, 'model_dropout': 0.15680473372781065, 'feature_network_hidden_size': 17, 'feature_network_hidden_layers': 14, 'feature_network_dropout': 0.3695652173913043}\n"
     ]
    },
    {
     "name": "stderr",
     "output_type": "stream",
     "text": [
      "Train: -26.8800 - Val: -15.9730 (avg: -15.7357, min: -19.1758) | lr: 1.00e-04 - Patience: 500/500:   4%|▍         | 1958/50000 [05:23<2:12:06,  6.06it/s]\n",
      "Train: -26.9897 - Val: -14.1368 (avg: -13.5042, min: -17.7673) | lr: 5.00e-05 - Patience: 500/500:   4%|▍         | 1941/50000 [05:19<2:11:59,  6.07it/s]\n",
      "Train: -25.9597 - Val: -16.1720 (avg: -16.7858, min: -19.3683) | lr: 1.00e-04 - Patience: 500/500:   4%|▍         | 1961/50000 [05:31<2:15:09,  5.92it/s] \n"
     ]
    },
    {
     "name": "stdout",
     "output_type": "stream",
     "text": [
      "Val Loss: -15.7651 ± 0.8771\n",
      "Iteration No: 18 ended. Evaluation done at random point.\n",
      "Time taken: 974.7199\n",
      "Function value obtained: -14.8880\n",
      "Current minimum: -57.6940\n",
      "Iteration No: 19 started. Evaluating function at random point.\n",
      "{'condition_size': 577, 'model_nested_size': 91, 'model_nested_layers': 6, 'model_n_blocks': 21, 'model_act_norm': True, 'model_dropout': 0.1952662721893491, 'feature_network_hidden_size': 31, 'feature_network_hidden_layers': 15, 'feature_network_dropout': 0.391304347826087}\n"
     ]
    },
    {
     "name": "stderr",
     "output_type": "stream",
     "text": [
      "Train: -46.0554 - Val: -48.8630 (avg: -48.8312, min: -48.7529) | lr: 1.56e-06 - Patience: 500/500:  24%|██▍       | 12049/50000 [35:03<1:50:25,  5.73it/s]\n",
      "Train: -43.0077 - Val: -45.5403 (avg: -45.5581, min: -45.4999) | lr: 7.81e-07 - Patience: 500/500:  21%|██▏       | 10723/50000 [31:39<1:55:56,  5.65it/s]\n",
      "Train: -42.0975 - Val: -44.6414 (avg: -44.6745, min: -44.6302) | lr: 7.81e-07 - Patience: 500/500:  22%|██▏       | 11211/50000 [33:31<1:56:00,  5.57it/s]\n"
     ]
    },
    {
     "name": "stdout",
     "output_type": "stream",
     "text": [
      "Val Loss: -46.3473 ± 1.8017\n",
      "Iteration No: 19 ended. Evaluation done at random point.\n",
      "Time taken: 6014.7682\n",
      "Function value obtained: -44.5456\n",
      "Current minimum: -57.6940\n",
      "Iteration No: 20 started. Evaluating function at random point.\n",
      "{'condition_size': 1600, 'model_nested_size': 427, 'model_nested_layers': 7, 'model_n_blocks': 25, 'model_act_norm': True, 'model_dropout': 0.23372781065088757, 'feature_network_hidden_size': 45, 'feature_network_hidden_layers': 0, 'feature_network_dropout': 0.41304347826086957}\n"
     ]
    },
    {
     "name": "stderr",
     "output_type": "stream",
     "text": [
      "Train: -38.5233 - Val: -27.8311 (avg: -27.6559, min: -28.7802) | lr: 1.00e-04 - Patience: 500/500:   2%|▏         | 1215/50000 [04:35<3:04:21,  4.41it/s]\n",
      "Train: -40.3198 - Val: -25.4191 (avg: -25.0236, min: -28.0968) | lr: 1.00e-04 - Patience: 500/500:   3%|▎         | 1368/50000 [05:12<3:04:56,  4.38it/s]\n",
      "Train: -41.1977 - Val: -27.0138 (avg: -26.4704, min: -28.6736) | lr: 5.00e-05 - Patience: 500/500:   3%|▎         | 1581/50000 [06:02<3:04:49,  4.37it/s]\n"
     ]
    },
    {
     "name": "stdout",
     "output_type": "stream",
     "text": [
      "Val Loss: -26.8437 ± 1.1473\n",
      "Iteration No: 20 ended. Evaluation done at random point.\n",
      "Time taken: 950.3120\n",
      "Function value obtained: -25.6964\n",
      "Current minimum: -57.6940\n",
      "Iteration No: 21 started. Evaluating function at random point.\n",
      "{'condition_size': 321, 'model_nested_size': 763, 'model_nested_layers': 2, 'model_n_blocks': 29, 'model_act_norm': True, 'model_dropout': 0.27218934911242604, 'feature_network_hidden_size': 59, 'feature_network_hidden_layers': 1, 'feature_network_dropout': 0.43478260869565216}\n"
     ]
    },
    {
     "name": "stderr",
     "output_type": "stream",
     "text": [
      "Train: -22.1539 - Val: 51.0000 (avg: 47.6827, min: -11.4257) | lr: 1.00e-04 - Patience: 500/500:   1%|          | 608/50000 [01:35<2:08:48,  6.39it/s] \n",
      "  0%|          | 0/50000 [00:00<?, ?it/s]\n"
     ]
    },
    {
     "name": "stdout",
     "output_type": "stream",
     "text": [
      "Error in fold 1: Loss exploded to 810997.75 at epoch 0.0\n",
      "Loss exploded to 810997.75 at epoch 0.0\n",
      "Iteration No: 21 ended. Evaluation done at random point.\n",
      "Time taken: 95.3605\n",
      "Function value obtained: 100.0000\n",
      "Current minimum: -57.6940\n",
      "Iteration No: 22 started. Evaluating function at random point.\n",
      "{'condition_size': 1344, 'model_nested_size': 203, 'model_nested_layers': 4, 'model_n_blocks': 6, 'model_act_norm': True, 'model_dropout': 0.31065088757396453, 'feature_network_hidden_size': 73, 'feature_network_hidden_layers': 2, 'feature_network_dropout': 0.45652173913043476}\n"
     ]
    },
    {
     "name": "stderr",
     "output_type": "stream",
     "text": [
      "Train: -42.1594 - Val: -46.2577 (avg: -46.0396, min: -45.9703) | lr: 2.00e-04 - Patience: 75/500:  21%|██        | 10251/50000 [08:29<32:55, 20.13it/s]\n"
     ]
    },
    {
     "name": "stdout",
     "output_type": "stream",
     "text": [
      "Error in fold 0: Loss exploded to 211012.0 at epoch 10251.666666666666\n",
      "Loss exploded to 211012.0 at epoch 10251.666666666666\n",
      "Iteration No: 22 ended. Evaluation done at random point.\n",
      "Time taken: 509.3961\n",
      "Function value obtained: 100.0000\n",
      "Current minimum: -57.6940\n",
      "Iteration No: 23 started. Evaluating function at random point.\n",
      "{'condition_size': 833, 'model_nested_size': 539, 'model_nested_layers': 5, 'model_n_blocks': 10, 'model_act_norm': False, 'model_dropout': 0.34911242603550297, 'feature_network_hidden_size': 87, 'feature_network_hidden_layers': 3, 'feature_network_dropout': 0.4782608695652174}\n"
     ]
    },
    {
     "name": "stderr",
     "output_type": "stream",
     "text": [
      "Train: -21.2039 - Val: -23.5304 (avg: -23.5454, min: -23.5163) | lr: 1.56e-06 - Patience: 500/500:  12%|█▏        | 5901/50000 [07:23<55:10, 13.32it/s]  \n",
      "Train: -20.5281 - Val: -22.9510 (avg: -22.9497, min: -22.9156) | lr: 3.13e-06 - Patience: 500/500:  11%|█         | 5610/50000 [07:02<55:42, 13.28it/s]  \n",
      "Train: -21.4703 - Val: -22.9697 (avg: -22.9476, min: -22.8895) | lr: 3.13e-06 - Patience: 500/500:  11%|█         | 5374/50000 [06:41<55:32, 13.39it/s]  \n"
     ]
    },
    {
     "name": "stdout",
     "output_type": "stream",
     "text": [
      "Val Loss: -23.1626 ± 0.3534\n",
      "Iteration No: 23 ended. Evaluation done at random point.\n",
      "Time taken: 1267.0352\n",
      "Function value obtained: -22.8092\n",
      "Current minimum: -57.6940\n",
      "Iteration No: 24 started. Evaluating function at random point.\n",
      "{'condition_size': 1856, 'model_nested_size': 875, 'model_nested_layers': 6, 'model_n_blocks': 14, 'model_act_norm': False, 'model_dropout': 0.38757396449704146, 'feature_network_hidden_size': 102, 'feature_network_hidden_layers': 3, 'feature_network_dropout': 0.000945179584120983}\n"
     ]
    },
    {
     "name": "stderr",
     "output_type": "stream",
     "text": [
      "Train: -37.1329 - Val: -37.7283 (avg: -37.7364, min: -37.6758) | lr: 7.81e-07 - Patience: 500/500:  11%|█▏        | 5648/50000 [13:27<1:45:40,  6.99it/s]\n",
      "Train: -36.5071 - Val: -34.7660 (avg: -34.7578, min: -34.6834) | lr: 7.81e-07 - Patience: 500/500:  11%|█         | 5536/50000 [13:37<1:49:23,  6.77it/s]\n",
      "Train: -36.3937 - Val: -35.2624 (avg: -35.2458, min: -35.1880) | lr: 7.81e-07 - Patience: 500/500:  11%|█▏        | 5685/50000 [13:35<1:45:53,  6.98it/s]\n"
     ]
    },
    {
     "name": "stdout",
     "output_type": "stream",
     "text": [
      "Val Loss: -36.0797 ± 1.2249\n",
      "Iteration No: 24 ended. Evaluation done at random point.\n",
      "Time taken: 2441.0317\n",
      "Function value obtained: -34.8547\n",
      "Current minimum: -57.6940\n",
      "Iteration No: 25 started. Evaluating function at random point.\n",
      "{'condition_size': 193, 'model_nested_size': 315, 'model_nested_layers': 8, 'model_n_blocks': 18, 'model_act_norm': False, 'model_dropout': 0.4260355029585799, 'feature_network_hidden_size': 116, 'feature_network_hidden_layers': 4, 'feature_network_dropout': 0.02268431001890359}\n"
     ]
    },
    {
     "name": "stderr",
     "output_type": "stream",
     "text": [
      "Train: -28.7622 - Val: -33.2617 (avg: -33.2680, min: -33.2230) | lr: 1.56e-06 - Patience: 500/500:  16%|█▋        | 8240/50000 [20:39<1:44:42,  6.65it/s]\n",
      "Train: -30.6251 - Val: -34.8104 (avg: -34.8056, min: -34.7662) | lr: 1.56e-06 - Patience: 500/500:  18%|█▊        | 8972/50000 [22:28<1:42:48,  6.65it/s]\n",
      "Train: -28.9592 - Val: -32.4665 (avg: -32.4649, min: -32.4179) | lr: 1.56e-06 - Patience: 500/500:  16%|█▌        | 7853/50000 [19:42<1:45:48,  6.64it/s]\n"
     ]
    },
    {
     "name": "stdout",
     "output_type": "stream",
     "text": [
      "Val Loss: -33.4899 ± 0.9432\n",
      "Iteration No: 25 ended. Evaluation done at random point.\n",
      "Time taken: 3771.7402\n",
      "Function value obtained: -32.5467\n",
      "Current minimum: -57.6940\n",
      "Iteration No: 26 started. Evaluating function at random point.\n",
      "{'condition_size': 1216, 'model_nested_size': 651, 'model_nested_layers': 1, 'model_n_blocks': 22, 'model_act_norm': False, 'model_dropout': 0.4644970414201184, 'feature_network_hidden_size': 130, 'feature_network_hidden_layers': 5, 'feature_network_dropout': 0.0444234404536862}\n"
     ]
    },
    {
     "name": "stderr",
     "output_type": "stream",
     "text": [
      "Train: -33.7927 - Val: -38.8658 (avg: -38.8742, min: -38.7887) | lr: 7.81e-07 - Patience: 500/500:  15%|█▌        | 7726/50000 [10:51<59:23, 11.86it/s]  \n",
      "Train: -33.5692 - Val: -37.9592 (avg: -37.9584, min: -37.9064) | lr: 7.81e-07 - Patience: 500/500:  17%|█▋        | 8371/50000 [11:48<58:45, 11.81it/s]  \n",
      "Train: -33.9177 - Val: -38.5779 (avg: -38.5780, min: -38.4939) | lr: 1.56e-06 - Patience: 500/500:  17%|█▋        | 8333/50000 [11:49<59:09, 11.74it/s]  \n"
     ]
    },
    {
     "name": "stdout",
     "output_type": "stream",
     "text": [
      "Val Loss: -38.4775 ± 0.4314\n",
      "Iteration No: 26 ended. Evaluation done at random point.\n",
      "Time taken: 2070.2420\n",
      "Function value obtained: -38.0460\n",
      "Current minimum: -57.6940\n",
      "Iteration No: 27 started. Evaluating function at random point.\n",
      "{'condition_size': 705, 'model_nested_size': 987, 'model_nested_layers': 2, 'model_n_blocks': 26, 'model_act_norm': False, 'model_dropout': 0.005917159763313609, 'feature_network_hidden_size': 144, 'feature_network_hidden_layers': 6, 'feature_network_dropout': 0.0661625708884688}\n"
     ]
    },
    {
     "name": "stderr",
     "output_type": "stream",
     "text": [
      "Train: -30.8487 - Val: -20.6752 (avg: -24.2935, min: -28.2156) | lr: 5.00e-05 - Patience: 500/500:   4%|▍         | 2062/50000 [04:21<1:41:25,  7.88it/s]\n",
      "Train: -32.8651 - Val: -26.4621 (avg: -26.4611, min: -28.0497) | lr: 2.50e-05 - Patience: 500/500:   5%|▌         | 2614/50000 [05:32<1:40:26,  7.86it/s]\n",
      "Train: -30.4280 - Val: -24.9652 (avg: -24.3466, min: -27.8339) | lr: 5.00e-05 - Patience: 500/500:   4%|▎         | 1849/50000 [03:56<1:42:32,  7.83it/s]\n"
     ]
    },
    {
     "name": "stdout",
     "output_type": "stream",
     "text": [
      "Val Loss: -26.5543 ± 1.8077\n",
      "Iteration No: 27 ended. Evaluation done at random point.\n",
      "Time taken: 830.9640\n",
      "Function value obtained: -24.7466\n",
      "Current minimum: -57.6940\n",
      "Iteration No: 28 started. Evaluating function at random point.\n",
      "{'condition_size': 1728, 'model_nested_size': 28, 'model_nested_layers': 4, 'model_n_blocks': 30, 'model_act_norm': False, 'model_dropout': 0.044378698224852076, 'feature_network_hidden_size': 158, 'feature_network_hidden_layers': 7, 'feature_network_dropout': 0.08790170132325141}\n"
     ]
    },
    {
     "name": "stderr",
     "output_type": "stream",
     "text": [
      "Train: 357.9969 - Val: -24.3674 (avg: -24.8730, min: -24.9041) | lr: 2.00e-04 - Patience: 100/500:   7%|▋         | 3595/50000 [09:47<2:06:22,  6.12it/s]\n"
     ]
    },
    {
     "name": "stdout",
     "output_type": "stream",
     "text": [
      "Error in fold 0: Loss exploded to 7693361152.0 at epoch 3595.5\n",
      "Loss exploded to 7693361152.0 at epoch 3595.5\n",
      "Iteration No: 28 ended. Evaluation done at random point.\n",
      "Time taken: 587.4625\n",
      "Function value obtained: 100.0000\n",
      "Current minimum: -57.6940\n",
      "Iteration No: 29 started. Evaluating function at random point.\n",
      "{'condition_size': 449, 'model_nested_size': 364, 'model_nested_layers': 5, 'model_n_blocks': 6, 'model_act_norm': True, 'model_dropout': 0.08284023668639054, 'feature_network_hidden_size': 172, 'feature_network_hidden_layers': 8, 'feature_network_dropout': 0.10964083175803402}\n"
     ]
    },
    {
     "name": "stderr",
     "output_type": "stream",
     "text": [
      "Train: -36.0369 - Val: -35.5816 (avg: -35.6581, min: -35.7197) | lr: 6.25e-06 - Patience: 500/500:  16%|█▌        | 8092/50000 [07:33<39:07, 17.85it/s]\n",
      "Train: -31.8379 - Val: -27.9390 (avg: -28.3435, min: -28.6206) | lr: 5.00e-05 - Patience: 500/500:   6%|▌         | 3010/50000 [02:47<43:38, 17.95it/s]\n",
      "Train: -28.3004 - Val: -23.1195 (avg: -23.6089, min: -25.1078) | lr: 1.00e-04 - Patience: 500/500:   5%|▍         | 2461/50000 [02:18<44:33, 17.78it/s]\n"
     ]
    },
    {
     "name": "stdout",
     "output_type": "stream",
     "text": [
      "Val Loss: -29.6802 ± 3.7938\n",
      "Iteration No: 29 ended. Evaluation done at random point.\n",
      "Time taken: 759.5702\n",
      "Function value obtained: -25.8864\n",
      "Current minimum: -57.6940\n",
      "Iteration No: 30 started. Evaluating function at random point.\n",
      "{'condition_size': 1472, 'model_nested_size': 700, 'model_nested_layers': 7, 'model_n_blocks': 10, 'model_act_norm': True, 'model_dropout': 0.121301775147929, 'feature_network_hidden_size': 186, 'feature_network_hidden_layers': 8, 'feature_network_dropout': 0.13137996219281664}\n"
     ]
    },
    {
     "name": "stderr",
     "output_type": "stream",
     "text": [
      "Train: -22.7504 - Val: -25.3140 (avg: -25.9832, min: -26.1537) | lr: 2.00e-04 - Patience: 3/500:   3%|▎         | 1529/50000 [02:46<1:28:04,  9.17it/s] \n"
     ]
    },
    {
     "name": "stdout",
     "output_type": "stream",
     "text": [
      "Error in fold 0: Loss exploded to 569701.375 at epoch 1529.5\n",
      "Loss exploded to 569701.375 at epoch 1529.5\n",
      "Iteration No: 30 ended. Evaluation done at random point.\n",
      "Time taken: 167.0312\n",
      "Function value obtained: 100.0000\n",
      "Current minimum: -57.6940\n",
      "Iteration No: 31 started. Searching for the next optimal point.\n",
      "{'condition_size': 1038, 'model_nested_size': 484, 'model_nested_layers': 5, 'model_n_blocks': 32, 'model_act_norm': True, 'model_dropout': 0.3185052316747453, 'feature_network_hidden_size': 97, 'feature_network_hidden_layers': 5, 'feature_network_dropout': 0.1254495493226791}\n"
     ]
    },
    {
     "name": "stderr",
     "output_type": "stream",
     "text": [
      "Train: -53.3390 - Val: -54.5408 (avg: -54.5381, min: -54.4880) | lr: 3.91e-07 - Patience: 500/500:  21%|██        | 10611/50000 [41:56<2:35:41,  4.22it/s]\n",
      "Train: -55.4095 - Val: -50.3834 (avg: -50.4031, min: -50.3203) | lr: 7.81e-07 - Patience: 500/500:  21%|██        | 10378/50000 [41:21<2:37:53,  4.18it/s]\n",
      "Train: -51.3079 - Val: -53.0534 (avg: -52.8785, min: -52.9128) | lr: 2.50e-05 - Patience: 162/500:  14%|█▍        | 7196/50000 [35:02<4:51:53,  2.44it/s]"
     ]
    }
   ],
   "source": [
    "# You might want to adjust the n_calls or other parameters based on the checkpoint\n",
    "result = gp_minimize_fixed(\n",
    "    func=score_parameters,\n",
    "    dimensions=search_spaces.values(),\n",
    "    n_initial_points=n_initial_points,  # Number of random points before starting the optimization\n",
    "    n_calls=n_calls_remaining,  # Number of iterations\n",
    "    random_state=2024_03_25,\n",
    "    verbose=True,\n",
    "    acq_func=\"EI\",  # Expected Improvement https://arxiv.org/pdf/1009.5419.pdf\n",
    "    initial_point_generator=\"halton\", # https://en.wikipedia.org/wiki/Halton_sequence\n",
    "    callback=save_checkpoint,\n",
    "    x0=x0,\n",
    "    y0=y0)"
   ]
  }
 ],
 "metadata": {
  "kernelspec": {
   "display_name": "bcnf",
   "language": "python",
   "name": "python3"
  },
  "language_info": {
   "codemirror_mode": {
    "name": "ipython",
    "version": 3
   },
   "file_extension": ".py",
   "mimetype": "text/x-python",
   "name": "python",
   "nbconvert_exporter": "python",
   "pygments_lexer": "ipython3",
   "version": "3.11.8"
  }
 },
 "nbformat": 4,
 "nbformat_minor": 2
}
