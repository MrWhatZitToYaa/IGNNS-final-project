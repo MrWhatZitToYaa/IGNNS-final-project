{
 "cells": [
  {
   "cell_type": "code",
   "execution_count": 1,
   "metadata": {},
   "outputs": [
    {
     "name": "stdout",
     "output_type": "stream",
     "text": [
      "Using device: cuda\n"
     ]
    }
   ],
   "source": [
    "import os\n",
    "import torch\n",
    "import json\n",
    "\n",
    "from bcnf.utils import get_dir, load_config\n",
    "from bcnf.train import Trainer\n",
    "from bcnf import CondRealNVP\n",
    "\n",
    "device = torch.device(\"cuda\" if torch.cuda.is_available() else \"cpu\")\n",
    "print(f\"Using device: {device}\")"
   ]
  },
  {
   "cell_type": "code",
   "execution_count": 2,
   "metadata": {},
   "outputs": [],
   "source": [
    "MODEL_NAME = 'trajectory_FC_small'"
   ]
  },
  {
   "cell_type": "code",
   "execution_count": 3,
   "metadata": {},
   "outputs": [],
   "source": [
    "config_path = os.path.join(get_dir(\"configs\", \"runs\"), f\"{MODEL_NAME}.yaml\")\n",
    "config = load_config(config_path)"
   ]
  },
  {
   "cell_type": "code",
   "execution_count": 4,
   "metadata": {},
   "outputs": [
    {
     "name": "stdout",
     "output_type": "stream",
     "text": [
      "128,257\n"
     ]
    }
   ],
   "source": [
    "model = CondRealNVP.from_config(config).to(device)\n",
    "\n",
    "print(f'{model.n_params:,}')"
   ]
  },
  {
   "cell_type": "code",
   "execution_count": 5,
   "metadata": {},
   "outputs": [
    {
     "name": "stdout",
     "output_type": "stream",
     "text": [
      "Using dtype: torch.float32\n",
      "No data found at /home/computerman/Desktop/IGNNS/IGNNS-final-project/data/bcnf-data/fixed_data_render_2s_15FPS/train. Generating data...\n"
     ]
    },
    {
     "name": "stderr",
     "output_type": "stream",
     "text": [
      "100%|██████████| 10/10 [00:01<00:00,  6.38it/s, accepted=10, ratio=1, rejected_distance=0, rejected_runaway=0, rejected_start_underground=0, rejected_visibility=0]\n"
     ]
    },
    {
     "name": "stdout",
     "output_type": "stream",
     "text": [
      "Using videos data for training. Shapes:\n",
      "X shape: torch.Size([10, 2, 30, 90, 160])\n",
      "y shape: torch.Size([10, 21])\n"
     ]
    }
   ],
   "source": [
    "trainer = Trainer(\n",
    "    config={k.lower(): v for k, v in config.to_dict().items()},\n",
    "    project_name=\"bcnf-test\",\n",
    "    parameter_index_mapping=model.parameter_index_mapping,\n",
    "    verbose=True,\n",
    ")"
   ]
  },
  {
   "cell_type": "code",
   "execution_count": 6,
   "metadata": {},
   "outputs": [
    {
     "name": "stderr",
     "output_type": "stream",
     "text": [
      "Failed to detect the name of this notebook, you can set it manually with the WANDB_NOTEBOOK_NAME environment variable to enable code saving.\n",
      "\u001b[34m\u001b[1mwandb\u001b[0m: Currently logged in as: \u001b[33michich111222333\u001b[0m (\u001b[33mbalisticcnf\u001b[0m). Use \u001b[1m`wandb login --relogin`\u001b[0m to force relogin\n"
     ]
    },
    {
     "data": {
      "text/html": [
       "Tracking run with wandb version 0.16.4"
      ],
      "text/plain": [
       "<IPython.core.display.HTML object>"
      ]
     },
     "metadata": {},
     "output_type": "display_data"
    },
    {
     "data": {
      "text/html": [
       "Run data is saved locally in <code>/home/computerman/Desktop/IGNNS/IGNNS-final-project/notebooks/wandb/run-20240317_214401-f38aj1s5</code>"
      ],
      "text/plain": [
       "<IPython.core.display.HTML object>"
      ]
     },
     "metadata": {},
     "output_type": "display_data"
    },
    {
     "data": {
      "text/html": [
       "Run data is saved locally in <code>/home/psaegert/Projects/bcnf/notebooks/wandb/run-20240317_213941-xghyvnyj</code>"
      ],
      "text/plain": [
       "<IPython.core.display.HTML object>"
      ]
     },
     "metadata": {},
     "output_type": "display_data"
    },
    {
     "data": {
      "text/html": [
       "Syncing run <strong><a href='https://wandb.ai/balisticcnf/bcnf-test/runs/xghyvnyj' target=\"_blank\">colorful-bee-82</a></strong> to <a href='https://wandb.ai/balisticcnf/bcnf-test' target=\"_blank\">Weights & Biases</a> (<a href='https://wandb.me/run' target=\"_blank\">docs</a>)<br/>"
      ],
      "text/plain": [
       "<IPython.core.display.HTML object>"
      ]
     },
     "metadata": {},
     "output_type": "display_data"
    },
    {
     "data": {
      "text/html": [
       " View project at <a href='https://wandb.ai/balisticcnf/bcnf-test' target=\"_blank\">https://wandb.ai/balisticcnf/bcnf-test</a>"
      ],
      "text/plain": [
       "<IPython.core.display.HTML object>"
      ]
     },
     "metadata": {},
     "output_type": "display_data"
    },
    {
     "data": {
      "text/html": [
       " View run at <a href='https://wandb.ai/balisticcnf/bcnf-test/runs/xghyvnyj' target=\"_blank\">https://wandb.ai/balisticcnf/bcnf-test/runs/xghyvnyj</a>"
      ],
      "text/plain": [
       "<IPython.core.display.HTML object>"
      ]
     },
     "metadata": {},
     "output_type": "display_data"
    },
    {
     "name": "stderr",
     "output_type": "stream",
     "text": [
      "Train: -43.7827 - Val: -48.5378 (avg: -48.1762, min: -48.1978) | lr: 1.25e-05 - Patience: 5/500 - z: (0.0119 ± 0.1543) ± (0.6267 ± 0.1305):  17%|█▋        | 8295/50000 [2:46:40<13:57:57,  1.21s/it]   \n",
      "wandb: WARNING Source type is set to 'repo' but some required information is missing from the environment. A job will not be created from this run. See https://docs.wandb.ai/guides/launch/create-job\n"
     ]
    },
    {
     "data": {
      "application/vnd.jupyter.widget-view+json": {
       "model_id": "c3980e139cfd45fea49b78d791658f57",
       "version_major": 2,
       "version_minor": 0
      },
      "text/plain": [
       "VBox(children=(Label(value='0.004 MB of 0.004 MB uploaded\\r'), FloatProgress(value=1.0, max=1.0)))"
      ]
     },
     "metadata": {},
     "output_type": "display_data"
    },
    {
     "data": {
      "text/html": [
       "<style>\n",
       "    </style>\n",
       "<div class=\"wandb-row\"><div class=\"wandb-col\"><h3>Run history:</h3><br/><table class=\"wandb\"><tr><td>distance_to_last_best_val_loss_fold_-1</td><td>▁▁▁▁▁▁▁▂▁▃▁▁▁▁▂▁▂▃▂▂▁▅▃▅▃▃▅█▂▁▇▁▄▅▃▅▇▃▄▆</td></tr><tr><td>epoch</td><td>▁▁▁▁▂▂▂▂▂▃▃▃▃▃▃▄▄▄▄▄▅▅▅▅▅▅▆▆▆▆▆▇▇▇▇▇▇███</td></tr><tr><td>lr_fold_-1</td><td>███████████████████████████▄▄▄▄▂▂▂▂▂▂▁▁▁</td></tr><tr><td>time_fold_-1</td><td>▁▁▁▁▁▁▁▂▂▂▂▂▂▂▂▃▃▄▄▅▅▆▆▇▇▇▇▇▇▇▇▇▇▇▇█████</td></tr><tr><td>train_loss_fold_-1</td><td>█▇▆▆▅▄▄▄▄▄▃▃▃▃▃▃▃▃▃▃▃▂▂▃▂▂▃▂▂▂▂▁▁▁▁▁▁▁▁▁</td></tr><tr><td>val_loss_fold_-1</td><td>█▇▆▆▅▄▄▄▄▄▃▃▃▃▃▃▃▃▃▃▃▂▂▃▂▂▂▂▂▂▂▁▁▁▁▁▁▁▁▁</td></tr><tr><td>z_mean_mean_fold_-1</td><td>▇▄▆▂▄▄▅▁▂▄▂▅▄▆▂▆▆▆▆▃▆▅▇▂█▄▆▇▇▃▆▅▄▃▂▄▅▇▃▅</td></tr><tr><td>z_mean_std_fold_-1</td><td>▂▂▁▂▃▃▃▅▃▃▁▅▆▄▄▄▅▃▅▇▅▃▅█▅▄▃▃▃▃▅▂▄▂▄▄▂▂▂▂</td></tr><tr><td>z_std_mean_fold_-1</td><td>▇▇▇█▇▅▆▆▆▇▃▂▅▅▄▆▃█▄▅▇▂▃▄▄▁▇▄▄▃▅▁▂▆▆▂▃▃▃▂</td></tr><tr><td>z_std_std_fold_-1</td><td>▅▆▆▃█▇▃▆▃▄▅▄▇▂▃▅▅▄▄▂▄▄▁▅▃▃▆▆▃▁▆▃▄▄▄▃▂▄▃▅</td></tr></table><br/></div><div class=\"wandb-col\"><h3>Run summary:</h3><br/><table class=\"wandb\"><tr><td>distance_to_last_best_val_loss_fold_-1</td><td>5</td></tr><tr><td>epoch</td><td>8296</td></tr><tr><td>lr_fold_-1</td><td>1e-05</td></tr><tr><td>time_fold_-1</td><td>1710717983.99749</td></tr><tr><td>train_loss_fold_-1</td><td>-43.78268</td></tr><tr><td>val_loss_fold_-1</td><td>-48.53783</td></tr><tr><td>z_mean_mean_fold_-1</td><td>0.01191</td></tr><tr><td>z_mean_std_fold_-1</td><td>0.15432</td></tr><tr><td>z_std_mean_fold_-1</td><td>0.62666</td></tr><tr><td>z_std_std_fold_-1</td><td>0.1305</td></tr></table><br/></div></div>"
      ],
      "text/plain": [
       "<IPython.core.display.HTML object>"
      ]
     },
     "metadata": {},
     "output_type": "display_data"
    },
    {
     "data": {
      "text/html": [
       " View run <strong style=\"color:#cdcd00\">colorful-bee-82</strong> at: <a href='https://wandb.ai/balisticcnf/bcnf-test/runs/xghyvnyj' target=\"_blank\">https://wandb.ai/balisticcnf/bcnf-test/runs/xghyvnyj</a><br/>Synced 6 W&B file(s), 0 media file(s), 0 artifact file(s) and 0 other file(s)"
      ],
      "text/plain": [
       "<IPython.core.display.HTML object>"
      ]
     },
     "metadata": {},
     "output_type": "display_data"
    },
    {
     "data": {
      "text/html": [
       "Find logs at: <code>./wandb/run-20240317_213941-xghyvnyj/logs</code>"
      ],
      "text/plain": [
       "<IPython.core.display.HTML object>"
      ]
     },
     "metadata": {},
     "output_type": "display_data"
    }
   ],
   "source": [
    "model = trainer.train(model)"
   ]
  },
  {
   "cell_type": "code",
   "execution_count": null,
   "metadata": {},
   "outputs": [
    {
     "name": "stdout",
     "output_type": "stream",
     "text": [
      "Model saved to /home/psaegert/Projects/bcnf/models/bcnf-models/trajectory_FC_small\n"
     ]
    }
   ],
   "source": [
    "torch.save(model.state_dict(), os.path.join(get_dir('models', 'bcnf-models', MODEL_NAME, create=True), f\"state_dict.pt\"))\n",
    "\n",
    "with open(os.path.join(get_dir('models', 'bcnf-models', MODEL_NAME, create=True), 'config.json'), 'w') as f:\n",
    "    json.dump({'config_path': config_path}, f)\n",
    "\n",
    "print(f\"Model saved to {get_dir('models', 'bcnf-models', MODEL_NAME)}\")"
   ]
  }
 ],
 "metadata": {
  "kernelspec": {
   "display_name": "bcnf",
   "language": "python",
   "name": "python3"
  },
  "language_info": {
   "codemirror_mode": {
    "name": "ipython",
    "version": 3
   },
   "file_extension": ".py",
   "mimetype": "text/x-python",
   "name": "python",
   "nbconvert_exporter": "python",
   "pygments_lexer": "ipython3",
   "version": "3.11.0"
  }
 },
 "nbformat": 4,
 "nbformat_minor": 2
}
