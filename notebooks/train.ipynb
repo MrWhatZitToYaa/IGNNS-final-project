{
 "cells": [
  {
   "cell_type": "code",
   "execution_count": 9,
   "metadata": {},
   "outputs": [
    {
     "name": "stdout",
     "output_type": "stream",
     "text": [
      "Using device: cuda\n"
     ]
    }
   ],
   "source": [
    "import os\n",
    "import torch\n",
    "import json\n",
    "\n",
    "from bcnf.utils import get_dir, load_config, sub_root_path\n",
    "from bcnf.train import Trainer\n",
    "from bcnf import CondRealNVP_v2\n",
    "\n",
    "device = torch.device(\"cuda\" if torch.cuda.is_available() else \"cpu\")\n",
    "print(f\"Using device: {device}\")"
   ]
  },
  {
   "cell_type": "code",
   "execution_count": 10,
   "metadata": {},
   "outputs": [],
   "source": [
    "MODEL_NAME = 'videos_double_CNN_LSTM_large'"
   ]
  },
  {
   "cell_type": "code",
   "execution_count": 11,
   "metadata": {},
   "outputs": [
    {
     "name": "stdout",
     "output_type": "stream",
     "text": [
      "Loading config from /home/computerman/Desktop/IGNNS/IGNNS-final-project/configs/runs/videos_double_CNN_LSTM_large.yaml\n"
     ]
    }
   ],
   "source": [
    "config_path_pattern = os.path.join(\"{{BCNF_ROOT}}\", \"configs\", \"runs\", f\"{MODEL_NAME}.yaml\")\n",
    "config_path = sub_root_path(config_path_pattern)\n",
    "print(f'Loading config from {config_path}')\n",
    "\n",
    "config = load_config(config_path, verify=False)"
   ]
  },
  {
   "cell_type": "code",
   "execution_count": 12,
   "metadata": {},
   "outputs": [
    {
     "name": "stdout",
     "output_type": "stream",
     "text": [
      "Example camera input size: torch.Size([1, 1, 90, 160])\n",
      "Output size after first layer: torch.Size([1, 5, 45, 80])\n",
      "Output size after layer 1: torch.Size([1, 10, 22, 40])\n",
      "Output size after layer 2: torch.Size([1, 15, 10, 19])\n",
      "Final output size: 5700\n",
      "ModuleList(\n",
      "  (0): Sequential(\n",
      "    (0): Conv2d(1, 5, kernel_size=(3, 3), stride=(1, 1), padding=(1, 1))\n",
      "    (1): ReLU()\n",
      "    (2): Dropout(p=0.25, inplace=False)\n",
      "    (3): MaxPool2d(kernel_size=2, stride=2, padding=0, dilation=1, ceil_mode=False)\n",
      "    (4): Conv2d(5, 10, kernel_size=(3, 3), stride=(1, 1), padding=(1, 1))\n",
      "    (5): ReLU()\n",
      "    (6): Dropout(p=0.25, inplace=False)\n",
      "    (7): MaxPool2d(kernel_size=2, stride=2, padding=0, dilation=1, ceil_mode=False)\n",
      "    (8): Conv2d(10, 15, kernel_size=(5, 5), stride=(1, 1), padding=(1, 1))\n",
      "    (9): ReLU()\n",
      "    (10): Dropout(p=0.25, inplace=False)\n",
      "    (11): MaxPool2d(kernel_size=2, stride=2, padding=0, dilation=1, ceil_mode=False)\n",
      "    (12): Flatten(start_dim=1, end_dim=-1)\n",
      "  )\n",
      ")\n",
      "57,355,414\n"
     ]
    }
   ],
   "source": [
    "model = CondRealNVP_v2.from_config(config).to(device)\n",
    "\n",
    "print(f'{model.n_params:,}')"
   ]
  },
  {
   "cell_type": "code",
   "execution_count": 13,
   "metadata": {},
   "outputs": [
    {
     "name": "stdout",
     "output_type": "stream",
     "text": [
      "Using dtype: torch.float32\n",
      "Loading data from /home/computerman/Desktop/IGNNS/IGNNS-final-project/data/bcnf-data/fixed_data_render_2s_15FPS/train...\n"
     ]
    },
    {
     "name": "stderr",
     "output_type": "stream",
     "text": [
      "Loading data from directory: 100%|██████████| 1/1 [00:10<00:00, 10.56s/it, file=fixed_data_render_2s_15FPS_1.pkl]\n"
     ]
    },
    {
     "name": "stdout",
     "output_type": "stream",
     "text": [
      "Using videos data for training. Shapes:\n",
      "Conditions: [torch.Size([1000, 2, 30, 90, 160]), torch.Size([1000, 7])]\n",
      "Parameters: torch.Size([1000, 19])\n"
     ]
    }
   ],
   "source": [
    "trainer = Trainer(\n",
    "    config={k.lower(): v for k, v in config.to_dict().items()},\n",
    "    project_name=\"bcnf-test\",\n",
    "    parameter_index_mapping=model.parameter_index_mapping,\n",
    "    verbose=True,\n",
    ")"
   ]
  },
  {
   "cell_type": "code",
   "execution_count": 14,
   "metadata": {},
   "outputs": [
    {
     "name": "stderr",
     "output_type": "stream",
     "text": [
      "Failed to detect the name of this notebook, you can set it manually with the WANDB_NOTEBOOK_NAME environment variable to enable code saving.\n",
      "\u001b[34m\u001b[1mwandb\u001b[0m: Currently logged in as: \u001b[33michich111222333\u001b[0m (\u001b[33mbalisticcnf\u001b[0m). Use \u001b[1m`wandb login --relogin`\u001b[0m to force relogin\n"
     ]
    },
    {
     "data": {
      "text/html": [
       "Tracking run with wandb version 0.16.4"
      ],
      "text/plain": [
       "<IPython.core.display.HTML object>"
      ]
     },
     "metadata": {},
     "output_type": "display_data"
    },
    {
     "data": {
      "text/html": [
       "Run data is saved locally in <code>/home/computerman/Desktop/IGNNS/IGNNS-final-project/notebooks/wandb/run-20240322_124523-vflksnh2</code>"
      ],
      "text/plain": [
       "<IPython.core.display.HTML object>"
      ]
     },
     "metadata": {},
     "output_type": "display_data"
    },
    {
     "data": {
      "text/html": [
       "Syncing run <strong><a href='https://wandb.ai/balisticcnf/bcnf-test/runs/vflksnh2' target=\"_blank\">avid-glitter-164</a></strong> to <a href='https://wandb.ai/balisticcnf/bcnf-test' target=\"_blank\">Weights & Biases</a> (<a href='https://wandb.me/run' target=\"_blank\">docs</a>)<br/>"
      ],
      "text/plain": [
       "<IPython.core.display.HTML object>"
      ]
     },
     "metadata": {},
     "output_type": "display_data"
    },
    {
     "data": {
      "text/html": [
       " View project at <a href='https://wandb.ai/balisticcnf/bcnf-test' target=\"_blank\">https://wandb.ai/balisticcnf/bcnf-test</a>"
      ],
      "text/plain": [
       "<IPython.core.display.HTML object>"
      ]
     },
     "metadata": {},
     "output_type": "display_data"
    },
    {
     "data": {
      "text/html": [
       " View run at <a href='https://wandb.ai/balisticcnf/bcnf-test/runs/vflksnh2' target=\"_blank\">https://wandb.ai/balisticcnf/bcnf-test/runs/vflksnh2</a>"
      ],
      "text/plain": [
       "<IPython.core.display.HTML object>"
      ]
     },
     "metadata": {},
     "output_type": "display_data"
    },
    {
     "name": "stderr",
     "output_type": "stream",
     "text": [
      "Train: -18.5715 - Val: -5.1814 (avg: -3.6735, min: -6.2362) | lr: 1.00e-04 - Patience: 200/200 - z: (0.0633 ± 0.4477) ± (1.2466 ± 0.5226):   1%|▏         | 733/50000 [1:03:49<71:29:35,  5.22s/it] \n",
      "wandb: WARNING Source type is set to 'repo' but some required information is missing from the environment. A job will not be created from this run. See https://docs.wandb.ai/guides/launch/create-job\n"
     ]
    },
    {
     "data": {
      "application/vnd.jupyter.widget-view+json": {
       "model_id": "38e9479a17f146639513b5f539a4ec77",
       "version_major": 2,
       "version_minor": 0
      },
      "text/plain": [
       "VBox(children=(Label(value='0.002 MB of 0.002 MB uploaded\\r'), FloatProgress(value=1.0, max=1.0)))"
      ]
     },
     "metadata": {},
     "output_type": "display_data"
    },
    {
     "data": {
      "text/html": [
       "<style>\n",
       "    table.wandb td:nth-child(1) { padding: 0 10px; text-align: left ; width: auto;} td:nth-child(2) {text-align: left ; width: 100%}\n",
       "    .wandb-row { display: flex; flex-direction: row; flex-wrap: wrap; justify-content: flex-start; width: 100% }\n",
       "    .wandb-col { display: flex; flex-direction: column; flex-basis: 100%; flex: 1; padding: 10px; }\n",
       "    </style>\n",
       "<div class=\"wandb-row\"><div class=\"wandb-col\"><h3>Run history:</h3><br/><table class=\"wandb\"><tr><td>distance_to_last_best_val_loss_fold_-1</td><td>▁▁▁▁▁▁▁▁▁▁▁▁▁▁▁▁▁▂▂▂▂▂▁▁▁▂▁▂▃▁▂▃▃▄▅▅▆▇▇█</td></tr><tr><td>epoch</td><td>▁▁▁▁▂▂▂▂▂▃▃▃▃▃▄▄▄▄▄▄▅▅▅▅▅▅▆▆▆▆▆▇▇▇▇▇████</td></tr><tr><td>lr_fold_-1</td><td>███████████████████████████████████▁▁▁▁▁</td></tr><tr><td>time_fold_-1</td><td>▁▁▁▁▂▂▂▂▂▃▃▃▃▃▄▄▄▄▄▄▅▅▅▅▅▆▆▆▆▆▆▇▇▇▇▇████</td></tr><tr><td>train_loss_fold_-1</td><td>█▇▆▆▆▅▅▅▅▅▄▄▄▄▄▄▄▃▃▃▃▃▃▃▃▂▂▂▂▂▂▂▂▂▁▁▁▁▁▁</td></tr><tr><td>val_loss_fold_-1</td><td>█▆▅▅▄▄▄▃▄▃▃▃▂▂▂▂▂▂▂▂▃▂▂▂▁▂▁▂▂▁▂▂▁▂▂▁▃▃▂▁</td></tr><tr><td>z_mean_mean_fold_-1</td><td>▆▂▂▃▇▄▅▃▃▄▆▅▄▅▃▄▅▃▅▅█▅▅▅▄▂▅▂▁▄▁▃▅▆▇▃▄▂▅▅</td></tr><tr><td>z_mean_std_fold_-1</td><td>▂▄▁▁▁▃▂▄▃▁▃▄▃▁▄▃▃▅▄▄▅▅▂▃▄▆▂▆▄▃▇▆▄▆▄▅█▅▄▄</td></tr><tr><td>z_std_mean_fold_-1</td><td>▂▂▂▂▁▁▂▂▄▂▅▂▃▃▃▃▄▄▃▃▇▄▄▅▃▄▄▆▅▄▇▄▃▅▆▅█▆▄▃</td></tr><tr><td>z_std_std_fold_-1</td><td>▃▂▂▂▂▁▃▁▇▂▄▃▃▂▃▂▂▃▂▂█▄▄▄▃▅▄▅▅▃▅▄▃▅▅▄▇▇▄▃</td></tr></table><br/></div><div class=\"wandb-col\"><h3>Run summary:</h3><br/><table class=\"wandb\"><tr><td>distance_to_last_best_val_loss_fold_-1</td><td>200</td></tr><tr><td>epoch</td><td>734</td></tr><tr><td>lr_fold_-1</td><td>0.0001</td></tr><tr><td>time_fold_-1</td><td>1711111753.32008</td></tr><tr><td>train_loss_fold_-1</td><td>-18.57145</td></tr><tr><td>val_loss_fold_-1</td><td>-5.1814</td></tr><tr><td>z_mean_mean_fold_-1</td><td>0.06333</td></tr><tr><td>z_mean_std_fold_-1</td><td>0.44772</td></tr><tr><td>z_std_mean_fold_-1</td><td>1.24662</td></tr><tr><td>z_std_std_fold_-1</td><td>0.52264</td></tr></table><br/></div></div>"
      ],
      "text/plain": [
       "<IPython.core.display.HTML object>"
      ]
     },
     "metadata": {},
     "output_type": "display_data"
    },
    {
     "data": {
      "text/html": [
       " View run <strong style=\"color:#cdcd00\">avid-glitter-164</strong> at: <a href='https://wandb.ai/balisticcnf/bcnf-test/runs/vflksnh2' target=\"_blank\">https://wandb.ai/balisticcnf/bcnf-test/runs/vflksnh2</a><br/>Synced 5 W&B file(s), 0 media file(s), 0 artifact file(s) and 0 other file(s)"
      ],
      "text/plain": [
       "<IPython.core.display.HTML object>"
      ]
     },
     "metadata": {},
     "output_type": "display_data"
    },
    {
     "data": {
      "text/html": [
       "Find logs at: <code>./wandb/run-20240322_124523-vflksnh2/logs</code>"
      ],
      "text/plain": [
       "<IPython.core.display.HTML object>"
      ]
     },
     "metadata": {},
     "output_type": "display_data"
    }
   ],
   "source": [
    "model = trainer.train(model)"
   ]
  },
  {
   "cell_type": "code",
   "execution_count": 16,
   "metadata": {},
   "outputs": [
    {
     "name": "stdout",
     "output_type": "stream",
     "text": [
      "Model saved to /home/computerman/Desktop/IGNNS/IGNNS-final-project/models/bcnf-models/videos_double_CNN_LSTM_large\n"
     ]
    }
   ],
   "source": [
    "torch.save(model.state_dict(), os.path.join(get_dir('models', 'bcnf-models', MODEL_NAME, create=True), f\"state_dict.pt\"))\n",
    "\n",
    "with open(os.path.join(get_dir('models', 'bcnf-models', MODEL_NAME, create=True), 'config.json'), 'w') as f:\n",
    "    json.dump({'config_path': config_path_pattern}, f)\n",
    "\n",
    "print(f\"Model saved to {get_dir('models', 'bcnf-models', MODEL_NAME)}\")"
   ]
  }
 ],
 "metadata": {
  "kernelspec": {
   "display_name": "bcnf",
   "language": "python",
   "name": "python3"
  },
  "language_info": {
   "codemirror_mode": {
    "name": "ipython",
    "version": 3
   },
   "file_extension": ".py",
   "mimetype": "text/x-python",
   "name": "python",
   "nbconvert_exporter": "python",
   "pygments_lexer": "ipython3",
   "version": "3.11.0rc1"
  }
 },
 "nbformat": 4,
 "nbformat_minor": 2
}
