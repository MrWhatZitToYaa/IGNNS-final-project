{
 "cells": [
  {
   "cell_type": "code",
   "execution_count": 5,
   "metadata": {},
   "outputs": [
    {
     "name": "stdout",
     "output_type": "stream",
     "text": [
      "cuda:0\n"
     ]
    }
   ],
   "source": [
    "import torch\n",
    "import os\n",
    "import pickle\n",
    "import json\n",
    "import matplotlib.pyplot as plt\n",
    "import numpy as np\n",
    "from sklearn.model_selection import train_test_split\n",
    "\n",
    "device = torch.device(\"cuda:0\" if torch.cuda.is_available() else \"cpu\")\n",
    "print(device)"
   ]
  },
  {
   "cell_type": "code",
   "execution_count": 6,
   "metadata": {},
   "outputs": [],
   "source": [
    "from bcnf.models.cnf import CondRealNVP\n",
    "from bcnf.models.feature_network import FullyConnectedFeatureNetwork, LSTMFeatureNetwork, Transformer\n",
    "from bcnf.train.train import train_CondRealNVP\n",
    "from bcnf.utils import get_dir, ParameterIndexMapping\n",
    "from bcnf.simulation.sampling import generate_data, generate_data_old\n",
    "from bcnf.utils import partconv1d, get_gaussian_kernel"
   ]
  },
  {
   "cell_type": "markdown",
   "metadata": {},
   "source": [
    "## Data"
   ]
  },
  {
   "cell_type": "code",
   "execution_count": 7,
   "metadata": {},
   "outputs": [],
   "source": [
    "T = 2\n",
    "dt = 1/15"
   ]
  },
  {
   "cell_type": "code",
   "execution_count": 8,
   "metadata": {},
   "outputs": [],
   "source": [
    "dataset_name = \"test_resimulation_data_T2_dt_1_15\""
   ]
  },
  {
   "cell_type": "code",
   "execution_count": 9,
   "metadata": {},
   "outputs": [],
   "source": [
    "if not os.path.exists(os.path.join(get_dir('data', 'bcnf-data'), dataset_name + '.pkl')):\n",
    "    data = generate_data(\n",
    "        n=2000,\n",
    "        output_type=\"trajectory\",\n",
    "        dt=dt,\n",
    "        T=T,\n",
    "        config_file=os.path.join(get_dir(\"configs\"), \"old.yaml\"),\n",
    "        verbose=True,\n",
    "        break_on_impact=False,\n",
    "        name=dataset_name,\n",
    "        do_filter=False\n",
    "    )\n",
    "else:\n",
    "    with open(os.path.join(get_dir('data', 'bcnf-data'), dataset_name + '.pkl'), 'rb') as f:\n",
    "        data = pickle.load(f)"
   ]
  },
  {
   "cell_type": "code",
   "execution_count": 10,
   "metadata": {},
   "outputs": [],
   "source": [
    "# data = generate_data_old(T=T, dt=dt, N=2000, break_on_impact=False)"
   ]
  },
  {
   "cell_type": "code",
   "execution_count": 11,
   "metadata": {},
   "outputs": [
    {
     "name": "stdout",
     "output_type": "stream",
     "text": [
      "['x0_x', 'x0_y', 'x0_z', 'v0_x', 'v0_y', 'v0_z', 'g_x', 'g_y', 'g_z', 'w_x', 'w_y', 'w_z', 'b', 'm', 'a_x', 'a_y', 'a_z', 'cam_radian_array', 'r', 'A', 'Cd', 'rho', 'cam_radius', 'cam_angles', 'cam_heights', 'trajectory']\n"
     ]
    }
   ],
   "source": [
    "all_parameters = list(data.keys())\n",
    "print(all_parameters)"
   ]
  },
  {
   "cell_type": "code",
   "execution_count": 12,
   "metadata": {},
   "outputs": [],
   "source": [
    "parameter_selection = ['x0_x','x0_y','x0_z','v0_x','v0_y','v0_z','g_x', 'g_y', \"g_z\",'w_x','w_y','w_z','b', 'm', 'a_x', 'a_y', 'a_z','r', 'A', 'Cd', 'rho']\n",
    "for p in parameter_selection:\n",
    "    if p not in all_parameters:\n",
    "        print(f\"Parameter {p} not found in data\")"
   ]
  },
  {
   "cell_type": "code",
   "execution_count": 13,
   "metadata": {},
   "outputs": [],
   "source": [
    "parameter_index_mapping = ParameterIndexMapping(parameter_selection)"
   ]
  },
  {
   "cell_type": "code",
   "execution_count": 14,
   "metadata": {},
   "outputs": [],
   "source": [
    "X_list = data['trajectory']"
   ]
  },
  {
   "cell_type": "code",
   "execution_count": 15,
   "metadata": {},
   "outputs": [
    {
     "name": "stdout",
     "output_type": "stream",
     "text": [
      "X.shape=(2000, 30, 3)\n",
      "y.shape=(2000, 21)\n"
     ]
    }
   ],
   "source": [
    "X = np.array(X_list)\n",
    "y = parameter_index_mapping.vectorize(data)\n",
    "\n",
    "print(f'{X.shape=}')\n",
    "print(f'{y.shape=}')"
   ]
  },
  {
   "cell_type": "code",
   "execution_count": 12,
   "metadata": {},
   "outputs": [
    {
     "name": "stdout",
     "output_type": "stream",
     "text": [
      "STEPS=30\n",
      "d=3\n"
     ]
    }
   ],
   "source": [
    "STEPS = X.shape[1]\n",
    "d = X.shape[2]\n",
    "\n",
    "print(f'{STEPS=}')\n",
    "print(f'{d=}')"
   ]
  },
  {
   "cell_type": "code",
   "execution_count": 13,
   "metadata": {},
   "outputs": [
    {
     "name": "stdout",
     "output_type": "stream",
     "text": [
      "X_train_tensor.shape=torch.Size([1600, 30, 3])\n",
      "y_train_tensor.shape=torch.Size([1600, 21])\n",
      "X_val_tensor.shape=torch.Size([400, 30, 3])\n",
      "y_val_tensor.shape=torch.Size([400, 21])\n"
     ]
    }
   ],
   "source": [
    "# Split data into training and validation\n",
    "X_train, X_val, y_train, y_val = train_test_split(X.reshape(X.shape[0], -1), y, test_size=0.2, random_state=2024_03_25)\n",
    "\n",
    "X_train = X_train.reshape(-1, STEPS, d)\n",
    "X_val = X_val.reshape(-1, STEPS, d)\n",
    "\n",
    "X_train_tensor = torch.tensor(X_train, dtype=torch.float32).to(device)\n",
    "y_train_tensor = torch.tensor(y_train, dtype=torch.float32).to(device)\n",
    "\n",
    "X_val_tensor = torch.tensor(X_val, dtype=torch.float32).to(device)\n",
    "y_val_tensor = torch.tensor(y_val, dtype=torch.float32).to(device)\n",
    "\n",
    "print(f'{X_train_tensor.shape=}')\n",
    "print(f'{y_train_tensor.shape=}')\n",
    "print(f'{X_val_tensor.shape=}')\n",
    "print(f'{y_val_tensor.shape=}')"
   ]
  },
  {
   "cell_type": "markdown",
   "metadata": {},
   "source": [
    "## Model"
   ]
  },
  {
   "cell_type": "code",
   "execution_count": 14,
   "metadata": {},
   "outputs": [],
   "source": [
    "config = {\n",
    "    \"data_kwargs\": {\n",
    "        \"T\": T,\n",
    "        \"dt\": dt,\n",
    "        \"dataset_name\": dataset_name,\n",
    "        \"parameter_selection\": parameter_selection,\n",
    "        \"steps\": STEPS,\n",
    "    },\n",
    "    \"optimizer_kwargs\": {\n",
    "        \"lr\": 2e-4\n",
    "    },\n",
    "    \"lr_scheduler_kwargs\": {\n",
    "        \"mode\": \"min\",\n",
    "        \"factor\": 0.5,\n",
    "        \"patience\": 250,\n",
    "        \"threshold_mode\": \"abs\",\n",
    "        \"threshold\": 1e-1,\n",
    "    },\n",
    "    \"model_kwargs\":{\n",
    "        'size': y.shape[1],\n",
    "        'condition_size': 80,\n",
    "        'model_nested_size': 16,\n",
    "        'model_nested_layers': 7,\n",
    "        'model_n_blocks': 32,\n",
    "        'model_act_norm': True,\n",
    "        'model_dropout': 0.383,\n",
    "        'feature_network': None,\n",
    "        'time_series_network': 'LSTMFeatureNetwork',\n",
    "        'time_series_network_input_size': d,\n",
    "        'time_series_network_hidden_size': 16,\n",
    "        'time_series_network_num_layers': 1,\n",
    "        'time_series_network_dropout': 0.244,\n",
    "        'time_series_network_bidirectional': True,\n",
    "    }\n",
    "}"
   ]
  },
  {
   "cell_type": "code",
   "execution_count": 15,
   "metadata": {},
   "outputs": [
    {
     "name": "stderr",
     "output_type": "stream",
     "text": [
      "/home/psaegert/miniconda3/envs/bcnf/lib/python3.11/site-packages/torch/nn/modules/rnn.py:83: UserWarning: dropout option adds dropout after all but last recurrent layer, so non-zero dropout expects num_layers greater than 1, but got dropout=0.244 and num_layers=1\n",
      "  warnings.warn(\"dropout option adds dropout after all but last \"\n"
     ]
    }
   ],
   "source": [
    "time_series_network = LSTMFeatureNetwork(\n",
    "    input_size=config['model_kwargs']['time_series_network_input_size'],\n",
    "    hidden_size=config['model_kwargs']['time_series_network_hidden_size'],\n",
    "    output_size=config['model_kwargs']['condition_size'],\n",
    "    num_layers=config['model_kwargs']['time_series_network_num_layers'],\n",
    "    dropout=config['model_kwargs']['time_series_network_dropout'],\n",
    "    bidirectional=config['model_kwargs']['time_series_network_bidirectional']\n",
    ").to(device)\n",
    "\n",
    "# time_series_network = Transformer(\n",
    "#     d_model=config['model_kwargs']['time_series_network_d_model'],\n",
    "#     num_heads=config['model_kwargs']['time_series_network_num_heads'],\n",
    "#     d_ff=config['model_kwargs']['time_series_network_d_ff'],\n",
    "#     num_layers=config['model_kwargs']['time_series_network_num_layers'],\n",
    "#     output_size=config['model_kwargs']['condition_size'],\n",
    "#     dropout=0.1\n",
    "# ).to(device)"
   ]
  },
  {
   "cell_type": "code",
   "execution_count": 16,
   "metadata": {},
   "outputs": [],
   "source": [
    "cnf = CondRealNVP(\n",
    "    size=config['model_kwargs']['size'],\n",
    "    nested_sizes=[config['model_kwargs']['model_nested_size']] * config['model_kwargs']['model_nested_layers'],\n",
    "    n_blocks=config['model_kwargs']['model_n_blocks'],\n",
    "    dropout=config['model_kwargs']['model_dropout'],\n",
    "    n_conditions=config['model_kwargs']['condition_size'],\n",
    "    act_norm=config['model_kwargs']['model_act_norm'],\n",
    "    feature_network=None,\n",
    "    time_series_network=time_series_network,\n",
    "    parameter_index_mapping=parameter_index_mapping).to(device)\n",
    "\n",
    "optimizer = torch.optim.Adam(cnf.parameters(), lr=config['optimizer_kwargs']['lr'])\n",
    "\n",
    "lr_scheduler = torch.optim.lr_scheduler.ReduceLROnPlateau(\n",
    "    optimizer,\n",
    "    mode=config['lr_scheduler_kwargs']['mode'],\n",
    "    factor=config['lr_scheduler_kwargs']['factor'],\n",
    "    patience=config['lr_scheduler_kwargs']['patience'],\n",
    "    threshold_mode=config['lr_scheduler_kwargs']['threshold_mode'],\n",
    "    threshold=config['lr_scheduler_kwargs']['threshold'],\n",
    ")"
   ]
  },
  {
   "cell_type": "code",
   "execution_count": 17,
   "metadata": {},
   "outputs": [
    {
     "name": "stdout",
     "output_type": "stream",
     "text": [
      "Number of parameters: 130,509\n"
     ]
    }
   ],
   "source": [
    "print(f'Number of parameters: {cnf.n_params:,}')"
   ]
  },
  {
   "cell_type": "markdown",
   "metadata": {},
   "source": [
    "## Training"
   ]
  },
  {
   "cell_type": "code",
   "execution_count": 18,
   "metadata": {},
   "outputs": [],
   "source": [
    "model_name = f'bcnf_traj_bilstm_{dataset_name}'"
   ]
  },
  {
   "cell_type": "code",
   "execution_count": 19,
   "metadata": {},
   "outputs": [],
   "source": [
    "loss_history = {}"
   ]
  },
  {
   "cell_type": "code",
   "execution_count": 20,
   "metadata": {},
   "outputs": [
    {
     "name": "stderr",
     "output_type": "stream",
     "text": [
      "Train: -43.2478 - Val: -39.9743 (avg: -40.0185, min: -40.0032) | lr: 1.25e-05 - Patience: 92/500 - z: 0.0210 ± 0.9647:  16%|█▌        | 7759/50000 [42:52<3:53:22,  3.02it/s]  \n"
     ]
    },
    {
     "ename": "KeyboardInterrupt",
     "evalue": "",
     "output_type": "error",
     "traceback": [
      "\u001b[0;31m---------------------------------------------------------------------------\u001b[0m",
      "\u001b[0;31mKeyboardInterrupt\u001b[0m                         Traceback (most recent call last)",
      "Cell \u001b[0;32mIn[20], line 1\u001b[0m\n\u001b[0;32m----> 1\u001b[0m train_CondRealNVP(\n\u001b[1;32m      2\u001b[0m     model\u001b[38;5;241m=\u001b[39mcnf,\n\u001b[1;32m      3\u001b[0m     optimizer\u001b[38;5;241m=\u001b[39moptimizer,\n\u001b[1;32m      4\u001b[0m     lr_scheduler\u001b[38;5;241m=\u001b[39mlr_scheduler,\n\u001b[1;32m      5\u001b[0m     X_train\u001b[38;5;241m=\u001b[39mX_train_tensor,\n\u001b[1;32m      6\u001b[0m     y_train\u001b[38;5;241m=\u001b[39my_train_tensor,\n\u001b[1;32m      7\u001b[0m     X_val\u001b[38;5;241m=\u001b[39mX_val_tensor,\n\u001b[1;32m      8\u001b[0m     y_val\u001b[38;5;241m=\u001b[39my_val_tensor,\n\u001b[1;32m      9\u001b[0m     n_epochs\u001b[38;5;241m=\u001b[39m\u001b[38;5;241m50_000\u001b[39m,\n\u001b[1;32m     10\u001b[0m     val_loss_patience\u001b[38;5;241m=\u001b[39m\u001b[38;5;241m500\u001b[39m,\n\u001b[1;32m     11\u001b[0m     val_loss_tolerance\u001b[38;5;241m=\u001b[39m\u001b[38;5;241m1e-1\u001b[39m,\n\u001b[1;32m     12\u001b[0m     val_loss_tolerance_mode\u001b[38;5;241m=\u001b[39m\u001b[38;5;124m\"\u001b[39m\u001b[38;5;124mabs\u001b[39m\u001b[38;5;124m\"\u001b[39m,\n\u001b[1;32m     13\u001b[0m     batch_size\u001b[38;5;241m=\u001b[39m\u001b[38;5;241m256\u001b[39m,\n\u001b[1;32m     14\u001b[0m     loss_history\u001b[38;5;241m=\u001b[39mloss_history\n\u001b[1;32m     15\u001b[0m )\n",
      "File \u001b[0;32m~/Projects/bcnf/src/bcnf/train/train.py:124\u001b[0m, in \u001b[0;36mtrain_CondRealNVP\u001b[0;34m(model, optimizer, lr_scheduler, X_train, y_train, n_epochs, val_loss_patience, val_loss_tolerance, val_loss_tolerance_mode, val_loss_alpha, timeout, X_val, y_val, batch_size, loss_history, verbose)\u001b[0m\n\u001b[1;32m    121\u001b[0m optimizer\u001b[38;5;241m.\u001b[39mzero_grad()\n\u001b[1;32m    123\u001b[0m \u001b[38;5;66;03m# Run the model\u001b[39;00m\n\u001b[0;32m--> 124\u001b[0m z \u001b[38;5;241m=\u001b[39m model\u001b[38;5;241m.\u001b[39mforward(y, x, log_det_J\u001b[38;5;241m=\u001b[39m\u001b[38;5;28;01mTrue\u001b[39;00m)\n\u001b[1;32m    126\u001b[0m \u001b[38;5;66;03m# Calculate the loss\u001b[39;00m\n\u001b[1;32m    127\u001b[0m loss \u001b[38;5;241m=\u001b[39m inn_nll_loss(z, model\u001b[38;5;241m.\u001b[39mlog_det_J)\n",
      "File \u001b[0;32m~/Projects/bcnf/src/bcnf/models/cnf.py:246\u001b[0m, in \u001b[0;36mCondRealNVP.forward\u001b[0;34m(self, x, y, log_det_J)\u001b[0m\n\u001b[1;32m    244\u001b[0m \u001b[38;5;28;01mfor\u001b[39;00m layer \u001b[38;5;129;01min\u001b[39;00m \u001b[38;5;28mself\u001b[39m\u001b[38;5;241m.\u001b[39mlayers:\n\u001b[1;32m    245\u001b[0m     \u001b[38;5;28;01mif\u001b[39;00m \u001b[38;5;28misinstance\u001b[39m(layer, ConditionalInvertibleLayer):\n\u001b[0;32m--> 246\u001b[0m         x \u001b[38;5;241m=\u001b[39m layer(x, y, log_det_J)\n\u001b[1;32m    247\u001b[0m     \u001b[38;5;28;01melif\u001b[39;00m \u001b[38;5;28misinstance\u001b[39m(layer, InvertibleLayer):\n\u001b[1;32m    248\u001b[0m         x \u001b[38;5;241m=\u001b[39m layer(x, log_det_J)\n",
      "File \u001b[0;32m~/miniconda3/envs/bcnf/lib/python3.11/site-packages/torch/nn/modules/module.py:1511\u001b[0m, in \u001b[0;36mModule._wrapped_call_impl\u001b[0;34m(self, *args, **kwargs)\u001b[0m\n\u001b[1;32m   1509\u001b[0m     \u001b[38;5;28;01mreturn\u001b[39;00m \u001b[38;5;28mself\u001b[39m\u001b[38;5;241m.\u001b[39m_compiled_call_impl(\u001b[38;5;241m*\u001b[39margs, \u001b[38;5;241m*\u001b[39m\u001b[38;5;241m*\u001b[39mkwargs)  \u001b[38;5;66;03m# type: ignore[misc]\u001b[39;00m\n\u001b[1;32m   1510\u001b[0m \u001b[38;5;28;01melse\u001b[39;00m:\n\u001b[0;32m-> 1511\u001b[0m     \u001b[38;5;28;01mreturn\u001b[39;00m \u001b[38;5;28mself\u001b[39m\u001b[38;5;241m.\u001b[39m_call_impl(\u001b[38;5;241m*\u001b[39margs, \u001b[38;5;241m*\u001b[39m\u001b[38;5;241m*\u001b[39mkwargs)\n",
      "File \u001b[0;32m~/miniconda3/envs/bcnf/lib/python3.11/site-packages/torch/nn/modules/module.py:1520\u001b[0m, in \u001b[0;36mModule._call_impl\u001b[0;34m(self, *args, **kwargs)\u001b[0m\n\u001b[1;32m   1515\u001b[0m \u001b[38;5;66;03m# If we don't have any hooks, we want to skip the rest of the logic in\u001b[39;00m\n\u001b[1;32m   1516\u001b[0m \u001b[38;5;66;03m# this function, and just call forward.\u001b[39;00m\n\u001b[1;32m   1517\u001b[0m \u001b[38;5;28;01mif\u001b[39;00m \u001b[38;5;129;01mnot\u001b[39;00m (\u001b[38;5;28mself\u001b[39m\u001b[38;5;241m.\u001b[39m_backward_hooks \u001b[38;5;129;01mor\u001b[39;00m \u001b[38;5;28mself\u001b[39m\u001b[38;5;241m.\u001b[39m_backward_pre_hooks \u001b[38;5;129;01mor\u001b[39;00m \u001b[38;5;28mself\u001b[39m\u001b[38;5;241m.\u001b[39m_forward_hooks \u001b[38;5;129;01mor\u001b[39;00m \u001b[38;5;28mself\u001b[39m\u001b[38;5;241m.\u001b[39m_forward_pre_hooks\n\u001b[1;32m   1518\u001b[0m         \u001b[38;5;129;01mor\u001b[39;00m _global_backward_pre_hooks \u001b[38;5;129;01mor\u001b[39;00m _global_backward_hooks\n\u001b[1;32m   1519\u001b[0m         \u001b[38;5;129;01mor\u001b[39;00m _global_forward_hooks \u001b[38;5;129;01mor\u001b[39;00m _global_forward_pre_hooks):\n\u001b[0;32m-> 1520\u001b[0m     \u001b[38;5;28;01mreturn\u001b[39;00m forward_call(\u001b[38;5;241m*\u001b[39margs, \u001b[38;5;241m*\u001b[39m\u001b[38;5;241m*\u001b[39mkwargs)\n\u001b[1;32m   1522\u001b[0m \u001b[38;5;28;01mtry\u001b[39;00m:\n\u001b[1;32m   1523\u001b[0m     result \u001b[38;5;241m=\u001b[39m \u001b[38;5;28;01mNone\u001b[39;00m\n",
      "File \u001b[0;32m~/Projects/bcnf/src/bcnf/models/cnf.py:123\u001b[0m, in \u001b[0;36mConditionalAffineCouplingLayer.forward\u001b[0;34m(self, x, y, log_det_J)\u001b[0m\n\u001b[1;32m    120\u001b[0m x_a, x_b \u001b[38;5;241m=\u001b[39m x\u001b[38;5;241m.\u001b[39mchunk(\u001b[38;5;241m2\u001b[39m, dim\u001b[38;5;241m=\u001b[39m\u001b[38;5;241m1\u001b[39m)\n\u001b[1;32m    122\u001b[0m \u001b[38;5;66;03m# Get the coefficients from the neural network\u001b[39;00m\n\u001b[0;32m--> 123\u001b[0m t, log_s \u001b[38;5;241m=\u001b[39m \u001b[38;5;28mself\u001b[39m\u001b[38;5;241m.\u001b[39mnn\u001b[38;5;241m.\u001b[39mforward(x_a, y)\n\u001b[1;32m    125\u001b[0m \u001b[38;5;66;03m# Apply the transformation\u001b[39;00m\n\u001b[1;32m    126\u001b[0m z_a \u001b[38;5;241m=\u001b[39m x_a  \u001b[38;5;66;03m# skip connection\u001b[39;00m\n",
      "File \u001b[0;32m~/Projects/bcnf/src/bcnf/models/cnf.py:90\u001b[0m, in \u001b[0;36mConditionalNestedNeuralNetwork.forward\u001b[0;34m(self, x, y)\u001b[0m\n\u001b[1;32m     87\u001b[0m     x \u001b[38;5;241m=\u001b[39m torch\u001b[38;5;241m.\u001b[39mcat([x, y], dim\u001b[38;5;241m=\u001b[39m\u001b[38;5;241m1\u001b[39m)\n\u001b[1;32m     89\u001b[0m \u001b[38;5;66;03m# Get the translation coefficients t and the scale coefficients s from the neural network\u001b[39;00m\n\u001b[0;32m---> 90\u001b[0m t, s \u001b[38;5;241m=\u001b[39m \u001b[38;5;28mself\u001b[39m\u001b[38;5;241m.\u001b[39mnn\u001b[38;5;241m.\u001b[39mforward(x)\u001b[38;5;241m.\u001b[39mchunk(\u001b[38;5;241m2\u001b[39m, dim\u001b[38;5;241m=\u001b[39m\u001b[38;5;241m1\u001b[39m)\n\u001b[1;32m     92\u001b[0m \u001b[38;5;66;03m# Return the coefficients\u001b[39;00m\n\u001b[1;32m     93\u001b[0m \u001b[38;5;28;01mreturn\u001b[39;00m t, torch\u001b[38;5;241m.\u001b[39mtanh(s)\n",
      "File \u001b[0;32m~/miniconda3/envs/bcnf/lib/python3.11/site-packages/torch/nn/modules/container.py:217\u001b[0m, in \u001b[0;36mSequential.forward\u001b[0;34m(self, input)\u001b[0m\n\u001b[1;32m    215\u001b[0m \u001b[38;5;28;01mdef\u001b[39;00m \u001b[38;5;21mforward\u001b[39m(\u001b[38;5;28mself\u001b[39m, \u001b[38;5;28minput\u001b[39m):\n\u001b[1;32m    216\u001b[0m     \u001b[38;5;28;01mfor\u001b[39;00m module \u001b[38;5;129;01min\u001b[39;00m \u001b[38;5;28mself\u001b[39m:\n\u001b[0;32m--> 217\u001b[0m         \u001b[38;5;28minput\u001b[39m \u001b[38;5;241m=\u001b[39m module(\u001b[38;5;28minput\u001b[39m)\n\u001b[1;32m    218\u001b[0m     \u001b[38;5;28;01mreturn\u001b[39;00m \u001b[38;5;28minput\u001b[39m\n",
      "File \u001b[0;32m~/miniconda3/envs/bcnf/lib/python3.11/site-packages/torch/nn/modules/module.py:1511\u001b[0m, in \u001b[0;36mModule._wrapped_call_impl\u001b[0;34m(self, *args, **kwargs)\u001b[0m\n\u001b[1;32m   1509\u001b[0m     \u001b[38;5;28;01mreturn\u001b[39;00m \u001b[38;5;28mself\u001b[39m\u001b[38;5;241m.\u001b[39m_compiled_call_impl(\u001b[38;5;241m*\u001b[39margs, \u001b[38;5;241m*\u001b[39m\u001b[38;5;241m*\u001b[39mkwargs)  \u001b[38;5;66;03m# type: ignore[misc]\u001b[39;00m\n\u001b[1;32m   1510\u001b[0m \u001b[38;5;28;01melse\u001b[39;00m:\n\u001b[0;32m-> 1511\u001b[0m     \u001b[38;5;28;01mreturn\u001b[39;00m \u001b[38;5;28mself\u001b[39m\u001b[38;5;241m.\u001b[39m_call_impl(\u001b[38;5;241m*\u001b[39margs, \u001b[38;5;241m*\u001b[39m\u001b[38;5;241m*\u001b[39mkwargs)\n",
      "File \u001b[0;32m~/miniconda3/envs/bcnf/lib/python3.11/site-packages/torch/nn/modules/module.py:1513\u001b[0m, in \u001b[0;36mModule._call_impl\u001b[0;34m(self, *args, **kwargs)\u001b[0m\n\u001b[1;32m   1510\u001b[0m     \u001b[38;5;28;01melse\u001b[39;00m:\n\u001b[1;32m   1511\u001b[0m         \u001b[38;5;28;01mreturn\u001b[39;00m \u001b[38;5;28mself\u001b[39m\u001b[38;5;241m.\u001b[39m_call_impl(\u001b[38;5;241m*\u001b[39margs, \u001b[38;5;241m*\u001b[39m\u001b[38;5;241m*\u001b[39mkwargs)\n\u001b[0;32m-> 1513\u001b[0m \u001b[38;5;28;01mdef\u001b[39;00m \u001b[38;5;21m_call_impl\u001b[39m(\u001b[38;5;28mself\u001b[39m, \u001b[38;5;241m*\u001b[39margs, \u001b[38;5;241m*\u001b[39m\u001b[38;5;241m*\u001b[39mkwargs):\n\u001b[1;32m   1514\u001b[0m     forward_call \u001b[38;5;241m=\u001b[39m (\u001b[38;5;28mself\u001b[39m\u001b[38;5;241m.\u001b[39m_slow_forward \u001b[38;5;28;01mif\u001b[39;00m torch\u001b[38;5;241m.\u001b[39m_C\u001b[38;5;241m.\u001b[39m_get_tracing_state() \u001b[38;5;28;01melse\u001b[39;00m \u001b[38;5;28mself\u001b[39m\u001b[38;5;241m.\u001b[39mforward)\n\u001b[1;32m   1515\u001b[0m     \u001b[38;5;66;03m# If we don't have any hooks, we want to skip the rest of the logic in\u001b[39;00m\n\u001b[1;32m   1516\u001b[0m     \u001b[38;5;66;03m# this function, and just call forward.\u001b[39;00m\n",
      "\u001b[0;31mKeyboardInterrupt\u001b[0m: "
     ]
    }
   ],
   "source": [
    "train_CondRealNVP(\n",
    "    model=cnf,\n",
    "    optimizer=optimizer,\n",
    "    lr_scheduler=lr_scheduler,\n",
    "    X_train=X_train_tensor,\n",
    "    y_train=y_train_tensor,\n",
    "    X_val=X_val_tensor,\n",
    "    y_val=y_val_tensor,\n",
    "    n_epochs=50_000,\n",
    "    val_loss_patience=500,\n",
    "    val_loss_tolerance=1e-1,\n",
    "    val_loss_tolerance_mode=\"abs\",\n",
    "    batch_size=256,\n",
    "    loss_history=loss_history\n",
    ");"
   ]
  },
  {
   "cell_type": "code",
   "execution_count": 21,
   "metadata": {},
   "outputs": [],
   "source": [
    "torch.save(cnf.state_dict(), os.path.join(get_dir('models', 'bcnf-models', model_name, create=True), f\"state_dict.pt\"))\n",
    "\n",
    "with open(os.path.join(get_dir('models', 'bcnf-models', model_name, create=True), 'loss_history.pkl'), 'wb') as f:\n",
    "    pickle.dump(loss_history, f)\n",
    "\n",
    "with open(os.path.join(get_dir('models', 'bcnf-models', model_name, create=True), 'config.json'), 'w') as f:\n",
    "    json.dump(config, f)"
   ]
  },
  {
   "cell_type": "code",
   "execution_count": 22,
   "metadata": {},
   "outputs": [
    {
     "data": {
      "image/png": "[encoded data removed]",
      "text/plain": [
       "<Figure size 1000x500 with 1 Axes>"
      ]
     },
     "metadata": {},
     "output_type": "display_data"
    }
   ],
   "source": [
    "fig, ax = plt.subplots(1, 1, figsize=(10, 5))\n",
    "\n",
    "epochs = np.array([e for e, _ in loss_history['train']])\n",
    "losses = np.array([l for _, l in loss_history['train']])\n",
    "\n",
    "ax.plot(epochs, losses, alpha=0.2, color='C0')\n",
    "ax.plot(epochs, partconv1d(losses, kernel=get_gaussian_kernel(sigma=100)), label='Train NLL', color='C0')\n",
    "\n",
    "epochs = np.array([e for e, _ in loss_history['val']])\n",
    "losses = np.array([l for _, l in loss_history['val']])\n",
    "\n",
    "ax.plot(epochs, losses, alpha=0.2, color='C1')\n",
    "ax.plot(epochs, partconv1d(losses, kernel=get_gaussian_kernel(sigma=20)), label='Validation NLL', color='C1')\n",
    "\n",
    "ax.set_xlabel('Epochs')\n",
    "ax.set_ylabel('Loss')\n",
    "\n",
    "ax.set_xscale('log')\n",
    "ax.set_ylim(-60, 0)\n",
    "ax.set_xlim(1, None)\n",
    "ax.grid(axis='y', alpha=0.5)\n",
    "\n",
    "ax.legend();"
   ]
  },
  {
   "cell_type": "code",
   "execution_count": null,
   "metadata": {},
   "outputs": [],
   "source": []
  }
 ],
 "metadata": {
  "kernelspec": {
   "display_name": "bcnf",
   "language": "python",
   "name": "python3"
  },
  "language_info": {
   "codemirror_mode": {
    "name": "ipython",
    "version": 3
   },
   "file_extension": ".py",
   "mimetype": "text/x-python",
   "name": "python",
   "nbconvert_exporter": "python",
   "pygments_lexer": "ipython3",
   "version": "3.11.8"
  }
 },
 "nbformat": 4,
 "nbformat_minor": 2
}
