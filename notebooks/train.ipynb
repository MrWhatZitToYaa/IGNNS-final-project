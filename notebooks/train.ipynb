{
 "cells": [
  {
   "cell_type": "code",
   "execution_count": 1,
   "metadata": {},
   "outputs": [
    {
     "name": "stdout",
     "output_type": "stream",
     "text": [
      "cuda:0\n"
     ]
    }
   ],
   "source": [
    "import torch\n",
    "import os\n",
    "import pickle\n",
    "import json\n",
    "import matplotlib.pyplot as plt\n",
    "import numpy as np\n",
    "from sklearn.model_selection import train_test_split\n",
    "\n",
    "device = torch.device(\"cuda:0\" if torch.cuda.is_available() else \"cpu\")\n",
    "print(device)"
   ]
  },
  {
   "cell_type": "code",
   "execution_count": 2,
   "metadata": {},
   "outputs": [],
   "source": [
    "from bcnf.models.cnf import CondRealNVP\n",
    "from bcnf.models.feature_network import FullyConnectedFeatureNetwork\n",
    "from bcnf.train.train import train_CondRealNVP\n",
    "from bcnf.utils import get_dir, ParameterIndexMapping\n",
    "from bcnf.simulation.sampling import generate_data, generate_data_old\n",
    "from bcnf.utils import partconv1d, get_gaussian_kernel"
   ]
  },
  {
   "cell_type": "markdown",
   "metadata": {},
   "source": [
    "## Data"
   ]
  },
  {
   "cell_type": "code",
   "execution_count": 3,
   "metadata": {},
   "outputs": [],
   "source": [
    "T = 2\n",
    "dt = 1/15"
   ]
  },
  {
   "cell_type": "code",
   "execution_count": 4,
   "metadata": {},
   "outputs": [],
   "source": [
    "dataset_name = \"test_resimulation_data_T2_dt_1_15\""
   ]
  },
  {
   "cell_type": "code",
   "execution_count": 5,
   "metadata": {},
   "outputs": [],
   "source": [
    "if not os.path.exists(os.path.join(get_dir('data', 'bcnf-data'), dataset_name + '.pkl')):\n",
    "    data = generate_data(\n",
    "        n=2000,\n",
    "        output_type=\"trajectory\",\n",
    "        dt=dt,\n",
    "        T=T,\n",
    "        config_file=os.path.join(get_dir(\"configs\"), \"old.yaml\"),\n",
    "        verbose=True,\n",
    "        break_on_impact=False,\n",
    "        name=dataset_name,\n",
    "        do_filter=False\n",
    "    )\n",
    "else:\n",
    "    with open(os.path.join(get_dir('data', 'bcnf-data'), dataset_name + '.pkl'), 'rb') as f:\n",
    "        data = pickle.load(f)"
   ]
  },
  {
   "cell_type": "code",
   "execution_count": 6,
   "metadata": {},
   "outputs": [],
   "source": [
    "# data = generate_data_old(T=T, dt=dt, N=2000, break_on_impact=False)"
   ]
  },
  {
   "cell_type": "code",
   "execution_count": 7,
   "metadata": {},
   "outputs": [
    {
     "name": "stdout",
     "output_type": "stream",
     "text": [
      "['x0_x', 'x0_y', 'x0_z', 'v0_x', 'v0_y', 'v0_z', 'g_x', 'g_y', 'g_z', 'w_x', 'w_y', 'w_z', 'b', 'm', 'a_x', 'a_y', 'a_z', 'cam_radian_array', 'r', 'A', 'Cd', 'rho', 'cam_radius', 'cam_angles', 'cam_heights', 'trajectory']\n"
     ]
    }
   ],
   "source": [
    "all_parameters = list(data.keys())\n",
    "print(all_parameters)"
   ]
  },
  {
   "cell_type": "code",
   "execution_count": 8,
   "metadata": {},
   "outputs": [],
   "source": [
    "parameter_selection = ['x0_x','x0_y','x0_z','v0_x','v0_y','v0_z','g_x', 'g_y', \"g_z\",'w_x','w_y','w_z','b', 'm', 'a_x', 'a_y', 'a_z','r', 'A', 'Cd', 'rho']\n",
    "for p in parameter_selection:\n",
    "    if p not in all_parameters:\n",
    "        print(f\"Parameter {p} not found in data\")"
   ]
  },
  {
   "cell_type": "code",
   "execution_count": 9,
   "metadata": {},
   "outputs": [],
   "source": [
    "parameter_index_mapping = ParameterIndexMapping(parameter_selection)"
   ]
  },
  {
   "cell_type": "code",
   "execution_count": 10,
   "metadata": {},
   "outputs": [],
   "source": [
    "X_list = data['trajectory']"
   ]
  },
  {
   "cell_type": "code",
   "execution_count": 11,
   "metadata": {},
   "outputs": [
    {
     "name": "stdout",
     "output_type": "stream",
     "text": [
      "X.shape=(2000, 30, 3)\n",
      "y.shape=(2000, 21)\n"
     ]
    }
   ],
   "source": [
    "X = np.array(X_list)\n",
    "y = parameter_index_mapping.vectorize(data)\n",
    "\n",
    "print(f'{X.shape=}')\n",
    "print(f'{y.shape=}')"
   ]
  },
  {
   "cell_type": "code",
   "execution_count": 12,
   "metadata": {},
   "outputs": [
    {
     "name": "stdout",
     "output_type": "stream",
     "text": [
      "STEPS=30\n",
      "d=3\n"
     ]
    }
   ],
   "source": [
    "STEPS = X.shape[1]\n",
    "d = X.shape[2]\n",
    "\n",
    "print(f'{STEPS=}')\n",
    "print(f'{d=}')"
   ]
  },
  {
   "cell_type": "code",
   "execution_count": 13,
   "metadata": {},
   "outputs": [
    {
     "name": "stdout",
     "output_type": "stream",
     "text": [
      "X_train_tensor.shape=torch.Size([1600, 90])\n",
      "y_train_tensor.shape=torch.Size([1600, 21])\n",
      "X_val_tensor.shape=torch.Size([400, 90])\n",
      "y_val_tensor.shape=torch.Size([400, 21])\n"
     ]
    }
   ],
   "source": [
    "# Split data into training and validation\n",
    "X_train, X_val, y_train, y_val = train_test_split(X.reshape(X.shape[0], -1), y, test_size=0.2, random_state=2024_03_25)\n",
    "\n",
    "X_train = X_train.reshape(-1, STEPS, d)\n",
    "X_val = X_val.reshape(-1, STEPS, d)\n",
    "\n",
    "X_train_tensor = torch.tensor(X_train.reshape(X_train.shape[0], -1), dtype=torch.float32).to(device)\n",
    "y_train_tensor = torch.tensor(y_train, dtype=torch.float32).to(device)\n",
    "\n",
    "X_val_tensor = torch.tensor(X_val.reshape(X_val.shape[0], -1), dtype=torch.float32).to(device)\n",
    "y_val_tensor = torch.tensor(y_val, dtype=torch.float32).to(device)\n",
    "\n",
    "print(f'{X_train_tensor.shape=}')\n",
    "print(f'{y_train_tensor.shape=}')\n",
    "print(f'{X_val_tensor.shape=}')\n",
    "print(f'{y_val_tensor.shape=}')"
   ]
  },
  {
   "cell_type": "markdown",
   "metadata": {},
   "source": [
    "## Model"
   ]
  },
  {
   "cell_type": "code",
   "execution_count": 14,
   "metadata": {},
   "outputs": [],
   "source": [
    "config = {\n",
    "    \"data_kwargs\": {\n",
    "        \"T\": T,\n",
    "        \"dt\": dt,\n",
    "        \"dataset_name\": dataset_name,\n",
    "        \"parameter_selection\": parameter_selection,\n",
    "        \"steps\": STEPS,\n",
    "    },\n",
    "    \"optimizer_kwargs\": {\n",
    "        \"lr\": 2e-4\n",
    "    },\n",
    "    \"lr_scheduler_kwargs\": {\n",
    "        \"mode\": \"min\",\n",
    "        \"factor\": 0.5,\n",
    "        \"patience\": 250,\n",
    "        \"threshold_mode\": \"abs\",\n",
    "        \"threshold\": 1e-1,\n",
    "    },\n",
    "    \"model_kwargs\":{\n",
    "        'size': y.shape[1],\n",
    "        'condition_size': 80,\n",
    "        'model_nested_size': 16,\n",
    "        'model_nested_layers': 7,\n",
    "        'model_n_blocks': 32,\n",
    "        'model_act_norm': True,\n",
    "        'model_dropout': 0.383,\n",
    "        'feature_network_input_size': STEPS * d,\n",
    "        'feature_network_hidden_size': 59,\n",
    "        'feature_network_hidden_layers': 0,\n",
    "        'feature_network_dropout': 0.244,\n",
    "        'feature_network_batchnorm': False,\n",
    "    }\n",
    "}"
   ]
  },
  {
   "cell_type": "code",
   "execution_count": 15,
   "metadata": {},
   "outputs": [],
   "source": [
    "feature_network = FullyConnectedFeatureNetwork(\n",
    "    sizes = [config['model_kwargs']['feature_network_input_size']] + [config['model_kwargs']['condition_size']],\n",
    "    dropout=config['model_kwargs']['feature_network_dropout'],\n",
    "    batch_norm=config['model_kwargs']['feature_network_batchnorm'],\n",
    ").to(device)"
   ]
  },
  {
   "cell_type": "code",
   "execution_count": 16,
   "metadata": {},
   "outputs": [],
   "source": [
    "cnf = CondRealNVP(\n",
    "    size=config['model_kwargs']['size'],\n",
    "    nested_sizes=[config['model_kwargs']['model_nested_size']] * config['model_kwargs']['model_nested_layers'],\n",
    "    n_blocks=config['model_kwargs']['model_n_blocks'],\n",
    "    dropout=config['model_kwargs']['model_dropout'],\n",
    "    n_conditions=config['model_kwargs']['condition_size'],\n",
    "    act_norm=config['model_kwargs']['model_act_norm'],\n",
    "    feature_network=feature_network,\n",
    "    parameter_index_mapping=parameter_index_mapping).to(device)\n",
    "\n",
    "optimizer = torch.optim.Adam(cnf.parameters(), lr=config['optimizer_kwargs']['lr'])\n",
    "\n",
    "lr_scheduler = torch.optim.lr_scheduler.ReduceLROnPlateau(\n",
    "    optimizer,\n",
    "    mode=config['lr_scheduler_kwargs']['mode'],\n",
    "    factor=config['lr_scheduler_kwargs']['factor'],\n",
    "    patience=config['lr_scheduler_kwargs']['patience'],\n",
    "    threshold_mode=config['lr_scheduler_kwargs']['threshold_mode'],\n",
    "    threshold=config['lr_scheduler_kwargs']['threshold'],\n",
    ")"
   ]
  },
  {
   "cell_type": "code",
   "execution_count": 17,
   "metadata": {},
   "outputs": [
    {
     "name": "stdout",
     "output_type": "stream",
     "text": [
      "Number of parameters: 132,461\n"
     ]
    }
   ],
   "source": [
    "print(f'Number of parameters: {cnf.n_params:,}')"
   ]
  },
  {
   "cell_type": "markdown",
   "metadata": {},
   "source": [
    "## Training"
   ]
  },
  {
   "cell_type": "code",
   "execution_count": 18,
   "metadata": {},
   "outputs": [],
   "source": [
    "model_name = f'bcnf_traj_{dataset_name}'"
   ]
  },
  {
   "cell_type": "code",
   "execution_count": 19,
   "metadata": {},
   "outputs": [],
   "source": [
    "loss_history = {}"
   ]
  },
  {
   "cell_type": "code",
   "execution_count": 20,
   "metadata": {},
   "outputs": [
    {
     "name": "stderr",
     "output_type": "stream",
     "text": [
      "Train: -51.8301 - Val: -54.4527 (avg: -54.4542, min: -54.4118) | lr: 7.81e-07 - Patience: 500/500 - z: -0.0198 ± 0.7612:  29%|██▉       | 14455/50000 [1:16:19<3:07:40,  3.16it/s]\n"
     ]
    }
   ],
   "source": [
    "train_CondRealNVP(\n",
    "    model=cnf,\n",
    "    optimizer=optimizer,\n",
    "    lr_scheduler=lr_scheduler,\n",
    "    X_train=X_train_tensor,\n",
    "    y_train=y_train_tensor,\n",
    "    X_val=X_val_tensor,\n",
    "    y_val=y_val_tensor,\n",
    "    n_epochs=50_000,\n",
    "    val_loss_patience=500,\n",
    "    val_loss_tolerance=1e-1,\n",
    "    val_loss_tolerance_mode=\"abs\",\n",
    "    batch_size=256,\n",
    "    loss_history=loss_history\n",
    ");"
   ]
  },
  {
   "cell_type": "code",
   "execution_count": 21,
   "metadata": {},
   "outputs": [],
   "source": [
    "torch.save(cnf.state_dict(), os.path.join(get_dir('models', 'bcnf-models', model_name, create=True), f\"state_dict.pt\"))\n",
    "\n",
    "with open(os.path.join(get_dir('models', 'bcnf-models', model_name, create=True), 'loss_history.pkl'), 'wb') as f:\n",
    "    pickle.dump(loss_history, f)\n",
    "\n",
    "with open(os.path.join(get_dir('models', 'bcnf-models', model_name, create=True), 'config.json'), 'w') as f:\n",
    "    json.dump(config, f)"
   ]
  },
  {
   "cell_type": "code",
   "execution_count": 22,
   "metadata": {},
   "outputs": [
    {
     "data": {
      "image/png": "[encoded data removed]",
      "text/plain": [
       "<Figure size 1000x500 with 1 Axes>"
      ]
     },
     "metadata": {},
     "output_type": "display_data"
    }
   ],
   "source": [
    "fig, ax = plt.subplots(1, 1, figsize=(10, 5))\n",
    "\n",
    "epochs = np.array([e for e, _ in loss_history['train']])\n",
    "losses = np.array([l for _, l in loss_history['train']])\n",
    "\n",
    "ax.plot(epochs, losses, alpha=0.2, color='C0')\n",
    "ax.plot(epochs, partconv1d(losses, kernel=get_gaussian_kernel(sigma=100)), label='Train NLL', color='C0')\n",
    "\n",
    "epochs = np.array([e for e, _ in loss_history['val']])\n",
    "losses = np.array([l for _, l in loss_history['val']])\n",
    "\n",
    "ax.plot(epochs, losses, alpha=0.2, color='C1')\n",
    "ax.plot(epochs, partconv1d(losses, kernel=get_gaussian_kernel(sigma=20)), label='Validation NLL', color='C1')\n",
    "\n",
    "ax.set_xlabel('Epochs')\n",
    "ax.set_ylabel('Loss')\n",
    "\n",
    "ax.set_xscale('log')\n",
    "ax.set_ylim(-60, 0)\n",
    "ax.set_xlim(1, None)\n",
    "ax.grid(axis='y', alpha=0.5)\n",
    "\n",
    "ax.legend();"
   ]
  },
  {
   "cell_type": "code",
   "execution_count": null,
   "metadata": {},
   "outputs": [],
   "source": []
  }
 ],
 "metadata": {
  "kernelspec": {
   "display_name": "bcnf",
   "language": "python",
   "name": "python3"
  },
  "language_info": {
   "codemirror_mode": {
    "name": "ipython",
    "version": 3
   },
   "file_extension": ".py",
   "mimetype": "text/x-python",
   "name": "python",
   "nbconvert_exporter": "python",
   "pygments_lexer": "ipython3",
   "version": "3.11.8"
  }
 },
 "nbformat": 4,
 "nbformat_minor": 2
}
