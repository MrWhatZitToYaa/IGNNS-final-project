{
 "cells": [
  {
   "cell_type": "code",
   "execution_count": 1,
   "metadata": {},
   "outputs": [
    {
     "name": "stdout",
     "output_type": "stream",
     "text": [
      "Using device: cuda\n"
     ]
    }
   ],
   "source": [
    "import os\n",
    "import torch\n",
    "import json\n",
    "\n",
    "from bcnf.utils import get_dir, load_config\n",
    "from bcnf.train import Trainer\n",
    "from bcnf import CondRealNVP\n",
    "\n",
    "device = torch.device(\"cuda\" if torch.cuda.is_available() else \"cpu\")\n",
    "print(f\"Using device: {device}\")"
   ]
  },
  {
   "cell_type": "code",
   "execution_count": 2,
   "metadata": {},
   "outputs": [],
   "source": [
    "MODEL_NAME = 'trajectory_LSTM_large'"
   ]
  },
  {
   "cell_type": "code",
   "execution_count": 3,
   "metadata": {},
   "outputs": [],
   "source": [
    "config_path = os.path.join(get_dir(\"configs\", \"runs\"), f\"{MODEL_NAME}.yaml\")\n",
    "config = load_config(config_path)"
   ]
  },
  {
   "cell_type": "code",
   "execution_count": 4,
   "metadata": {},
   "outputs": [
    {
     "name": "stdout",
     "output_type": "stream",
     "text": [
      "51,558,407\n"
     ]
    }
   ],
   "source": [
    "model = CondRealNVP.from_config(config).to(device)\n",
    "\n",
    "print(f'{model.n_params:,}')"
   ]
  },
  {
   "cell_type": "code",
   "execution_count": 5,
   "metadata": {},
   "outputs": [
    {
     "name": "stdout",
     "output_type": "stream",
     "text": [
      "Using dtype: torch.float32\n",
      "Loading data from /home/computerman/Desktop/IGNNS/IGNNS-final-project/data/bcnf-data/fixed_data_render_2s_15FPS/train...\n"
     ]
    },
    {
     "name": "stderr",
     "output_type": "stream",
     "text": [
      "Loading data from directory: 100%|██████████| 4/4 [00:42<00:00, 10.55s/it, file=fixed_data_render_2s_15FPS_4.pkl]\n"
     ]
    },
    {
     "name": "stdout",
     "output_type": "stream",
     "text": [
      "Using trajectories data for training. Shapes:\n",
      "X shape: torch.Size([4000, 30, 3])\n",
      "y shape: torch.Size([4000, 19])\n"
     ]
    }
   ],
   "source": [
    "trainer = Trainer(\n",
    "    config={k.lower(): v for k, v in config.to_dict().items()},\n",
    "    project_name=\"bcnf-test\",\n",
    "    parameter_index_mapping=model.parameter_index_mapping,\n",
    "    verbose=True,\n",
    ")"
   ]
  },
  {
   "cell_type": "code",
   "execution_count": 6,
   "metadata": {},
   "outputs": [
    {
     "name": "stderr",
     "output_type": "stream",
     "text": [
      "Failed to detect the name of this notebook, you can set it manually with the WANDB_NOTEBOOK_NAME environment variable to enable code saving.\n",
      "\u001b[34m\u001b[1mwandb\u001b[0m: Currently logged in as: \u001b[33michich111222333\u001b[0m (\u001b[33mbalisticcnf\u001b[0m). Use \u001b[1m`wandb login --relogin`\u001b[0m to force relogin\n"
     ]
    },
    {
     "data": {
      "text/html": [
       "Tracking run with wandb version 0.16.4"
      ],
      "text/plain": [
       "<IPython.core.display.HTML object>"
      ]
     },
     "metadata": {},
     "output_type": "display_data"
    },
    {
     "data": {
      "text/html": [
       "Run data is saved locally in <code>/home/computerman/Desktop/IGNNS/IGNNS-final-project/notebooks/wandb/run-20240318_175727-2nagu9e7</code>"
      ],
      "text/plain": [
       "<IPython.core.display.HTML object>"
      ]
     },
     "metadata": {},
     "output_type": "display_data"
    },
    {
     "data": {
      "text/html": [
       "Syncing run <strong><a href='https://wandb.ai/balisticcnf/bcnf-test/runs/2nagu9e7' target=\"_blank\">fresh-shadow-107</a></strong> to <a href='https://wandb.ai/balisticcnf/bcnf-test' target=\"_blank\">Weights & Biases</a> (<a href='https://wandb.me/run' target=\"_blank\">docs</a>)<br/>"
      ],
      "text/plain": [
       "<IPython.core.display.HTML object>"
      ]
     },
     "metadata": {},
     "output_type": "display_data"
    },
    {
     "data": {
      "text/html": [
       " View project at <a href='https://wandb.ai/balisticcnf/bcnf-test' target=\"_blank\">https://wandb.ai/balisticcnf/bcnf-test</a>"
      ],
      "text/plain": [
       "<IPython.core.display.HTML object>"
      ]
     },
     "metadata": {},
     "output_type": "display_data"
    },
    {
     "data": {
      "text/html": [
       " View run at <a href='https://wandb.ai/balisticcnf/bcnf-test/runs/2nagu9e7' target=\"_blank\">https://wandb.ai/balisticcnf/bcnf-test/runs/2nagu9e7</a>"
      ],
      "text/plain": [
       "<IPython.core.display.HTML object>"
      ]
     },
     "metadata": {},
     "output_type": "display_data"
    },
    {
     "name": "stderr",
     "output_type": "stream",
     "text": [
      "Train: -21.4394 - Val: -15.9474 (avg: -15.2819, min: -15.2419) | lr: 2.00e-04 - Patience: 75/75 - z: (0.0189 ± 0.3313) ± (1.0692 ± 0.1876):   1%|          | 282/50000 [04:23<12:54:11,  1.07it/s] \n",
      "wandb: WARNING Source type is set to 'repo' but some required information is missing from the environment. A job will not be created from this run. See https://docs.wandb.ai/guides/launch/create-job\n"
     ]
    },
    {
     "data": {
      "application/vnd.jupyter.widget-view+json": {
       "model_id": "de66a2087d584d2884f0e444d2d9940a",
       "version_major": 2,
       "version_minor": 0
      },
      "text/plain": [
       "VBox(children=(Label(value='0.002 MB of 0.006 MB uploaded\\r'), FloatProgress(value=0.44896907216494847, max=1.…"
      ]
     },
     "metadata": {},
     "output_type": "display_data"
    },
    {
     "data": {
      "text/html": [
       "<style>\n",
       "    table.wandb td:nth-child(1) { padding: 0 10px; text-align: left ; width: auto;} td:nth-child(2) {text-align: left ; width: 100%}\n",
       "    .wandb-row { display: flex; flex-direction: row; flex-wrap: wrap; justify-content: flex-start; width: 100% }\n",
       "    .wandb-col { display: flex; flex-direction: column; flex-basis: 100%; flex: 1; padding: 10px; }\n",
       "    </style>\n",
       "<div class=\"wandb-row\"><div class=\"wandb-col\"><h3>Run history:</h3><br/><table class=\"wandb\"><tr><td>distance_to_last_best_val_loss_fold_-1</td><td>▁▁▁▁▁▁▁▁▁▁▁▁▁▁▁▁▁▁▁▁▁▁▁▁▁▁▁▁▁▁▂▂▃▄▄▅▆▆▇█</td></tr><tr><td>epoch</td><td>▁▁▁▂▂▂▂▂▂▃▃▃▃▃▃▄▄▄▄▄▅▅▅▅▅▅▆▆▆▆▆▆▇▇▇▇▇███</td></tr><tr><td>lr_fold_-1</td><td>▁▁▁▁▁▁▁▁▁▁▁▁▁▁▁▁▁▁▁▁▁▁▁▁▁▁▁▁▁▁▁▁▁▁▁▁▁▁▁▁</td></tr><tr><td>time_fold_-1</td><td>▁▁▁▁▁▁▁▁▁▁▁▅▅▅▅▅▅▅▅▅▅▅▅▅▅▅▅▅▅▅██████████</td></tr><tr><td>train_loss_fold_-1</td><td>█▇▆▅▅▅▄▄▄▄▄▄▃▃▃▃▃▃▃▃▃▂▂▂▂▂▂▂▂▂▂▂▂▁▁▁▁▁▁▁</td></tr><tr><td>val_loss_fold_-1</td><td>█▇▅▅▄▄▃▃▃▃▃▃▂▂▂▂▂▂▂▂▂▂▁▁▂▁▁▁▁▁▁▁▁▁▁▁▁▁▁▁</td></tr><tr><td>z_mean_mean_fold_-1</td><td>▅▄▃▃▄▆▂▄▆▅▃▂▄▆▄▅▄▄▄▇▄▅▃▅▆▄▄█▂▃▄▅▄▅▁▃▆▃▅▅</td></tr><tr><td>z_mean_std_fold_-1</td><td>▄▃▂▃▂▂▄▃▃▃▁▄▃▃▄▅▄▂▆▄▄▄▁▃▅▄▄▇▄▃▄▄▄▇▄▇▅▅▂█</td></tr><tr><td>z_std_mean_fold_-1</td><td>▁▃▁▂▂▃▁▄▂▃▄▃▃▂▂▂▂▂▄▃▃▅▄▄▇▅▅▅▅▄▄▇▅██▇▇▇▆▇</td></tr><tr><td>z_std_std_fold_-1</td><td>▄▃▁▁▃▄▂▅▄▄▆▃▂▃▃▄▂▁▄▃▂▄▃▃█▃▃▄▃▃▄█▆▆▆▅▅▅▆▃</td></tr></table><br/></div><div class=\"wandb-col\"><h3>Run summary:</h3><br/><table class=\"wandb\"><tr><td>distance_to_last_best_val_loss_fold_-1</td><td>75</td></tr><tr><td>epoch</td><td>283</td></tr><tr><td>lr_fold_-1</td><td>0.0002</td></tr><tr><td>time_fold_-1</td><td>1710781312.1423</td></tr><tr><td>train_loss_fold_-1</td><td>-21.43937</td></tr><tr><td>val_loss_fold_-1</td><td>-15.94744</td></tr><tr><td>z_mean_mean_fold_-1</td><td>0.01892</td></tr><tr><td>z_mean_std_fold_-1</td><td>0.33131</td></tr><tr><td>z_std_mean_fold_-1</td><td>1.06924</td></tr><tr><td>z_std_std_fold_-1</td><td>0.18761</td></tr></table><br/></div></div>"
      ],
      "text/plain": [
       "<IPython.core.display.HTML object>"
      ]
     },
     "metadata": {},
     "output_type": "display_data"
    },
    {
     "data": {
      "text/html": [
       " View run <strong style=\"color:#cdcd00\">fresh-shadow-107</strong> at: <a href='https://wandb.ai/balisticcnf/bcnf-test/runs/2nagu9e7' target=\"_blank\">https://wandb.ai/balisticcnf/bcnf-test/runs/2nagu9e7</a><br/>Synced 5 W&B file(s), 0 media file(s), 0 artifact file(s) and 0 other file(s)"
      ],
      "text/plain": [
       "<IPython.core.display.HTML object>"
      ]
     },
     "metadata": {},
     "output_type": "display_data"
    },
    {
     "data": {
      "text/html": [
       "Find logs at: <code>./wandb/run-20240318_175727-2nagu9e7/logs</code>"
      ],
      "text/plain": [
       "<IPython.core.display.HTML object>"
      ]
     },
     "metadata": {},
     "output_type": "display_data"
    }
   ],
   "source": [
    "model = trainer.train(model)"
   ]
  },
  {
   "cell_type": "code",
   "execution_count": 7,
   "metadata": {},
   "outputs": [
    {
     "name": "stdout",
     "output_type": "stream",
     "text": [
      "Model saved to /home/computerman/Desktop/IGNNS/IGNNS-final-project/models/bcnf-models/trajectory_LSTM_large\n"
     ]
    }
   ],
   "source": [
    "torch.save(model.state_dict(), os.path.join(get_dir('models', 'bcnf-models', MODEL_NAME, create=True), f\"state_dict.pt\"))\n",
    "\n",
    "with open(os.path.join(get_dir('models', 'bcnf-models', MODEL_NAME, create=True), 'config.json'), 'w') as f:\n",
    "    json.dump({'config_path': config_path}, f)\n",
    "\n",
    "print(f\"Model saved to {get_dir('models', 'bcnf-models', MODEL_NAME)}\")"
   ]
  }
 ],
 "metadata": {
  "kernelspec": {
   "display_name": "bcnf",
   "language": "python",
   "name": "python3"
  },
  "language_info": {
   "codemirror_mode": {
    "name": "ipython",
    "version": 3
   },
   "file_extension": ".py",
   "mimetype": "text/x-python",
   "name": "python",
   "nbconvert_exporter": "python",
   "pygments_lexer": "ipython3",
   "version": "3.11.0rc1"
  }
 },
 "nbformat": 4,
 "nbformat_minor": 2
}
