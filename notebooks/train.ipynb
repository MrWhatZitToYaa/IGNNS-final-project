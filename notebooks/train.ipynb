{
 "cells": [
  {
   "cell_type": "code",
   "execution_count": 1,
   "metadata": {},
   "outputs": [
    {
     "name": "stdout",
     "output_type": "stream",
     "text": [
      "Using device: cuda\n"
     ]
    }
   ],
   "source": [
    "import os\n",
    "import torch\n",
    "import json\n",
    "\n",
    "from bcnf.utils import get_dir, load_config\n",
    "from bcnf.train import Trainer\n",
    "from bcnf import CondRealNVP\n",
    "\n",
    "device = torch.device(\"cuda\" if torch.cuda.is_available() else \"cpu\")\n",
    "print(f\"Using device: {device}\")"
   ]
  },
  {
   "cell_type": "code",
   "execution_count": 2,
   "metadata": {},
   "outputs": [],
   "source": [
    "MODEL_NAME = 'videos_CNN_large'"
   ]
  },
  {
   "cell_type": "code",
   "execution_count": 3,
   "metadata": {},
   "outputs": [],
   "source": [
    "config_path = os.path.join(get_dir(\"configs\", \"runs\"), f\"{MODEL_NAME}.yaml\")\n",
    "config = load_config(config_path)"
   ]
  },
  {
   "cell_type": "code",
   "execution_count": 4,
   "metadata": {},
   "outputs": [
    {
     "name": "stdout",
     "output_type": "stream",
     "text": [
      "67,691,783\n"
     ]
    }
   ],
   "source": [
    "model = CondRealNVP.from_config(config).to(device)\n",
    "\n",
    "print(f'{model.n_params:,}')"
   ]
  },
  {
   "cell_type": "code",
   "execution_count": 5,
   "metadata": {},
   "outputs": [
    {
     "name": "stdout",
     "output_type": "stream",
     "text": [
      "Using dtype: torch.float32\n",
      "Loading data from /home/computerman/Desktop/IGNNS/IGNNS-final-project/data/bcnf-data/fixed_data_render_2s_15FPS/train...\n"
     ]
    },
    {
     "name": "stderr",
     "output_type": "stream",
     "text": [
      "Loading data from directory: 100%|██████████| 1/1 [00:07<00:00,  7.47s/it, file=fixed_data_render_2s_15FPS_1.pkl]\n"
     ]
    },
    {
     "name": "stdout",
     "output_type": "stream",
     "text": [
      "Using videos data for training. Shapes:\n",
      "X shape: torch.Size([1000, 2, 30, 90, 160])\n",
      "y shape: torch.Size([1000, 19])\n"
     ]
    }
   ],
   "source": [
    "trainer = Trainer(\n",
    "    config={k.lower(): v for k, v in config.to_dict().items()},\n",
    "    project_name=\"bcnf-test\",\n",
    "    parameter_index_mapping=model.parameter_index_mapping,\n",
    "    verbose=True,\n",
    ")"
   ]
  },
  {
   "cell_type": "code",
   "execution_count": 6,
   "metadata": {},
   "outputs": [
    {
     "name": "stderr",
     "output_type": "stream",
     "text": [
      "Failed to detect the name of this notebook, you can set it manually with the WANDB_NOTEBOOK_NAME environment variable to enable code saving.\n",
      "\u001b[34m\u001b[1mwandb\u001b[0m: Currently logged in as: \u001b[33michich111222333\u001b[0m (\u001b[33mbalisticcnf\u001b[0m). Use \u001b[1m`wandb login --relogin`\u001b[0m to force relogin\n"
     ]
    },
    {
     "data": {
      "text/html": [
       "Tracking run with wandb version 0.16.4"
      ],
      "text/plain": [
       "<IPython.core.display.HTML object>"
      ]
     },
     "metadata": {},
     "output_type": "display_data"
    },
    {
     "data": {
      "text/html": [
       "Run data is saved locally in <code>/home/computerman/Desktop/IGNNS/IGNNS-final-project/notebooks/wandb/run-20240318_191104-2ndfv0fi</code>"
      ],
      "text/plain": [
       "<IPython.core.display.HTML object>"
      ]
     },
     "metadata": {},
     "output_type": "display_data"
    },
    {
     "data": {
      "text/html": [
       "Syncing run <strong><a href='https://wandb.ai/balisticcnf/bcnf-test/runs/2ndfv0fi' target=\"_blank\">rare-dew-109</a></strong> to <a href='https://wandb.ai/balisticcnf/bcnf-test' target=\"_blank\">Weights & Biases</a> (<a href='https://wandb.me/run' target=\"_blank\">docs</a>)<br/>"
      ],
      "text/plain": [
       "<IPython.core.display.HTML object>"
      ]
     },
     "metadata": {},
     "output_type": "display_data"
    },
    {
     "data": {
      "text/html": [
       " View project at <a href='https://wandb.ai/balisticcnf/bcnf-test' target=\"_blank\">https://wandb.ai/balisticcnf/bcnf-test</a>"
      ],
      "text/plain": [
       "<IPython.core.display.HTML object>"
      ]
     },
     "metadata": {},
     "output_type": "display_data"
    },
    {
     "data": {
      "text/html": [
       " View run at <a href='https://wandb.ai/balisticcnf/bcnf-test/runs/2ndfv0fi' target=\"_blank\">https://wandb.ai/balisticcnf/bcnf-test/runs/2ndfv0fi</a>"
      ],
      "text/plain": [
       "<IPython.core.display.HTML object>"
      ]
     },
     "metadata": {},
     "output_type": "display_data"
    },
    {
     "name": "stderr",
     "output_type": "stream",
     "text": [
      "Train: 2.9282 - Val: 1.9084 (avg: 3.7844, min: 3.9500) | lr: 2.00e-04 - Patience: 1/500 - z: (-0.1302 ± 0.3312) ± (1.1055 ± 0.3889):   0%|          | 42/50000 [05:59<118:49:00,  8.56s/it]   \n",
      "Traceback (most recent call last):\n",
      "  File \"/home/computerman/Desktop/IGNNS/IGNNS-final-project/src/bcnf/train/trainer.py\", line 100, in train\n",
      "    model = self._train(\n",
      "            ^^^^^^^^^^^^\n",
      "  File \"/home/computerman/Desktop/IGNNS/IGNNS-final-project/src/bcnf/train/trainer.py\", line 227, in _train\n",
      "    loss = self._train_batch(x, y, model, optimizer, loss_function)\n",
      "           ^^^^^^^^^^^^^^^^^^^^^^^^^^^^^^^^^^^^^^^^^^^^^^^^^^^^^^^^\n",
      "  File \"/home/computerman/Desktop/IGNNS/IGNNS-final-project/src/bcnf/train/trainer.py\", line 317, in _train_batch\n",
      "    return loss.item()\n",
      "           ^^^^^^^^^^^\n",
      "KeyboardInterrupt\n",
      "wandb: WARNING Source type is set to 'repo' but some required information is missing from the environment. A job will not be created from this run. See https://docs.wandb.ai/guides/launch/create-job\n"
     ]
    },
    {
     "data": {
      "application/vnd.jupyter.widget-view+json": {
       "model_id": "f10a546018084c62870b13191a713de0",
       "version_major": 2,
       "version_minor": 0
      },
      "text/plain": [
       "VBox(children=(Label(value='0.002 MB of 0.003 MB uploaded\\r'), FloatProgress(value=0.7547060527077903, max=1.0…"
      ]
     },
     "metadata": {},
     "output_type": "display_data"
    },
    {
     "data": {
      "text/html": [
       "<style>\n",
       "    table.wandb td:nth-child(1) { padding: 0 10px; text-align: left ; width: auto;} td:nth-child(2) {text-align: left ; width: 100%}\n",
       "    .wandb-row { display: flex; flex-direction: row; flex-wrap: wrap; justify-content: flex-start; width: 100% }\n",
       "    .wandb-col { display: flex; flex-direction: column; flex-basis: 100%; flex: 1; padding: 10px; }\n",
       "    </style>\n",
       "<div class=\"wandb-row\"><div class=\"wandb-col\"><h3>Run history:</h3><br/><table class=\"wandb\"><tr><td>distance_to_last_best_val_loss_fold_-1</td><td>▁███████████████████████████████████████</td></tr><tr><td>epoch</td><td>▁▁▁▂▂▂▂▂▂▃▃▃▃▃▃▄▄▄▄▄▅▅▅▅▅▅▆▆▆▆▆▆▇▇▇▇▇▇██</td></tr><tr><td>lr_fold_-1</td><td>▁▁▁▁▁▁▁▁▁▁▁▁▁▁▁▁▁▁▁▁▁▁▁▁▁▁▁▁▁▁▁▁▁▁▁▁▁▁▁▁</td></tr><tr><td>time_fold_-1</td><td>▁▁▁▁▁▁▁▁▁▁▁▁▁▁▁▅▅▅▅▅▅▅▅▅▅▅▅▅▅▅██████████</td></tr><tr><td>train_loss_fold_-1</td><td>█▂▂▂▂▂▂▂▂▂▁▁▁▁▁▁▁▁▁▁▁▁▁▁▁▁▁▁▁▁▁▁▁▁▁▁▁▁▁▁</td></tr><tr><td>val_loss_fold_-1</td><td>█▆▅▄▄▄▄▃▃▃▃▃▃▃▃▂▂▂▂▂▂▂▂▂▂▂▂▂▂▂▂▂▁▁▁▁▁▁▁▁</td></tr><tr><td>z_mean_mean_fold_-1</td><td>▅▃▆▇▄▂▂▁▂▇█▃▅▇▅▆▇▃▄█▆▆▂▃▆▁▄▅▇▂▆▄▄▄▅▅▁▇▄▂</td></tr><tr><td>z_mean_std_fold_-1</td><td>█▄▂▃▅▃▃▄▂▃▃▃▂▃▃▄▄▃▂▄▄▃▃▁▃▂▃▃▂▅▃▃▆▃▅▃▂▃▂▃</td></tr><tr><td>z_std_mean_fold_-1</td><td>▃▃▄▄▃▄▄▄▄▄▃▃▃▁▃▄▂▁▃▅▄▂▂▄▃▃▃▃▄▅▅▆▃▃▃▂▆▅▄█</td></tr><tr><td>z_std_std_fold_-1</td><td>▄▄▄▅▄▆▄▆▄▃▃▄▆▆▁▄▂▄▇█▆▄▃▄▅▃▇▅▄▅▆▆▄▅▅▅▆▄▃█</td></tr></table><br/></div><div class=\"wandb-col\"><h3>Run summary:</h3><br/><table class=\"wandb\"><tr><td>distance_to_last_best_val_loss_fold_-1</td><td>1</td></tr><tr><td>epoch</td><td>42</td></tr><tr><td>lr_fold_-1</td><td>0.0002</td></tr><tr><td>time_fold_-1</td><td>1710785818.65006</td></tr><tr><td>train_loss_fold_-1</td><td>2.92824</td></tr><tr><td>val_loss_fold_-1</td><td>1.90843</td></tr><tr><td>z_mean_mean_fold_-1</td><td>-0.13018</td></tr><tr><td>z_mean_std_fold_-1</td><td>0.33117</td></tr><tr><td>z_std_mean_fold_-1</td><td>1.10552</td></tr><tr><td>z_std_std_fold_-1</td><td>0.38888</td></tr></table><br/></div></div>"
      ],
      "text/plain": [
       "<IPython.core.display.HTML object>"
      ]
     },
     "metadata": {},
     "output_type": "display_data"
    },
    {
     "data": {
      "text/html": [
       " View run <strong style=\"color:#cdcd00\">rare-dew-109</strong> at: <a href='https://wandb.ai/balisticcnf/bcnf-test/runs/2ndfv0fi' target=\"_blank\">https://wandb.ai/balisticcnf/bcnf-test/runs/2ndfv0fi</a><br/>Synced 5 W&B file(s), 0 media file(s), 0 artifact file(s) and 0 other file(s)"
      ],
      "text/plain": [
       "<IPython.core.display.HTML object>"
      ]
     },
     "metadata": {},
     "output_type": "display_data"
    },
    {
     "data": {
      "text/html": [
       "Find logs at: <code>./wandb/run-20240318_191104-2ndfv0fi/logs</code>"
      ],
      "text/plain": [
       "<IPython.core.display.HTML object>"
      ]
     },
     "metadata": {},
     "output_type": "display_data"
    },
    {
     "ename": "KeyboardInterrupt",
     "evalue": "",
     "output_type": "error",
     "traceback": [
      "\u001b[0;31m---------------------------------------------------------------------------\u001b[0m",
      "\u001b[0;31mKeyboardInterrupt\u001b[0m                         Traceback (most recent call last)",
      "Cell \u001b[0;32mIn[6], line 1\u001b[0m\n\u001b[0;32m----> 1\u001b[0m model \u001b[38;5;241m=\u001b[39m \u001b[43mtrainer\u001b[49m\u001b[38;5;241;43m.\u001b[39;49m\u001b[43mtrain\u001b[49m\u001b[43m(\u001b[49m\u001b[43mmodel\u001b[49m\u001b[43m)\u001b[49m\n",
      "File \u001b[0;32m~/Desktop/IGNNS/IGNNS-final-project/src/bcnf/train/trainer.py:100\u001b[0m, in \u001b[0;36mTrainer.train\u001b[0;34m(self, model)\u001b[0m\n\u001b[1;32m     93\u001b[0m val_loader \u001b[38;5;241m=\u001b[39m \u001b[38;5;28mself\u001b[39m\u001b[38;5;241m.\u001b[39mdata_handler\u001b[38;5;241m.\u001b[39mmake_data_loader(\n\u001b[1;32m     94\u001b[0m     dataset\u001b[38;5;241m=\u001b[39mval_subset,\n\u001b[1;32m     95\u001b[0m     batch_size\u001b[38;5;241m=\u001b[39m\u001b[38;5;28mself\u001b[39m\u001b[38;5;241m.\u001b[39mconfig[\u001b[38;5;124m\"\u001b[39m\u001b[38;5;124mtraining\u001b[39m\u001b[38;5;124m\"\u001b[39m][\u001b[38;5;124m\"\u001b[39m\u001b[38;5;124mbatch_size\u001b[39m\u001b[38;5;124m\"\u001b[39m],\n\u001b[1;32m     96\u001b[0m     pin_memory\u001b[38;5;241m=\u001b[39m\u001b[38;5;28mself\u001b[39m\u001b[38;5;241m.\u001b[39mconfig[\u001b[38;5;124m\"\u001b[39m\u001b[38;5;124mtraining\u001b[39m\u001b[38;5;124m\"\u001b[39m][\u001b[38;5;124m\"\u001b[39m\u001b[38;5;124mpin_memory\u001b[39m\u001b[38;5;124m\"\u001b[39m],\n\u001b[1;32m     97\u001b[0m     num_workers\u001b[38;5;241m=\u001b[39m\u001b[38;5;28mself\u001b[39m\u001b[38;5;241m.\u001b[39mconfig[\u001b[38;5;124m\"\u001b[39m\u001b[38;5;124mtraining\u001b[39m\u001b[38;5;124m\"\u001b[39m][\u001b[38;5;124m\"\u001b[39m\u001b[38;5;124mnum_workers\u001b[39m\u001b[38;5;124m\"\u001b[39m])\n\u001b[1;32m     99\u001b[0m \u001b[38;5;66;03m# and use them to train the model\u001b[39;00m\n\u001b[0;32m--> 100\u001b[0m model \u001b[38;5;241m=\u001b[39m \u001b[38;5;28;43mself\u001b[39;49m\u001b[38;5;241;43m.\u001b[39;49m\u001b[43m_train\u001b[49m\u001b[43m(\u001b[49m\n\u001b[1;32m    101\u001b[0m \u001b[43m    \u001b[49m\u001b[43mmodel\u001b[49m\u001b[43m,\u001b[49m\n\u001b[1;32m    102\u001b[0m \u001b[43m    \u001b[49m\u001b[43mtrain_loader\u001b[49m\u001b[43m,\u001b[49m\n\u001b[1;32m    103\u001b[0m \u001b[43m    \u001b[49m\u001b[43mval_loader\u001b[49m\u001b[43m,\u001b[49m\n\u001b[1;32m    104\u001b[0m \u001b[43m    \u001b[49m\u001b[38;5;28;43mself\u001b[39;49m\u001b[38;5;241;43m.\u001b[39;49m\u001b[43mloss_function\u001b[49m\u001b[43m,\u001b[49m\n\u001b[1;32m    105\u001b[0m \u001b[43m    \u001b[49m\u001b[43moptimizer\u001b[49m\u001b[43m,\u001b[49m\n\u001b[1;32m    106\u001b[0m \u001b[43m    \u001b[49m\u001b[43mscheduler\u001b[49m\u001b[43m)\u001b[49m\n\u001b[1;32m    108\u001b[0m \u001b[38;5;28;01mreturn\u001b[39;00m model\n",
      "File \u001b[0;32m~/Desktop/IGNNS/IGNNS-final-project/src/bcnf/train/trainer.py:227\u001b[0m, in \u001b[0;36mTrainer._train\u001b[0;34m(self, model, train_loader, val_loader, loss_function, optimizer, scheduler, **kwargs)\u001b[0m\n\u001b[1;32m    224\u001b[0m train_loss \u001b[38;5;241m=\u001b[39m \u001b[38;5;241m0.0\u001b[39m\n\u001b[1;32m    226\u001b[0m \u001b[38;5;28;01mfor\u001b[39;00m i, (x, y) \u001b[38;5;129;01min\u001b[39;00m \u001b[38;5;28menumerate\u001b[39m(train_loader):\n\u001b[0;32m--> 227\u001b[0m     loss \u001b[38;5;241m=\u001b[39m \u001b[38;5;28;43mself\u001b[39;49m\u001b[38;5;241;43m.\u001b[39;49m\u001b[43m_train_batch\u001b[49m\u001b[43m(\u001b[49m\u001b[43mx\u001b[49m\u001b[43m,\u001b[49m\u001b[43m \u001b[49m\u001b[43my\u001b[49m\u001b[43m,\u001b[49m\u001b[43m \u001b[49m\u001b[43mmodel\u001b[49m\u001b[43m,\u001b[49m\u001b[43m \u001b[49m\u001b[43moptimizer\u001b[49m\u001b[43m,\u001b[49m\u001b[43m \u001b[49m\u001b[43mloss_function\u001b[49m\u001b[43m)\u001b[49m\n\u001b[1;32m    229\u001b[0m     \u001b[38;5;28;01mif\u001b[39;00m loss \u001b[38;5;241m>\u001b[39m \u001b[38;5;241m1e5\u001b[39m \u001b[38;5;129;01mor\u001b[39;00m np\u001b[38;5;241m.\u001b[39misnan(loss):\n\u001b[1;32m    230\u001b[0m         \u001b[38;5;28;01mraise\u001b[39;00m TrainingDivergedError(\u001b[38;5;124mf\u001b[39m\u001b[38;5;124m\"\u001b[39m\u001b[38;5;124mLoss exploded to \u001b[39m\u001b[38;5;132;01m{\u001b[39;00mloss\u001b[38;5;132;01m}\u001b[39;00m\u001b[38;5;124m at epoch \u001b[39m\u001b[38;5;132;01m{\u001b[39;00mepoch\u001b[38;5;250m \u001b[39m\u001b[38;5;241m+\u001b[39m\u001b[38;5;250m \u001b[39mi\u001b[38;5;250m \u001b[39m\u001b[38;5;241m/\u001b[39m\u001b[38;5;250m \u001b[39m\u001b[38;5;28mlen\u001b[39m(train_loader)\u001b[38;5;132;01m}\u001b[39;00m\u001b[38;5;124m\"\u001b[39m)\n",
      "File \u001b[0;32m~/Desktop/IGNNS/IGNNS-final-project/src/bcnf/train/trainer.py:317\u001b[0m, in \u001b[0;36mTrainer._train_batch\u001b[0;34m(self, x, y, model, optimizer, loss_function)\u001b[0m\n\u001b[1;32m    314\u001b[0m \u001b[38;5;66;03m# Step with optimizer\u001b[39;00m\n\u001b[1;32m    315\u001b[0m optimizer\u001b[38;5;241m.\u001b[39mstep()\n\u001b[0;32m--> 317\u001b[0m \u001b[38;5;28;01mreturn\u001b[39;00m \u001b[43mloss\u001b[49m\u001b[38;5;241;43m.\u001b[39;49m\u001b[43mitem\u001b[49m\u001b[43m(\u001b[49m\u001b[43m)\u001b[49m\n",
      "\u001b[0;31mKeyboardInterrupt\u001b[0m: "
     ]
    }
   ],
   "source": [
    "model = trainer.train(model)"
   ]
  },
  {
   "cell_type": "code",
   "execution_count": 7,
   "metadata": {},
   "outputs": [
    {
     "name": "stdout",
     "output_type": "stream",
     "text": [
      "Model saved to /home/computerman/Desktop/IGNNS/IGNNS-final-project/models/bcnf-models/trajectory_LSTM_large\n"
     ]
    }
   ],
   "source": [
    "torch.save(model.state_dict(), os.path.join(get_dir('models', 'bcnf-models', MODEL_NAME, create=True), f\"state_dict.pt\"))\n",
    "\n",
    "with open(os.path.join(get_dir('models', 'bcnf-models', MODEL_NAME, create=True), 'config.json'), 'w') as f:\n",
    "    json.dump({'config_path': config_path}, f)\n",
    "\n",
    "print(f\"Model saved to {get_dir('models', 'bcnf-models', MODEL_NAME)}\")"
   ]
  }
 ],
 "metadata": {
  "kernelspec": {
   "display_name": "bcnf",
   "language": "python",
   "name": "python3"
  },
  "language_info": {
   "codemirror_mode": {
    "name": "ipython",
    "version": 3
   },
   "file_extension": ".py",
   "mimetype": "text/x-python",
   "name": "python",
   "nbconvert_exporter": "python",
   "pygments_lexer": "ipython3",
   "version": "3.11.0rc1"
  }
 },
 "nbformat": 4,
 "nbformat_minor": 2
}
