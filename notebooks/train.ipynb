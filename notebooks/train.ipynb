{
 "cells": [
  {
   "cell_type": "code",
   "execution_count": 1,
   "metadata": {},
   "outputs": [
    {
     "name": "stdout",
     "output_type": "stream",
     "text": [
      "Using device: cuda\n"
     ]
    }
   ],
   "source": [
    "import os\n",
    "import torch\n",
    "import json\n",
    "\n",
    "from bcnf.utils import get_dir, load_config, sub_root_path\n",
    "from bcnf.train import Trainer\n",
    "from bcnf import CondRealNVP_v2\n",
    "\n",
    "device = torch.device(\"cuda\" if torch.cuda.is_available() else \"cpu\")\n",
    "print(f\"Using device: {device}\")"
   ]
  },
  {
   "cell_type": "code",
   "execution_count": 2,
   "metadata": {},
   "outputs": [],
   "source": [
    "MODEL_NAME = 'trajectory_FC_small'"
   ]
  },
  {
   "cell_type": "code",
   "execution_count": 4,
   "metadata": {},
   "outputs": [
    {
     "name": "stdout",
     "output_type": "stream",
     "text": [
      "Loading config from /home/psaegert/Projects/bcnf/configs/runs/trajectory_FC_small.yaml\n"
     ]
    }
   ],
   "source": [
    "config_path_pattern = os.path.join(\"{{BCNF_ROOT}}\", \"configs\", \"runs\", f\"{MODEL_NAME}.yaml\")\n",
    "config_path = sub_root_path(config_path_pattern)\n",
    "print(f'Loading config from {config_path}')\n",
    "\n",
    "config = load_config(config_path, verify=False)"
   ]
  },
  {
   "cell_type": "code",
   "execution_count": 5,
   "metadata": {},
   "outputs": [
    {
     "name": "stdout",
     "output_type": "stream",
     "text": [
      "128,257\n"
     ]
    }
   ],
   "source": [
    "model = CondRealNVP_v2.from_config(config).to(device)\n",
    "\n",
    "print(f'{model.n_params:,}')"
   ]
  },
  {
   "cell_type": "code",
   "execution_count": 6,
   "metadata": {},
   "outputs": [
    {
     "name": "stdout",
     "output_type": "stream",
     "text": [
      "Using dtype: torch.float32\n",
      "Loading data from /home/psaegert/Projects/bcnf/data/bcnf-data/fixed_data_render_2s_15FPS/train...\n"
     ]
    },
    {
     "name": "stderr",
     "output_type": "stream",
     "text": [
      "Loading data from directory:  50%|█████     | 2/4 [00:15<00:14,  7.33s/it, file=fixed_data_render_2s_15FPS_3.pkl]"
     ]
    }
   ],
   "source": [
    "trainer = Trainer(\n",
    "    config={k.lower(): v for k, v in config.to_dict().items()},\n",
    "    project_name=\"bcnf-test\",\n",
    "    parameter_index_mapping=model.parameter_index_mapping,\n",
    "    verbose=True,\n",
    ")"
   ]
  },
  {
   "cell_type": "code",
   "execution_count": null,
   "metadata": {},
   "outputs": [
    {
     "name": "stderr",
     "output_type": "stream",
     "text": [
      "Failed to detect the name of this notebook, you can set it manually with the WANDB_NOTEBOOK_NAME environment variable to enable code saving.\n",
      "\u001b[34m\u001b[1mwandb\u001b[0m: Currently logged in as: \u001b[33mpsaegert\u001b[0m (\u001b[33mbalisticcnf\u001b[0m). Use \u001b[1m`wandb login --relogin`\u001b[0m to force relogin\n"
     ]
    },
    {
     "data": {
      "text/html": [
       "wandb version 0.16.4 is available!  To upgrade, please run:\n",
       " $ pip install wandb --upgrade"
      ],
      "text/plain": [
       "<IPython.core.display.HTML object>"
      ]
     },
     "metadata": {},
     "output_type": "display_data"
    },
    {
     "data": {
      "text/html": [
       "Tracking run with wandb version 0.16.3"
      ],
      "text/plain": [
       "<IPython.core.display.HTML object>"
      ]
     },
     "metadata": {},
     "output_type": "display_data"
    },
    {
     "data": {
      "text/html": [
       "Run data is saved locally in <code>/home/psaegert/Projects/bcnf/notebooks/wandb/run-20240321_153045-qtislj7d</code>"
      ],
      "text/plain": [
       "<IPython.core.display.HTML object>"
      ]
     },
     "metadata": {},
     "output_type": "display_data"
    },
    {
     "data": {
      "text/html": [
       "Syncing run <strong><a href='https://wandb.ai/balisticcnf/bcnf-test/runs/qtislj7d' target=\"_blank\">genial-pyramid-139</a></strong> to <a href='https://wandb.ai/balisticcnf/bcnf-test' target=\"_blank\">Weights & Biases</a> (<a href='https://wandb.me/run' target=\"_blank\">docs</a>)<br/>"
      ],
      "text/plain": [
       "<IPython.core.display.HTML object>"
      ]
     },
     "metadata": {},
     "output_type": "display_data"
    },
    {
     "data": {
      "text/html": [
       " View project at <a href='https://wandb.ai/balisticcnf/bcnf-test' target=\"_blank\">https://wandb.ai/balisticcnf/bcnf-test</a>"
      ],
      "text/plain": [
       "<IPython.core.display.HTML object>"
      ]
     },
     "metadata": {},
     "output_type": "display_data"
    },
    {
     "data": {
      "text/html": [
       " View run at <a href='https://wandb.ai/balisticcnf/bcnf-test/runs/qtislj7d' target=\"_blank\">https://wandb.ai/balisticcnf/bcnf-test/runs/qtislj7d</a>"
      ],
      "text/plain": [
       "<IPython.core.display.HTML object>"
      ]
     },
     "metadata": {},
     "output_type": "display_data"
    },
    {
     "name": "stderr",
     "output_type": "stream",
     "text": [
      "Train: -13.9519 - Val: -17.6715 (avg: -17.1558, min: -17.1006) | lr: 2.00e-04 - Patience: 2/500 - z: (-0.0419 ± 0.1796) ± (0.7029 ± 0.2037):   1%|          | 480/50000 [04:50<8:49:14,  1.56it/s]"
     ]
    }
   ],
   "source": [
    "model = trainer.train(model)"
   ]
  },
  {
   "cell_type": "code",
   "execution_count": null,
   "metadata": {},
   "outputs": [
    {
     "name": "stdout",
     "output_type": "stream",
     "text": [
      "Model saved to /home/psaegert/Projects/bcnf/models/bcnf-models/trajectory_FC_large\n"
     ]
    }
   ],
   "source": [
    "torch.save(model.state_dict(), os.path.join(get_dir('models', 'bcnf-models', MODEL_NAME, create=True), f\"state_dict.pt\"))\n",
    "\n",
    "with open(os.path.join(get_dir('models', 'bcnf-models', MODEL_NAME, create=True), 'config.json'), 'w') as f:\n",
    "    json.dump({'config_path': config_path_pattern}, f)\n",
    "\n",
    "print(f\"Model saved to {get_dir('models', 'bcnf-models', MODEL_NAME)}\")"
   ]
  }
 ],
 "metadata": {
  "kernelspec": {
   "display_name": "bcnf",
   "language": "python",
   "name": "python3"
  },
  "language_info": {
   "codemirror_mode": {
    "name": "ipython",
    "version": 3
   },
   "file_extension": ".py",
   "mimetype": "text/x-python",
   "name": "python",
   "nbconvert_exporter": "python",
   "pygments_lexer": "ipython3",
   "version": "3.11.8"
  }
 },
 "nbformat": 4,
 "nbformat_minor": 2
}
