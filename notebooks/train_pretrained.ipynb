{
 "cells": [
  {
   "cell_type": "code",
   "execution_count": 1,
   "metadata": {},
   "outputs": [
    {
     "name": "stdout",
     "output_type": "stream",
     "text": [
      "Using device: cuda\n"
     ]
    }
   ],
   "source": [
    "import os\n",
    "import torch\n",
    "import json\n",
    "\n",
    "from bcnf.utils import get_dir, load_config\n",
    "from bcnf.train import Trainer\n",
    "from bcnf import CondRealNVP\n",
    "\n",
    "device = torch.device(\"cuda\" if torch.cuda.is_available() else \"cpu\")\n",
    "print(f\"Using device: {device}\")"
   ]
  },
  {
   "cell_type": "code",
   "execution_count": 2,
   "metadata": {},
   "outputs": [],
   "source": [
    "MODEL_NAME_PRETRAINING = 'trajectory_LSTM_large_pretrained'\n",
    "MODEL_NAME = 'videos_CNN_large'"
   ]
  },
  {
   "cell_type": "code",
   "execution_count": 3,
   "metadata": {},
   "outputs": [],
   "source": [
    "config_path_pretrained = os.path.join(get_dir(\"configs\", \"runs\"), f\"{MODEL_NAME_PRETRAINING}.yaml\")\n",
    "config_pretrained = load_config(config_path_pretrained)\n",
    "\n",
    "config_path = os.path.join(get_dir(\"configs\", \"runs\"), f\"{MODEL_NAME}.yaml\")\n",
    "config = load_config(config_path)"
   ]
  },
  {
   "cell_type": "markdown",
   "metadata": {},
   "source": [
    "This is the surgical operation of the model"
   ]
  },
  {
   "cell_type": "code",
   "execution_count": 4,
   "metadata": {},
   "outputs": [],
   "source": [
    "# Specify the filepath of the model state dictionary\n",
    "filepath = get_dir('models', 'bcnf-models', 'trajectory_LSTM_large_pretrained')\n",
    "filename = \"state_dict.pt\"\n",
    "filepath = os.path.join(filepath, filename)\n",
    "\n",
    "# Load the model state dictionary\n",
    "pretrained_model_state_dict = torch.load(filepath)\n",
    "\n",
    "model_pretrained = CondRealNVP.from_config(config_pretrained)\n",
    "model_pretrained.load_state_dict(pretrained_model_state_dict)\n",
    "\n",
    "# Now perform a surgical operation to exchange the feature network of the pre_trained model\n",
    "from bcnf.models.cnn import CNN\n",
    "feature_network = CNN(**config['feature_network'].get('kwargs', {}))\n",
    "\n",
    "model_pretrained.feature_network = feature_network\n",
    "model_pretrained.to(device);"
   ]
  },
  {
   "cell_type": "code",
   "execution_count": 5,
   "metadata": {},
   "outputs": [
    {
     "name": "stdout",
     "output_type": "stream",
     "text": [
      "Using dtype: torch.float32\n",
      "Loading data from /home/computerman/Desktop/IGNNS/IGNNS-final-project/data/bcnf-data/fixed_data_render_2s_15FPS/train...\n"
     ]
    },
    {
     "name": "stderr",
     "output_type": "stream",
     "text": [
      "Loading data from directory: 100%|██████████| 1/1 [00:08<00:00,  8.28s/it, file=fixed_data_render_2s_15FPS_1.pkl]\n"
     ]
    },
    {
     "name": "stdout",
     "output_type": "stream",
     "text": [
      "Using videos data for training. Shapes:\n",
      "X shape: torch.Size([1000, 2, 30, 90, 160])\n",
      "y shape: torch.Size([1000, 19])\n"
     ]
    }
   ],
   "source": [
    "trainer = Trainer(\n",
    "    config={k.lower(): v for k, v in config.to_dict().items()},\n",
    "    project_name=\"bcnf-test\",\n",
    "    parameter_index_mapping=model_pretrained.parameter_index_mapping,\n",
    "    verbose=True,\n",
    ")"
   ]
  },
  {
   "cell_type": "code",
   "execution_count": 6,
   "metadata": {},
   "outputs": [
    {
     "name": "stderr",
     "output_type": "stream",
     "text": [
      "Failed to detect the name of this notebook, you can set it manually with the WANDB_NOTEBOOK_NAME environment variable to enable code saving.\n",
      "\u001b[34m\u001b[1mwandb\u001b[0m: Currently logged in as: \u001b[33michich111222333\u001b[0m (\u001b[33mbalisticcnf\u001b[0m). Use \u001b[1m`wandb login --relogin`\u001b[0m to force relogin\n"
     ]
    },
    {
     "data": {
      "text/html": [
       "Tracking run with wandb version 0.16.4"
      ],
      "text/plain": [
       "<IPython.core.display.HTML object>"
      ]
     },
     "metadata": {},
     "output_type": "display_data"
    },
    {
     "data": {
      "text/html": [
       "Run data is saved locally in <code>/home/computerman/Desktop/IGNNS/IGNNS-final-project/notebooks/wandb/run-20240318_192812-yau1f4v6</code>"
      ],
      "text/plain": [
       "<IPython.core.display.HTML object>"
      ]
     },
     "metadata": {},
     "output_type": "display_data"
    },
    {
     "data": {
      "text/html": [
       "Syncing run <strong><a href='https://wandb.ai/balisticcnf/bcnf-test/runs/yau1f4v6' target=\"_blank\">mild-breeze-113</a></strong> to <a href='https://wandb.ai/balisticcnf/bcnf-test' target=\"_blank\">Weights & Biases</a> (<a href='https://wandb.me/run' target=\"_blank\">docs</a>)<br/>"
      ],
      "text/plain": [
       "<IPython.core.display.HTML object>"
      ]
     },
     "metadata": {},
     "output_type": "display_data"
    },
    {
     "data": {
      "text/html": [
       " View project at <a href='https://wandb.ai/balisticcnf/bcnf-test' target=\"_blank\">https://wandb.ai/balisticcnf/bcnf-test</a>"
      ],
      "text/plain": [
       "<IPython.core.display.HTML object>"
      ]
     },
     "metadata": {},
     "output_type": "display_data"
    },
    {
     "data": {
      "text/html": [
       " View run at <a href='https://wandb.ai/balisticcnf/bcnf-test/runs/yau1f4v6' target=\"_blank\">https://wandb.ai/balisticcnf/bcnf-test/runs/yau1f4v6</a>"
      ],
      "text/plain": [
       "<IPython.core.display.HTML object>"
      ]
     },
     "metadata": {},
     "output_type": "display_data"
    },
    {
     "name": "stderr",
     "output_type": "stream",
     "text": [
      "Train: -45.1096 - Val: 190.3345 (avg: 183.7585, min: -3.3589) | lr: 1.00e-04 - Patience: 500/500 - z: (-0.2822 ± 1.9720) ± (4.1766 ± 2.0255):   1%|          | 521/50000 [1:11:46<113:36:29,  8.27s/it]\n",
      "wandb: WARNING Source type is set to 'repo' but some required information is missing from the environment. A job will not be created from this run. See https://docs.wandb.ai/guides/launch/create-job\n"
     ]
    },
    {
     "data": {
      "application/vnd.jupyter.widget-view+json": {
       "model_id": "f864304d506b4779a1bed71454a8160b",
       "version_major": 2,
       "version_minor": 0
      },
      "text/plain": [
       "VBox(children=(Label(value='0.002 MB of 0.006 MB uploaded\\r'), FloatProgress(value=0.40648379052369077, max=1.…"
      ]
     },
     "metadata": {},
     "output_type": "display_data"
    },
    {
     "data": {
      "text/html": [
       "<style>\n",
       "    table.wandb td:nth-child(1) { padding: 0 10px; text-align: left ; width: auto;} td:nth-child(2) {text-align: left ; width: 100%}\n",
       "    .wandb-row { display: flex; flex-direction: row; flex-wrap: wrap; justify-content: flex-start; width: 100% }\n",
       "    .wandb-col { display: flex; flex-direction: column; flex-basis: 100%; flex: 1; padding: 10px; }\n",
       "    </style>\n",
       "<div class=\"wandb-row\"><div class=\"wandb-col\"><h3>Run history:</h3><br/><table class=\"wandb\"><tr><td>distance_to_last_best_val_loss_fold_-1</td><td>▁▁▁▁▁▂▂▂▂▂▃▃▃▃▃▃▄▄▄▄▄▅▅▅▅▅▆▆▆▆▆▆▇▇▇▇▇███</td></tr><tr><td>epoch</td><td>▁▁▁▁▂▂▂▂▂▃▃▃▃▃▃▄▄▄▄▄▅▅▅▅▅▅▆▆▆▆▆▆▇▇▇▇▇███</td></tr><tr><td>lr_fold_-1</td><td>█████████████████████▁▁▁▁▁▁▁▁▁▁▁▁▁▁▁▁▁▁▁</td></tr><tr><td>time_fold_-1</td><td>▁▁▁▁▂▂▂▂▂▂▃▃▃▃▃▄▄▄▄▄▄▅▅▅▅▅▆▆▆▆▆▇▇▇▇▇▇███</td></tr><tr><td>train_loss_fold_-1</td><td>██▇▆▆▅▅▄▄▄▄▄▄▃▃▃▃▃▃▃▃▂▂▂▂▂▂▂▂▁▁▂▁▁▂▁▁▁▁▁</td></tr><tr><td>val_loss_fold_-1</td><td>▁▁▁▁▂▂▂▃▄▃▄▄▄▄▅▄▄▅▅▅▅▆▆▆▇▇▇▇▇▇▇▇▇▇▇▇▇█▇▇</td></tr><tr><td>z_mean_mean_fold_-1</td><td>▅▄▅▄▅▇▄▆█▅▇▇▂▁▆▄▄▄▃▅▄▂▅▅▅▇▃▄▃▂▂▁▃▂▃▅▇▂▃▅</td></tr><tr><td>z_mean_std_fold_-1</td><td>▁▁▂▂▃▄▃▃▅▄▃▃▅▄▅▅▄▆▄▅▄▃▆▆▅▆▆▆▅▄█▆▇▅▄▇▇▆▄▅</td></tr><tr><td>z_std_mean_fold_-1</td><td>▁▁▂▂▃▄▃▄▄▅▅▅▅▅▅▅▅▆▆▅▅▅▆▆▇▇▇▇▇▆▇▇▇▇▇▇▆█▇▆</td></tr><tr><td>z_std_std_fold_-1</td><td>▁▁▁▂▂▄▂▃▃▃▃▃▃▄▅▄▃▃▄▄▃▅▃▅▃▅▅▆▄▄▅▅▆▅▇▅▇█▅▅</td></tr></table><br/></div><div class=\"wandb-col\"><h3>Run summary:</h3><br/><table class=\"wandb\"><tr><td>distance_to_last_best_val_loss_fold_-1</td><td>500</td></tr><tr><td>epoch</td><td>522</td></tr><tr><td>lr_fold_-1</td><td>0.0001</td></tr><tr><td>time_fold_-1</td><td>1710790799.6399</td></tr><tr><td>train_loss_fold_-1</td><td>-45.10964</td></tr><tr><td>val_loss_fold_-1</td><td>190.33449</td></tr><tr><td>z_mean_mean_fold_-1</td><td>-0.28222</td></tr><tr><td>z_mean_std_fold_-1</td><td>1.97202</td></tr><tr><td>z_std_mean_fold_-1</td><td>4.17657</td></tr><tr><td>z_std_std_fold_-1</td><td>2.02546</td></tr></table><br/></div></div>"
      ],
      "text/plain": [
       "<IPython.core.display.HTML object>"
      ]
     },
     "metadata": {},
     "output_type": "display_data"
    },
    {
     "data": {
      "text/html": [
       " View run <strong style=\"color:#cdcd00\">mild-breeze-113</strong> at: <a href='https://wandb.ai/balisticcnf/bcnf-test/runs/yau1f4v6' target=\"_blank\">https://wandb.ai/balisticcnf/bcnf-test/runs/yau1f4v6</a><br/>Synced 5 W&B file(s), 0 media file(s), 0 artifact file(s) and 0 other file(s)"
      ],
      "text/plain": [
       "<IPython.core.display.HTML object>"
      ]
     },
     "metadata": {},
     "output_type": "display_data"
    },
    {
     "data": {
      "text/html": [
       "Find logs at: <code>./wandb/run-20240318_192812-yau1f4v6/logs</code>"
      ],
      "text/plain": [
       "<IPython.core.display.HTML object>"
      ]
     },
     "metadata": {},
     "output_type": "display_data"
    }
   ],
   "source": [
    "model = trainer.train(model_pretrained)"
   ]
  },
  {
   "cell_type": "code",
   "execution_count": 7,
   "metadata": {},
   "outputs": [
    {
     "name": "stdout",
     "output_type": "stream",
     "text": [
      "Model saved to /home/computerman/Desktop/IGNNS/IGNNS-final-project/models/bcnf-models/videos_CNN_large\n"
     ]
    }
   ],
   "source": [
    "torch.save(model.state_dict(), os.path.join(get_dir('models', 'bcnf-models', MODEL_NAME, create=True), f\"state_dict.pt\"))\n",
    "\n",
    "with open(os.path.join(get_dir('models', 'bcnf-models', MODEL_NAME, create=True), 'config.json'), 'w') as f:\n",
    "    json.dump({'config_path': config_path}, f)\n",
    "\n",
    "print(f\"Model saved to {get_dir('models', 'bcnf-models', MODEL_NAME)}\")"
   ]
  }
 ],
 "metadata": {
  "kernelspec": {
   "display_name": "bcnf",
   "language": "python",
   "name": "python3"
  },
  "language_info": {
   "codemirror_mode": {
    "name": "ipython",
    "version": 3
   },
   "file_extension": ".py",
   "mimetype": "text/x-python",
   "name": "python",
   "nbconvert_exporter": "python",
   "pygments_lexer": "ipython3",
   "version": "3.11.0"
  }
 },
 "nbformat": 4,
 "nbformat_minor": 2
}
